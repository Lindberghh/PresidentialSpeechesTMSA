{
 "cells": [
  {
   "cell_type": "markdown",
   "source": [
    "# Case Study: Sentiment Analysis and Topic Modelling combined on Presidential Speeches since 1989"
   ],
   "metadata": {
    "collapsed": false
   },
   "id": "dedabd3e2360b56d"
  },
  {
   "cell_type": "code",
   "execution_count": 864,
   "id": "initial_id",
   "metadata": {
    "collapsed": true,
    "ExecuteTime": {
     "end_time": "2023-10-09T15:02:36.801892500Z",
     "start_time": "2023-10-09T15:02:36.786893300Z"
    }
   },
   "outputs": [],
   "source": [
    "import string\n",
    "\n",
    "import numpy as np\n",
    "import scipy\n",
    "import pandas as pd\n",
    "import re\n",
    "import pyLDAvis\n",
    "import pyLDAvis.gensim \n",
    "import matplotlib.pyplot as plt\n",
    "%matplotlib inline\n",
    "\n",
    "import matplotlib.pyplot as plt\n",
    "import gensim\n",
    "from gensim.corpora import Dictionary\n",
    "from gensim import models\n",
    "from gensim.models import LdaModel\n",
    "from gensim.matutils import corpus2csc\n",
    "\n",
    "import html\n",
    "\n",
    "import nltk\n",
    "from nltk.tokenize import word_tokenize\n",
    "from nltk.stem import WordNetLemmatizer\n",
    "from nltk.corpus import stopwords"
   ]
  },
  {
   "cell_type": "markdown",
   "source": [
    "## Load Data"
   ],
   "metadata": {
    "collapsed": false
   },
   "id": "538936090a5511c9"
  },
  {
   "cell_type": "code",
   "execution_count": 865,
   "outputs": [],
   "source": [
    "data = pd.read_json('venv/data/presidential_speeches.json') # load data\n",
    "data.sort_values(by=['date'], inplace=True) # sort by data\n",
    "data.reset_index(drop=True, inplace=True) # reset index"
   ],
   "metadata": {
    "collapsed": false,
    "ExecuteTime": {
     "end_time": "2023-10-09T15:02:37.232573400Z",
     "start_time": "2023-10-09T15:02:37.120345500Z"
    }
   },
   "id": "3e53fae33fccddbe"
  },
  {
   "cell_type": "markdown",
   "source": [
    "## Preprocessing the data"
   ],
   "metadata": {
    "collapsed": false
   },
   "id": "72c1e0ebb02a2629"
  },
  {
   "cell_type": "code",
   "execution_count": 866,
   "outputs": [],
   "source": [
    "# sort presidents to their parties\n",
    "president_list = []\n",
    "for i in range(len(data['president'].unique())):\n",
    "    president_list.append(data['president'].unique()[i])\n",
    "parties_list= ['Federalist', 'Democratic-Republican', 'National Republican', 'Democratic', 'Whig', 'Republican', 'Democratic (Union)']\n",
    "sort_party = [0, 0, 1, 1, 1, 2, 3, 3, 4, 4, 3, 4, 4, 5, 3, 3, 6, 5, 5, 5, 5, 3, 5, 5, 5, 5, 3, 5, 5, 5, 3, 3, 5, 5, 3, 3, 5, 5, 3, 5, 3, 5, 3, 5, 3]\n",
    "party = []\n",
    "for i in range(len(sort_party)):\n",
    "    party.append(parties_list[sort_party[i]])\n",
    "data['party'] = pd.Series(dtype='string')\n",
    "for i in range(len(president_list)):\n",
    "    data['party'][data['president'] == president_list[i]] = party[i]\n",
    "# assign each speech its respective era\n",
    "data['era'] = pd.Series(dtype='string')\n",
    "era_list = ['Early Republic', 'Jacksonian Democracy', 'Sectional Conflict', 'Gilded Age', 'Progressive Era', 'Depression and World Conflict', 'Social Change and Soviet Relations', 'Globalization']\n",
    "for i in range(len(data)):\n",
    "    if data['date'][i] < pd.Timestamp('1829-01-01T12'):\n",
    "        data['era'][i] =  era_list[0]\n",
    "    if pd.Timestamp('1829-01-01T12') <= data['date'][i] < pd.Timestamp('1853-01-01T12'):\n",
    "        data['era'][i] = era_list[1]\n",
    "    elif pd.Timestamp('1853-01-01T12') <= data['date'][i] < pd.Timestamp('1881-01-01T12'):\n",
    "        data['era'][i] = era_list[2]\n",
    "    elif pd.Timestamp('1881-01-01T12') <= data['date'][i] < pd.Timestamp('1897-01-01T12'):\n",
    "        data['era'][i] = era_list[3]\n",
    "    elif pd.Timestamp('1897-01-01T12') <= data['date'][i] < pd.Timestamp('1921-01-01T12'):\n",
    "        data['era'][i] = era_list[4]\n",
    "    elif pd.Timestamp('1921-01-01T12') <= data['date'][i] < pd.Timestamp('1961-01-01T12'):\n",
    "        data['era'][i] = era_list[5]\n",
    "    elif pd.Timestamp('1961-01-01T12') <= data['date'][i] < pd.Timestamp('1989-01-01T12'):\n",
    "        data['era'][i] = era_list[6]\n",
    "    elif pd.Timestamp('1989-01-01T12') <= data['date'][i]:\n",
    "        data['era'][i] = era_list[7]"
   ],
   "metadata": {
    "collapsed": false,
    "ExecuteTime": {
     "end_time": "2023-10-09T15:02:37.650685500Z",
     "start_time": "2023-10-09T15:02:37.452665700Z"
    }
   },
   "id": "4efa3a8ba0047788"
  },
  {
   "cell_type": "code",
   "execution_count": 867,
   "outputs": [],
   "source": [
    "# Remove some noise\n",
    "data['transcript'].replace(to_replace='(Applause.)', regex=True, value='', inplace=True)\n",
    "data['transcript'].replace(to_replace='(Laughter.)', regex=True, value='', inplace=True)"
   ],
   "metadata": {
    "collapsed": false,
    "ExecuteTime": {
     "end_time": "2023-10-09T15:02:37.704685700Z",
     "start_time": "2023-10-09T15:02:37.682686800Z"
    }
   },
   "id": "a67fd28aba637c4a"
  },
  {
   "cell_type": "code",
   "execution_count": 868,
   "outputs": [
    {
     "name": "stderr",
     "output_type": "stream",
     "text": [
      "C:\\Users\\Enno\\AppData\\Local\\Temp/ipykernel_10832/1438919703.py:2: SettingWithCopyWarning: \n",
      "A value is trying to be set on a copy of a slice from a DataFrame\n",
      "\n",
      "See the caveats in the documentation: https://pandas.pydata.org/pandas-docs/stable/user_guide/indexing.html#returning-a-view-versus-a-copy\n",
      "  data['transcript'][i] = data['transcript'][i].replace('\\'', '')\n"
     ]
    }
   ],
   "source": [
    "for i in range(len(data)):\n",
    "    data['transcript'][i] = data['transcript'][i].replace('\\'', '')"
   ],
   "metadata": {
    "collapsed": false,
    "ExecuteTime": {
     "end_time": "2023-10-09T15:02:37.966687300Z",
     "start_time": "2023-10-09T15:02:37.750690400Z"
    }
   },
   "id": "d01a03542c285d49"
  },
  {
   "cell_type": "markdown",
   "source": [],
   "metadata": {
    "collapsed": false
   },
   "id": "526bb0a9c1b697d2"
  },
  {
   "cell_type": "markdown",
   "source": [
    "The Following section is code adapted from Srikanth Shenoy and can be found under https://towardsdatascience.com/elegant-text-pre-processing-with-nltk-in-sklearn-pipeline-d6fe18b91eb8 (accessed on 02/10/2023)"
   ],
   "metadata": {
    "collapsed": false
   },
   "id": "df54a559435eb4d9"
  },
  {
   "cell_type": "code",
   "execution_count": 869,
   "outputs": [],
   "source": [
    "import string\n",
    "import re\n",
    "import contractions\n",
    "\n",
    "import nltk\n",
    "from nltk.corpus import stopwords\n",
    "from nltk.tokenize import word_tokenize\n",
    "from nltk.corpus import wordnet\n",
    "from nltk.stem import WordNetLemmatizer\n",
    "\n",
    "from bs4 import BeautifulSoup\n",
    "from textblob import TextBlob\n",
    "from unidecode import unidecode"
   ],
   "metadata": {
    "collapsed": false,
    "ExecuteTime": {
     "end_time": "2023-10-09T15:02:38.213404800Z",
     "start_time": "2023-10-09T15:02:38.191396300Z"
    }
   },
   "id": "d2255a80222eb25a"
  },
  {
   "cell_type": "code",
   "execution_count": 870,
   "outputs": [
    {
     "name": "stderr",
     "output_type": "stream",
     "text": [
      "[nltk_data] Downloading package stopwords to\n",
      "[nltk_data]     C:\\Users\\Enno\\AppData\\Roaming\\nltk_data...\n",
      "[nltk_data]   Package stopwords is already up-to-date!\n",
      "[nltk_data] Downloading package punkt to\n",
      "[nltk_data]     C:\\Users\\Enno\\AppData\\Roaming\\nltk_data...\n",
      "[nltk_data]   Package punkt is already up-to-date!\n",
      "[nltk_data] Downloading package averaged_perceptron_tagger to\n",
      "[nltk_data]     C:\\Users\\Enno\\AppData\\Roaming\\nltk_data...\n",
      "[nltk_data]   Package averaged_perceptron_tagger is already up-to-\n",
      "[nltk_data]       date!\n",
      "[nltk_data] Downloading package wordnet to\n",
      "[nltk_data]     C:\\Users\\Enno\\AppData\\Roaming\\nltk_data...\n",
      "[nltk_data]   Package wordnet is already up-to-date!\n",
      "[nltk_data] Downloading package omw-1.4 to\n",
      "[nltk_data]     C:\\Users\\Enno\\AppData\\Roaming\\nltk_data...\n",
      "[nltk_data]   Package omw-1.4 is already up-to-date!\n"
     ]
    },
    {
     "data": {
      "text/plain": "True"
     },
     "execution_count": 870,
     "metadata": {},
     "output_type": "execute_result"
    }
   ],
   "source": [
    "nltk.download('stopwords')\n",
    "nltk.download('punkt')\n",
    "nltk.download('averaged_perceptron_tagger')\n",
    "nltk.download('wordnet')\n",
    "nltk.download('omw-1.4')"
   ],
   "metadata": {
    "collapsed": false,
    "ExecuteTime": {
     "end_time": "2023-10-09T15:02:38.385475500Z",
     "start_time": "2023-10-09T15:02:38.354407100Z"
    }
   },
   "id": "1f0cb8e2c375fe5a"
  },
  {
   "cell_type": "code",
   "execution_count": 871,
   "outputs": [],
   "source": [
    "def lemmatize_pos_tagged_text(text, lemmatizer, pos_tag_dict):\n",
    "  sentences = nltk.sent_tokenize(text)\n",
    "  new_sentences = []\n",
    "\n",
    "  for sentence in sentences:\n",
    "    sentence = sentence.lower()\n",
    "    new_sentence_words = []\n",
    "    #one pos_tuple for sentence\n",
    "    pos_tuples = nltk.pos_tag(nltk.word_tokenize(sentence)) \n",
    "\n",
    "    for word_idx, word in enumerate(nltk.word_tokenize(sentence)):\n",
    "      nltk_word_pos = pos_tuples[word_idx][1]\n",
    "      wordnet_word_pos = pos_tag_dict.get(\n",
    "                          nltk_word_pos[0].upper(), None)\n",
    "      if wordnet_word_pos is not None:\n",
    "        new_word = lemmatizer.lemmatize(word, wordnet_word_pos)\n",
    "      else:\n",
    "        new_word = lemmatizer.lemmatize(word)\n",
    "\n",
    "      new_sentence_words.append(new_word)\n",
    "\n",
    "    new_sentence = \" \".join(new_sentence_words)\n",
    "    new_sentences.append(new_sentence)\n",
    "\n",
    "  return \" \".join(new_sentences)"
   ],
   "metadata": {
    "collapsed": false,
    "ExecuteTime": {
     "end_time": "2023-10-09T15:02:38.536942100Z",
     "start_time": "2023-10-09T15:02:38.519943400Z"
    }
   },
   "id": "1763ad619dc10d2a"
  },
  {
   "cell_type": "code",
   "execution_count": 872,
   "outputs": [],
   "source": [
    "\n",
    "class NltkPreprocessingSteps:\n",
    "  def __init__(self, X):\n",
    "    self.X = X\n",
    "\n",
    "    self.sw_nltk = stopwords.words('english')\n",
    "    # remove some noise\n",
    "    new_stopwords = ['<*>', 'q', 'yeah', 'guy', 'okay', 'ahead', 'mr', 'st', 'really', 'please', 'yes', 'sir', 'youn', 'yous', 'applause', 'lot']\n",
    "    self.sw_nltk.extend(new_stopwords)\n",
    "    self.sw_nltk.remove('not')\n",
    "\n",
    "    self.pos_tag_dict = {\"J\": wordnet.ADJ,\n",
    "                    \"N\": wordnet.NOUN,\n",
    "                    \"V\": wordnet.VERB,\n",
    "                    \"R\": wordnet.ADV}\n",
    "\n",
    "    # '!\"#$%&'()*+,-./:;<=>?@[\\]^_`{|}~' 32 punctuations in python\n",
    "    # we dont want to replace . first time around\n",
    "    self.remove_punctuations = string.punctuation.replace('.','')\n",
    "\n",
    "  def remove_html_tags(self):\n",
    "    self.X = self.X.apply(\n",
    "            lambda x: BeautifulSoup(x, 'html.parser').get_text())\n",
    "    return self\n",
    "\n",
    "  def replace_diacritics(self):\n",
    "    self.X = self.X.apply(\n",
    "            lambda x: unidecode(x, errors=\"preserve\"))\n",
    "    return self\n",
    "\n",
    "  def to_lower(self):\n",
    "    self.X = np.apply_along_axis(lambda x: x.lower(), self.X)\n",
    "    return self\n",
    "\n",
    "  def expand_contractions(self):\n",
    "    self.X = self.X.apply(\n",
    "            lambda x: \" \".join([contractions.fix(expanded_word) \n",
    "                        for expanded_word in x.split()]))\n",
    "    return self\n",
    "\n",
    "  def remove_numbers(self):\n",
    "    self.X = self.X.apply(lambda x: re.sub(r'\\d+', '', x))\n",
    "    return self\n",
    "\n",
    "  def replace_dots_with_spaces(self):\n",
    "    self.X = self.X.apply(lambda x: re.sub(\"[.]\", \" \", x))\n",
    "    return self\n",
    "\n",
    "  def remove_punctuations_except_periods(self):\n",
    "    self.X = self.X.apply(\n",
    "                 lambda x: re.sub('[%s]' %\n",
    "                  re.escape(self.remove_punctuations), '' , x))\n",
    "    return self\n",
    "\n",
    "  def remove_all_punctuations(self):\n",
    "    self.X = self.X.apply(lambda x: re.sub('[%s]' %\n",
    "                          re.escape(string.punctuation), '' , x))\n",
    "    return self\n",
    "\n",
    "  def remove_double_spaces(self):\n",
    "    self.X = self.X.apply(lambda x: re.sub(' +', ' ', x))\n",
    "    return self\n",
    "\n",
    "  def fix_typos(self):\n",
    "    self.X = self.X.apply(lambda x: str(TextBlob(x).correct()))\n",
    "    return self\n",
    "\n",
    "  def remove_stopwords(self):\n",
    "    # remove stop words from token list in each column\n",
    "    self.X = self.X.apply(\n",
    "            lambda x: \" \".join([ word for word in x.split() \n",
    "                     if word not in self.sw_nltk]) )\n",
    "    return self\n",
    "\n",
    "  def lemmatize(self):\n",
    "    lemmatizer = WordNetLemmatizer()\n",
    "    self.X = self.X.apply(lambda x: lemmatize_pos_tagged_text(\n",
    "                           x, lemmatizer, self.pos_tag_dict))\n",
    "    return self\n",
    "\n",
    "  def get_processed_text(self):\n",
    "    return self.X"
   ],
   "metadata": {
    "collapsed": false,
    "ExecuteTime": {
     "end_time": "2023-10-09T15:02:38.700941600Z",
     "start_time": "2023-10-09T15:02:38.678942Z"
    }
   },
   "id": "30fc2a7a77864004"
  },
  {
   "cell_type": "code",
   "execution_count": 873,
   "outputs": [],
   "source": [
    "# select only data since the start of the 'globalization era' == start of 1989\n",
    "globalization_data = data.loc[data['era'] == 'Globalization']\n",
    "globalization_data.reset_index(drop=True, inplace=True)"
   ],
   "metadata": {
    "collapsed": false,
    "ExecuteTime": {
     "end_time": "2023-10-09T15:02:38.855942200Z",
     "start_time": "2023-10-09T15:02:38.835942300Z"
    }
   },
   "id": "76a1024b006e5ee0"
  },
  {
   "cell_type": "markdown",
   "source": [
    "Preprocessing differently for Topic Modelling(TM) and Sentiment Analysis(SA) respectively, lemmatizing, removing punctuation and stopwords can reduce quality of SA, while TM requires it"
   ],
   "metadata": {
    "collapsed": false
   },
   "id": "b852d12133705090"
  },
  {
   "cell_type": "code",
   "execution_count": 874,
   "outputs": [],
   "source": [
    "# preprocess SA\n",
    "SA_preproc = NltkPreprocessingSteps(globalization_data['transcript'])\n",
    "SA_processed = \\\n",
    "    SA_preproc \\\n",
    "    .remove_html_tags()\\\n",
    "    .replace_diacritics()\\\n",
    "    .expand_contractions()\\\n",
    "    .remove_double_spaces()\\\n",
    "    .get_processed_text()"
   ],
   "metadata": {
    "collapsed": false,
    "ExecuteTime": {
     "end_time": "2023-10-09T15:02:45.562284Z",
     "start_time": "2023-10-09T15:02:39.150658300Z"
    }
   },
   "id": "13574a4db158af70"
  },
  {
   "cell_type": "code",
   "execution_count": 875,
   "outputs": [],
   "source": [
    "# preprocess TM\n",
    "txt_preproc = NltkPreprocessingSteps(SA_processed)\n",
    "TM_processed = \\\n",
    "    txt_preproc \\\n",
    "    .remove_numbers()\\\n",
    "    .remove_punctuations_except_periods()\\\n",
    "    .lemmatize()\\\n",
    "    .remove_all_punctuations()\\\n",
    "    .remove_stopwords()\\\n",
    "    .get_processed_text()"
   ],
   "metadata": {
    "collapsed": false,
    "ExecuteTime": {
     "end_time": "2023-10-09T15:04:23.813099500Z",
     "start_time": "2023-10-09T15:02:45.564282800Z"
    }
   },
   "id": "e97773373cb71c97"
  },
  {
   "cell_type": "code",
   "execution_count": 876,
   "outputs": [],
   "source": [
    "for i in range(len(TM_processed)):\n",
    "    TM_processed[i] = list(TM_processed[i].split(' '))"
   ],
   "metadata": {
    "collapsed": false,
    "ExecuteTime": {
     "end_time": "2023-10-09T15:04:23.850099200Z",
     "start_time": "2023-10-09T15:04:23.842100700Z"
    }
   },
   "id": "841ae1b6f46906c2"
  },
  {
   "cell_type": "code",
   "execution_count": 877,
   "outputs": [],
   "source": [
    "# Look for Bigrams\n",
    "from gensim.models import Phrases\n",
    "bigram = Phrases(TM_processed, min_count=20)\n",
    "for i in range(len(TM_processed)):\n",
    "    for token in bigram[TM_processed[i]]:\n",
    "        if '_' in token:\n",
    "            TM_processed[i].append(token)"
   ],
   "metadata": {
    "collapsed": false,
    "ExecuteTime": {
     "end_time": "2023-10-09T15:04:25.768099400Z",
     "start_time": "2023-10-09T15:04:23.847104800Z"
    }
   },
   "id": "7af755e35ea057dd"
  },
  {
   "cell_type": "markdown",
   "source": [
    "## Topic Modelling"
   ],
   "metadata": {
    "collapsed": false
   },
   "id": "ba66d263db6d80b2"
  },
  {
   "cell_type": "code",
   "execution_count": 878,
   "outputs": [],
   "source": [
    "# Bag of words modell and vectorization\n",
    "dictionary = Dictionary(TM_processed)\n",
    "# filter outlier, no topics above 50% occurrence rate or bellow 5 mentions\n",
    "dictionary.filter_extremes(no_below=5, no_above=0.5)\n",
    "\n",
    "corpus = [dictionary.doc2bow(text) for text in TM_processed]"
   ],
   "metadata": {
    "collapsed": false,
    "ExecuteTime": {
     "end_time": "2023-10-09T15:04:26.391099300Z",
     "start_time": "2023-10-09T15:04:25.906098800Z"
    }
   },
   "id": "313f003818e52d74"
  },
  {
   "cell_type": "code",
   "execution_count": 879,
   "outputs": [],
   "source": [
    "from gensim.models.coherencemodel import CoherenceModel"
   ],
   "metadata": {
    "collapsed": false,
    "ExecuteTime": {
     "end_time": "2023-10-09T15:04:26.411101200Z",
     "start_time": "2023-10-09T15:04:26.393101400Z"
    }
   },
   "id": "fe33ddf831c871a6"
  },
  {
   "cell_type": "code",
   "execution_count": 886,
   "outputs": [],
   "source": [
    "# init parameters, get coherence score to determine best number of topics, 10 keywords per topic\n",
    "chunksize = 100\n",
    "passes = 30\n",
    "iterations = 200\n",
    "eval_every = None\n",
    "coherence_list = []\n",
    "for i in range(3, 11):\n",
    "    num_topics = i\n",
    "    model = gensim.models.LdaModel(\n",
    "    corpus=corpus,\n",
    "    id2word=dictionary,\n",
    "    chunksize=chunksize,\n",
    "    alpha='auto',\n",
    "    eta='auto',\n",
    "    iterations=iterations,\n",
    "    num_topics=num_topics,\n",
    "    passes=passes,\n",
    "    eval_every=eval_every\n",
    "    )\n",
    "    topics_temp = model.show_topics(\n",
    "    num_topics=num_topics,\n",
    "    num_words=10,\n",
    "    log=False,\n",
    "    formatted=False)\n",
    "    cm = CoherenceModel(model=model, corpus=corpus, coherence='u_mass')\n",
    "    coherence = cm.get_coherence()\n",
    "    coherence_list.append(coherence)\n",
    "    if i == 5:\n",
    "        top = topics_temp\n",
    "        mod = model"
   ],
   "metadata": {
    "collapsed": false,
    "ExecuteTime": {
     "end_time": "2023-10-09T15:10:43.256775100Z",
     "start_time": "2023-10-09T15:09:18.523046100Z"
    }
   },
   "id": "d456f7b916edcd1a"
  },
  {
   "cell_type": "code",
   "execution_count": 887,
   "outputs": [
    {
     "data": {
      "text/plain": "<Figure size 576x432 with 1 Axes>",
      "image/png": "[encoded data removed]"
     },
     "metadata": {
      "needs_background": "light"
     },
     "output_type": "display_data"
    }
   ],
   "source": [
    "# plot Coherence score by topic numbers\n",
    "plt.figure(figsize=(8, 6))\n",
    "plt.plot(range(3,11), coherence_list)\n",
    "plt.xlabel('Number of Topics', fontsize=18)\n",
    "plt.ylabel(\"Coherence Score\", fontsize=18)\n",
    "plt.title('Coherence Score', fontsize=18)\n",
    "plt.savefig('coherence.png', dpi = 100)"
   ],
   "metadata": {
    "collapsed": false,
    "ExecuteTime": {
     "end_time": "2023-10-09T15:10:43.508772200Z",
     "start_time": "2023-10-09T15:10:43.260773600Z"
    }
   },
   "id": "bf2cf2a57548ef48"
  },
  {
   "cell_type": "code",
   "execution_count": 882,
   "outputs": [],
   "source": [
    "# assign class 'topics' to keep track of sentiment data per topic\n",
    "class Topic:\n",
    "    def __init__(self, topic_list):\n",
    "        self.topics = topic_list\n",
    "        self.neg = 0\n",
    "        self.neu = 0\n",
    "        self.pos = 0\n",
    "        self.sent_compound = 0\n",
    "        self.sent_avg = 0\n",
    "    def sentiment(self, sentiment, score):\n",
    "        if sentiment == 'neg':\n",
    "            self.neg += 1\n",
    "        elif sentiment == 'pos':\n",
    "            self.pos += 1\n",
    "        elif sentiment == 'neu':\n",
    "            self.neu += 1\n",
    "        self.sent_compound += score\n",
    "        self.sent_avg = self.sent_compound/(self.neg + self.pos + self.neu)"
   ],
   "metadata": {
    "collapsed": false,
    "ExecuteTime": {
     "end_time": "2023-10-09T15:05:48.244515500Z",
     "start_time": "2023-10-09T15:05:48.192516Z"
    }
   },
   "id": "bca490d65907c853"
  },
  {
   "cell_type": "code",
   "execution_count": 888,
   "outputs": [
    {
     "name": "stdout",
     "output_type": "stream",
     "text": [
      "['election', 'vote', 'black', 'truth', 'win', 'justice', 'violence', 'white', 'man', 'republican']\n",
      "['tax', 'tonight', 'cut', 'reform', 'company', 'bill', 'health_care', 'drug', 'education', 'republican']\n",
      "['ukraine', 'putin', 'russia', 'russian', 'nato', 'sanction', 'ukrainian', 'russias', 'europe', 'poland']\n",
      "['afghanistan', 'troop', 'afghan', 'taliban', 'ally', 'mission', 'iraq', 'terrorist', 'partner', 'international']\n",
      "['test', 'governor', 'deal', 'case', 'percent', 'money', 'covid', 'area', 'senator', 'china']\n"
     ]
    }
   ],
   "source": [
    "# print topics found \n",
    "for topic_id, topic in top:\n",
    "    print([word for word, _ in topic])"
   ],
   "metadata": {
    "collapsed": false,
    "ExecuteTime": {
     "end_time": "2023-10-09T15:10:43.577773900Z",
     "start_time": "2023-10-09T15:10:43.510773700Z"
    }
   },
   "id": "b6c1472a54c48336"
  },
  {
   "cell_type": "code",
   "execution_count": 889,
   "outputs": [
    {
     "data": {
      "text/plain": "<IPython.core.display.HTML object>",
      "text/html": "\n<link rel=\"stylesheet\" type=\"text/css\" href=\"https://cdn.jsdelivr.net/gh/bmabey/pyLDAvis@3.4.0/pyLDAvis/js/ldavis.v1.0.0.css\">\n\n\n<div id=\"ldavis_el1083222064479992323743949031\" style=\"background-color:white;\"></div>\n<script type=\"text/javascript\">\n\nvar ldavis_el1083222064479992323743949031_data = {\"mdsDat\": {\"x\": [0.007688919365755057, -0.059320730506863255, -0.17119018360606844, -0.03613991435326431, 0.258961909100441], \"y\": [0.0337832989906351, -0.14870118836013047, -0.0598144108048284, 0.21880403661877337, -0.04407173644444965], \"topics\": [1, 2, 3, 4, 5], \"cluster\": [1, 1, 1, 1, 1], \"Freq\": [34.41318890235833, 23.66656506453752, 22.46464667971254, 17.85780449600476, 1.597794857386869]}, \"tinfo\": {\"Term\": [\"afghanistan\", \"russia\", \"tax\", \"test\", \"tonight\", \"vote\", \"europe\", \"energy\", \"ukraine\", \"election\", \"ally\", \"cut\", \"afghan\", \"nato\", \"taliban\", \"governor\", \"troop\", \"bill\", \"sanction\", \"company\", \"folk\", \"republican\", \"mission\", \"iraq\", \"china\", \"crisis\", \"bipartisan\", \"infrastructure\", \"defend\", \"investment\", \"wealthy\", \"saving\", \"tax_credit\", \"deficit\", \"spending\", \"retirement\", \"diabetes\", \"president_clinton\", \"recession\", \"health_insurance\", \"toxic\", \"pill\", \"premium\", \"pit\", \"cap\", \"grow_economy\", \"congress_pass\", \"citizenship\", \"tax_rate\", \"code\", \"secure_border\", \"social_security\", \"community_college\", \"insurance_company\", \"minimum_wage\", \"disability\", \"addiction\", \"tax_relief\", \"economy_grow\", \"income_tax\", \"health_care\", \"wage\", \"coverage\", \"reward\", \"prescription\", \"budget\", \"tax\", \"mental_health\", \"education\", \"college\", \"medicare\", \"reform\", \"factory\", \"prescription_drug\", \"cut\", \"inflation\", \"cancer\", \"propose\", \"credit\", \"insurance\", \"bipartisan\", \"tonight\", \"affordable\", \"invest\", \"social\", \"bill\", \"drug\", \"company\", \"investment\", \"last_year\", \"raise\", \"energy\", \"student\", \"republican\", \"price\", \"rate\", \"crisis\", \"parent\", \"billion\", \"percent\", \"make_sure\", \"idea\", \"increase\", \"minute\", \"vaccination\", \"probably\", \"dole\", \"pretty\", \"ventilator\", \"coronavirus\", \"fda\", \"discussion\", \"fauci\", \"guideline\", \"approval\", \"cdc\", \"interesting\", \"recommend\", \"gorbachev\", \"delta\", \"appropriate\", \"president_gorbachev\", \"nafta\", \"february\", \"negative\", \"antibody\", \"entry\", \"doctor_nurse\", \"treasury\", \"billion_billion\", \"provision\", \"guidance\", \"bob\", \"nice\", \"fake\", \"area\", \"mike\", \"testing\", \"virus\", \"tremendous\", \"governor\", \"steve\", \"case\", \"hospital\", \"president_trump\", \"everybody\", \"approve\", \"test\", \"happy\", \"appreciate\", \"deal\", \"maybe\", \"nobody\", \"vaccine\", \"senator\", \"secretary\", \"early\", \"team\", \"covid\", \"process\", \"china\", \"available\", \"actually\", \"money\", \"thank_much\", \"percent\", \"incredible\", \"announce\", \"democrat\", \"border\", \"billion\", \"increase\", \"tonight\", \"doctor\", \"afghanistan\", \"afghan\", \"taliban\", \"iraqi\", \"qaeda\", \"al_qaeda\", \"regime\", \"bin\", \"humanitarian\", \"laden\", \"palestinian\", \"osama\", \"osama_bin\", \"nato_ally\", \"kabul\", \"muslim\", \"security_council\", \"national_interest\", \"objective\", \"sovereign\", \"solidarity\", \"g\", \"israeli\", \"pakistan\", \"arab\", \"diplomat\", \"evacuate\", \"diplomatic\", \"counterterrorism\", \"bin_laden\", \"united_nation\", \"commander\", \"soviet\", \"al\", \"human_right\", \"mission\", \"region\", \"international\", \"troop\", \"terrorist\", \"israel\", \"iraq\", \"ally\", \"civilian\", \"middle_east\", \"partner\", \"diplomacy\", \"conflict\", \"brave\", \"east\", \"nuclear\", \"decision\", \"around_world\", \"weapon\", \"agreement\", \"global\", \"defend\", \"risk\", \"choose\", \"stay\", \"mob\", \"ballot\", \"grace\", \"poll\", \"cuban\", \"king\", \"creed\", \"patriotism\", \"voting\", \"van\", \"descendant\", \"trade_deal\", \"loyalty\", \"border_patrol\", \"alien\", \"breach\", \"sanctuary\", \"overturn\", \"massacre\", \"radical\", \"grocery\", \"entitle\", \"irish\", \"carnage\", \"beach\", \"generational\", \"selma\", \"arizona\", \"prejudice\", \"sad\", \"found\", \"capitol\", \"election\", \"constitution\", \"ice\", \"black\", \"church\", \"trump\", \"truth\", \"vote\", \"wealth\", \"thought\", \"hate\", \"mother\", \"assault\", \"former\", \"soul\", \"rule_law\", \"white\", \"spirit\", \"saw\", \"deny\", \"man\", \"win\", \"lie\", \"justice\", \"violence\", \"january_th\", \"light\", \"accept\", \"january\", \"take_place\", \"republican\", \"court\", \"defend\", \"result\", \"idea\", \"nothing\", \"police\", \"party\", \"story\", \"side\", \"gun\", \"ukrainian\", \"putin\", \"russias\", \"ukraine\", \"vladimir\", \"russian\", \"poland\", \"pipe\", \"natos\", \"romania\", \"autocracy\", \"warsaw\", \"pump\", \"belarus\", \"polish\", \"stronger\", \"gdp\", \"tank\", \"iron\", \"rank\", \"invade\", \"sanction\", \"banking\", \"kitchen\", \"devastating\", \"implementation\", \"nato\", \"porch\", \"inch\", \"levee\", \"russia\", \"ammunition\", \"limitation\", \"cyberattacks\", \"invasion\", \"europe\", \"hurricane\", \"european\", \"autocrat\", \"mayor\", \"electric\", \"thank_thank\", \"port\", \"supply\", \"infrastructure\", \"doubt\", \"aggression\", \"folk\", \"come_together\", \"energy\", \"impose\", \"test\", \"west\", \"resolve\", \"bank\", \"saw\", \"china\", \"make_sure\", \"billion\"], \"Freq\": [741.0, 205.0, 789.0, 541.0, 868.0, 485.0, 210.0, 364.0, 133.0, 421.0, 388.0, 586.0, 345.0, 134.0, 319.0, 359.0, 401.0, 447.0, 121.0, 489.0, 228.0, 457.0, 317.0, 329.0, 329.0, 270.0, 188.0, 147.0, 323.0, 304.0, 119.10660757081631, 91.21152268827686, 88.70451015710705, 280.0493249664392, 113.23442732119112, 60.455235183660115, 57.79280188920863, 49.99950965282068, 49.3633359583784, 109.42787072075619, 47.20199348156505, 46.38799692001385, 52.105772067085205, 45.574094934157955, 44.908022984038745, 45.03869781104429, 43.4596743381766, 49.39969825723016, 42.31934639596563, 41.255645326886246, 39.35821427183073, 127.07586816828784, 38.66694406689262, 51.830252506725245, 37.46022809856364, 37.03372872061463, 36.913946546516286, 36.71847092027917, 34.706660841718005, 34.84602840871818, 342.98647311413225, 142.09401159240755, 114.52309107350932, 97.18762106710952, 105.16956303172554, 230.45077102986141, 745.2900328226925, 71.84159789227024, 291.5700591781453, 250.71462529789977, 226.13474749477365, 410.4636493872386, 97.88545811489126, 76.20398818997845, 514.490992962847, 102.70316048172276, 179.2576215265845, 162.89760524157012, 172.74459636556628, 249.7905631869462, 169.90147003725266, 679.9372733853627, 132.01155988299362, 196.7707704805569, 185.86943305734314, 343.23631742921003, 341.9651542925102, 355.8647550802333, 240.21412434331307, 259.5194580514125, 210.90475451316865, 250.4829230683737, 178.51096697207788, 280.6641492256628, 174.52240561400677, 198.33597356594964, 187.72231073593605, 217.9714011225873, 239.04021791728175, 212.94781980303503, 192.71266720252868, 187.83539037162794, 178.54210293576728, 111.00074360693006, 105.52001623487654, 119.76606147619229, 99.45142775859593, 86.2778812024204, 72.12190981088258, 67.57358761279261, 62.28695507790344, 62.20422242221137, 50.124180094192226, 54.03859187969824, 48.0705743689301, 44.15720607364662, 39.75765334338028, 37.21245343572145, 36.78786603062252, 34.10929449866765, 32.93233367580302, 32.312302531544745, 32.58949764968283, 32.942070089993194, 30.38507506656695, 29.58532040577006, 30.858126795334552, 29.00732297063835, 27.952379806640327, 30.320686912429245, 27.756082045672834, 27.256838429531022, 28.791258281065186, 52.174075631996466, 55.38405516435079, 206.23038525414515, 68.37915640881315, 40.50484041678792, 181.2124554870356, 122.09803872049379, 311.0147889562125, 52.058222766314465, 252.45760162427587, 148.5951681939468, 78.47524951878259, 199.74343920734623, 104.15196379060994, 393.8907845734834, 85.9623512510665, 86.02884052508318, 258.7580428820331, 131.80193221267774, 129.30981739568924, 169.97055355499126, 202.71498263779554, 170.57194326958307, 117.85973775030651, 108.819289120257, 207.7086008558885, 146.2122550529292, 200.2949676221991, 95.35333341505661, 138.04449228378252, 220.98186435576838, 138.76651964849134, 229.88776213273377, 141.76764277467964, 176.3113657244473, 162.16521275581636, 168.25234085783927, 174.25053757634416, 157.6272462791218, 149.87651762947948, 120.89493125644346, 740.9972979894438, 344.40577270575676, 318.68384121312266, 137.8897947817573, 134.3871752777414, 134.3871752777414, 135.06721926351267, 87.93844560007845, 86.37091715542262, 79.97855093234443, 72.45466242464907, 55.17567629565442, 55.17567629565442, 53.52432343207544, 52.05884023878961, 49.3727491705439, 48.38630637209163, 47.34122835502283, 44.878844442952825, 44.79007291233263, 42.78664836275458, 42.59074488696846, 39.27431179723931, 37.7356258459013, 36.13032165359895, 35.46215825185974, 33.654645230881215, 33.414757288319294, 33.00152716883921, 31.114516774002993, 118.30357024360414, 81.92261819437134, 119.61809002840279, 156.44870580919599, 72.75603628177016, 297.8083719871537, 154.01976254689365, 184.6346478822063, 354.4467935195389, 261.52681849795437, 99.88641020612617, 286.8582637004133, 311.9888824738293, 110.33071591484281, 110.78680579149422, 218.49872531538102, 102.90763252525427, 147.70879416163493, 116.73635317439967, 121.12697251735756, 154.52547922824118, 179.85604398976872, 140.59884710526973, 160.5690942087111, 144.03283516497197, 148.23275314959838, 152.00527074743664, 134.3840722603123, 137.0049623827516, 118.8787343876896, 74.93917618298275, 63.13547139785458, 53.09023154777144, 48.4937411381373, 44.536445001614304, 54.237523344967165, 34.51685136114981, 33.66316694818791, 30.46404181794158, 28.83768505578195, 28.83639623719391, 28.165433866170925, 27.5369598324411, 26.135085821800754, 25.69066745851568, 24.476037023900435, 25.114243345014458, 24.024344517293127, 23.045847412824163, 39.0043661845094, 21.771009519135813, 21.536813684482816, 19.624469357920308, 19.057890623500576, 18.817589970999258, 18.372283944580698, 18.20290672292259, 18.258889246889208, 17.44548681622041, 17.92587900827333, 46.22567647985872, 121.22959659264004, 363.9380609492031, 109.51774360377146, 36.318148176191094, 209.38087034752783, 58.26073700437386, 114.40723112923516, 186.59298723003909, 354.00459837215953, 90.42717374736387, 41.593077811703346, 83.030447560482, 126.84538033618809, 119.17980317775195, 121.28638142751576, 102.31311966828719, 79.53246588420288, 148.3498647318838, 114.30287096449361, 128.99940588748115, 84.34604114130873, 143.83073757842186, 175.5277200169124, 104.4420943417266, 155.93615820909935, 151.4027089523875, 74.0834006405237, 95.0246457075783, 81.88361239768669, 87.78649541836008, 75.09228100306404, 138.38641791841786, 88.61925146590558, 113.34340100464313, 104.27401020626776, 110.47105966824462, 100.10853145927521, 95.5261668427749, 97.57491042530319, 93.51738517169832, 91.32602655746426, 91.21454801720995, 48.635505613595, 81.73184725481103, 38.03064167757775, 124.54862100960457, 10.475359396897959, 67.13466555019306, 29.592325960510472, 6.629314149474938, 5.643408046943183, 3.9132114893507777, 11.740218296548194, 7.787501588093209, 5.098959145872446, 2.6489127443136424, 6.674625961081807, 2.820379049710545, 1.967219089970824, 13.310944525159808, 9.878776787616651, 7.999069732623609, 9.018519817845322, 51.78009066007922, 2.073480458259456, 2.9883063005529067, 3.769006232709787, 1.7099328594584102, 53.22373930439148, 1.5317326708445245, 6.555501274043283, 1.7139408096263702, 77.9090069945368, 2.611808324207295, 4.271742134190329, 5.435616650386992, 7.4899193544249645, 37.256411015722456, 5.121838426214847, 13.473701705476358, 6.956064897727136, 13.836338241627878, 10.766703180621542, 13.724571550086576, 8.644699281272752, 15.760699585225911, 17.49937673856265, 13.61975734334099, 13.067639631602573, 19.103227311200417, 15.455080450196716, 18.57631388419374, 12.015760909038459, 17.730580459660207, 11.402951762307751, 12.143141671771895, 11.217069780574347, 11.530345507493022, 11.803658956635452, 11.811821100472953, 11.5383625533394], \"Total\": [741.0, 205.0, 789.0, 541.0, 868.0, 485.0, 210.0, 364.0, 133.0, 421.0, 388.0, 586.0, 345.0, 134.0, 319.0, 359.0, 401.0, 447.0, 121.0, 489.0, 228.0, 457.0, 317.0, 329.0, 329.0, 270.0, 188.0, 147.0, 323.0, 304.0, 119.77873072609655, 91.88268095719376, 89.37653584889605, 282.19736647210914, 114.40554088836093, 61.131089399895224, 58.46277534389316, 50.681073694528095, 50.04267090217595, 110.97770253101326, 47.87831742160057, 47.0578960281076, 52.860894697850895, 46.25420556436874, 45.579802131135196, 45.71376732080929, 44.131607414272096, 50.16433250246718, 42.99047553763634, 41.94939117588065, 40.033809411909914, 129.262597386606, 39.337577511286064, 52.73560636198212, 38.13023871769216, 37.7109946318911, 37.58912199988962, 37.39377639631742, 35.37957819714943, 35.52272132978806, 350.0474092036102, 145.2061809708366, 116.87545493492925, 99.25076538002668, 107.55546771887862, 238.47370480143437, 789.4066666359108, 73.64228049237398, 311.99671418421616, 267.750865316639, 240.94918508753986, 452.6026243985332, 102.0678611829531, 78.69527224035434, 586.4597716310153, 108.34804374467737, 196.2073053208455, 179.50431798272044, 191.23481573141194, 285.0909364935919, 188.81332049111137, 868.4356054936407, 143.65844052898458, 225.10653839894022, 215.3834953793508, 447.34150904161976, 448.0923034336525, 489.4231521932787, 304.41408482562065, 344.65923215805634, 266.7716594198401, 364.58294825066315, 226.68766823769772, 457.063295485869, 220.6054810923161, 288.9616931178815, 270.4481485686426, 371.987740474199, 517.4351422962413, 502.91830529346277, 375.1153147682264, 361.85367902985405, 421.37379556804734, 111.64521736234374, 106.15492767043958, 120.53773194782802, 100.09339185960295, 86.91991278035293, 72.7566175240679, 68.20796939152486, 62.922620762647846, 62.85235864702941, 50.75826897797769, 54.75071802121193, 48.71278465857213, 44.791606817358726, 40.403319430008516, 37.85846622853305, 37.42757156961595, 34.7467057660105, 33.57889782748416, 32.95173975042496, 33.23523118032418, 33.59892615310518, 31.0325145449943, 30.219145942255846, 31.530301323668517, 29.652607621626444, 28.596584309810275, 31.02659169966029, 28.412620698893036, 27.909572197861163, 29.497334079490845, 53.62899497537661, 56.97268204855655, 222.5860768003456, 71.65104714675375, 41.796388943607504, 196.6992003012156, 131.583702311876, 359.8748409082983, 55.28142685600871, 302.73561630436996, 171.23000670273714, 87.05911595608622, 245.2477507961524, 119.27558545157082, 541.9465006182044, 97.37642434025435, 100.2806373001547, 365.98919141931935, 165.61793898223976, 164.52465679151024, 229.72541473467624, 295.9700180280861, 238.76853314007013, 150.22212031107884, 136.23062349846535, 326.1057201294587, 208.50531182690236, 329.88656789173734, 116.12056286399476, 201.59548823598445, 428.3248742400393, 207.5394699865328, 502.91830529346277, 229.64045848955206, 342.8871214317498, 331.821887496077, 401.9686308892026, 517.4351422962413, 421.37379556804734, 868.4356054936407, 198.87498026305755, 741.7273383547126, 345.1283241738517, 319.4056308063459, 138.61516468284307, 135.1136040531831, 135.11360406924555, 135.80520530483327, 88.66760334697558, 87.12024029099001, 80.70850320855646, 73.18236816664161, 55.90759721967161, 55.90759721967161, 54.25357405232728, 52.78121944748589, 50.1087030278837, 49.11077704759394, 48.069995951770856, 45.60659822842843, 45.51733198268334, 43.51661106803361, 43.31971460852137, 40.00470541247309, 38.46858360239083, 36.8617497659566, 36.18680814807586, 34.376738043551676, 34.14260906749688, 33.72600345410085, 31.83943220515143, 121.85116485005395, 84.29179807885112, 123.70350804282953, 163.95156624907202, 75.19108165786292, 317.76205798777164, 163.28860242986605, 201.09584759226945, 401.3908695650726, 291.8268008563897, 106.006309286574, 329.2902782298368, 388.0145862011601, 123.08166462629688, 124.07705940185028, 274.72962518202536, 120.47727488987654, 188.24561582859738, 148.42626044699122, 158.1712520137507, 232.05369954246163, 320.06560586900264, 216.80068204250873, 289.7920283112359, 237.1865648408411, 289.45180519483773, 323.15267023189256, 264.51049849314785, 301.87702389810283, 285.5345708287996, 75.63835555296673, 63.84632770908091, 53.79358141817888, 49.20692918483036, 45.23988839070868, 55.24346224434605, 35.24945385722526, 34.37942282129467, 31.172157093783397, 29.536098250183535, 29.535238794144718, 28.885661656882363, 28.24754313284803, 26.854890177238797, 26.404387722208345, 25.178829310450475, 25.84108584166646, 24.735305291016108, 23.748638274886048, 40.29379649231967, 22.497333606733235, 22.260183010735364, 20.32300265927477, 19.757734453137683, 19.527570629064876, 19.072109403901734, 18.90378038452045, 18.977676137845215, 18.148438935731292, 18.652086281741084, 48.756490687218246, 132.0837621978709, 421.154496091236, 123.02653035234995, 39.206647779704326, 254.08187536506188, 65.21974888219601, 135.71845532746556, 235.53915939565795, 485.39190292946864, 107.61431843962615, 46.37489441281261, 102.66964884741769, 169.38195680352706, 161.74126697350226, 167.47006371306063, 140.2404228716543, 105.61130369984225, 237.25340533366958, 170.3194719942019, 203.0041383881925, 122.28852590331542, 253.71926799226222, 339.17895576424297, 165.18606632293714, 337.41567331335347, 359.934292437818, 109.1132071243619, 169.07786295397815, 130.4888331462876, 158.77281127007765, 113.54632201699654, 457.063295485869, 166.31212111739185, 323.15267023189256, 263.7671692611914, 361.85367902985405, 273.5405372956103, 231.92966931958767, 286.4362232589017, 255.87973052021454, 226.88904153697428, 236.67679371760659, 49.482969731611156, 84.4720980768991, 39.96943362937914, 133.86948223717874, 11.326031116974669, 86.22931503559117, 38.72498355034293, 8.894929897924056, 8.207214680317612, 5.99752780635244, 18.23073556992827, 12.683169591214089, 8.81163339489602, 4.97748591232371, 14.24347100857647, 6.086709092475134, 4.301641443440937, 29.19648774862693, 21.93174131306857, 18.063389790576675, 20.606438464000462, 121.26751521801253, 4.948932207941375, 7.47041053604501, 9.479968886766734, 4.335780078615282, 134.9574538998153, 3.891265589857947, 16.67219633174692, 4.388731164576597, 205.90906274412737, 6.8931502995678215, 12.15671901975199, 16.61271873386365, 24.469973966438268, 210.88190078943992, 15.783252787163633, 64.97544474302512, 24.66955967701243, 71.59071425425321, 50.91595401065376, 76.24389231305713, 35.83802298988496, 113.22102167329362, 147.0935204602876, 96.54658857188473, 90.84592227851874, 228.4797383655389, 161.35231652132148, 364.58294825066315, 95.39599173151788, 541.9465006182044, 104.0790446968127, 152.71209722225774, 113.98447005458878, 203.0041383881925, 329.88656789173734, 375.1153147682264, 517.4351422962413], \"Category\": [\"Default\", \"Default\", \"Default\", \"Default\", \"Default\", \"Default\", \"Default\", \"Default\", \"Default\", \"Default\", \"Default\", \"Default\", \"Default\", \"Default\", \"Default\", \"Default\", \"Default\", \"Default\", \"Default\", \"Default\", \"Default\", \"Default\", \"Default\", \"Default\", \"Default\", \"Default\", \"Default\", \"Default\", \"Default\", \"Default\", \"Topic1\", \"Topic1\", \"Topic1\", \"Topic1\", \"Topic1\", \"Topic1\", \"Topic1\", \"Topic1\", \"Topic1\", \"Topic1\", \"Topic1\", \"Topic1\", \"Topic1\", \"Topic1\", \"Topic1\", \"Topic1\", \"Topic1\", \"Topic1\", \"Topic1\", \"Topic1\", \"Topic1\", \"Topic1\", \"Topic1\", \"Topic1\", \"Topic1\", \"Topic1\", \"Topic1\", \"Topic1\", \"Topic1\", \"Topic1\", \"Topic1\", \"Topic1\", \"Topic1\", \"Topic1\", \"Topic1\", \"Topic1\", \"Topic1\", \"Topic1\", \"Topic1\", \"Topic1\", \"Topic1\", \"Topic1\", \"Topic1\", \"Topic1\", \"Topic1\", \"Topic1\", \"Topic1\", \"Topic1\", \"Topic1\", \"Topic1\", \"Topic1\", \"Topic1\", \"Topic1\", \"Topic1\", \"Topic1\", \"Topic1\", \"Topic1\", \"Topic1\", \"Topic1\", \"Topic1\", \"Topic1\", \"Topic1\", \"Topic1\", \"Topic1\", \"Topic1\", \"Topic1\", \"Topic1\", \"Topic1\", \"Topic1\", \"Topic1\", \"Topic1\", \"Topic1\", \"Topic1\", \"Topic2\", \"Topic2\", \"Topic2\", \"Topic2\", \"Topic2\", \"Topic2\", \"Topic2\", \"Topic2\", \"Topic2\", \"Topic2\", \"Topic2\", \"Topic2\", \"Topic2\", \"Topic2\", \"Topic2\", \"Topic2\", \"Topic2\", \"Topic2\", \"Topic2\", \"Topic2\", \"Topic2\", \"Topic2\", \"Topic2\", \"Topic2\", \"Topic2\", \"Topic2\", \"Topic2\", \"Topic2\", \"Topic2\", \"Topic2\", \"Topic2\", \"Topic2\", \"Topic2\", \"Topic2\", \"Topic2\", \"Topic2\", \"Topic2\", \"Topic2\", \"Topic2\", \"Topic2\", \"Topic2\", \"Topic2\", \"Topic2\", \"Topic2\", \"Topic2\", \"Topic2\", \"Topic2\", \"Topic2\", \"Topic2\", \"Topic2\", \"Topic2\", \"Topic2\", \"Topic2\", \"Topic2\", \"Topic2\", \"Topic2\", \"Topic2\", \"Topic2\", \"Topic2\", \"Topic2\", \"Topic2\", \"Topic2\", \"Topic2\", \"Topic2\", \"Topic2\", \"Topic2\", \"Topic2\", \"Topic2\", \"Topic2\", \"Topic2\", \"Topic2\", \"Topic3\", \"Topic3\", \"Topic3\", \"Topic3\", \"Topic3\", \"Topic3\", \"Topic3\", \"Topic3\", \"Topic3\", \"Topic3\", \"Topic3\", \"Topic3\", \"Topic3\", \"Topic3\", \"Topic3\", \"Topic3\", \"Topic3\", \"Topic3\", \"Topic3\", \"Topic3\", \"Topic3\", \"Topic3\", \"Topic3\", \"Topic3\", \"Topic3\", \"Topic3\", \"Topic3\", \"Topic3\", \"Topic3\", \"Topic3\", \"Topic3\", \"Topic3\", \"Topic3\", \"Topic3\", \"Topic3\", \"Topic3\", \"Topic3\", \"Topic3\", \"Topic3\", \"Topic3\", \"Topic3\", \"Topic3\", \"Topic3\", \"Topic3\", \"Topic3\", \"Topic3\", \"Topic3\", \"Topic3\", \"Topic3\", \"Topic3\", \"Topic3\", \"Topic3\", \"Topic3\", \"Topic3\", \"Topic3\", \"Topic3\", \"Topic3\", \"Topic3\", \"Topic3\", \"Topic3\", \"Topic4\", \"Topic4\", \"Topic4\", \"Topic4\", \"Topic4\", \"Topic4\", \"Topic4\", \"Topic4\", \"Topic4\", \"Topic4\", \"Topic4\", \"Topic4\", \"Topic4\", \"Topic4\", \"Topic4\", \"Topic4\", \"Topic4\", \"Topic4\", \"Topic4\", \"Topic4\", \"Topic4\", \"Topic4\", \"Topic4\", \"Topic4\", \"Topic4\", \"Topic4\", \"Topic4\", \"Topic4\", \"Topic4\", \"Topic4\", \"Topic4\", \"Topic4\", \"Topic4\", \"Topic4\", \"Topic4\", \"Topic4\", \"Topic4\", \"Topic4\", \"Topic4\", \"Topic4\", \"Topic4\", \"Topic4\", \"Topic4\", \"Topic4\", \"Topic4\", \"Topic4\", \"Topic4\", \"Topic4\", \"Topic4\", \"Topic4\", \"Topic4\", \"Topic4\", \"Topic4\", \"Topic4\", \"Topic4\", \"Topic4\", \"Topic4\", \"Topic4\", \"Topic4\", \"Topic4\", \"Topic4\", \"Topic4\", \"Topic4\", \"Topic4\", \"Topic4\", \"Topic4\", \"Topic4\", \"Topic4\", \"Topic4\", \"Topic4\", \"Topic4\", \"Topic4\", \"Topic4\", \"Topic5\", \"Topic5\", \"Topic5\", \"Topic5\", \"Topic5\", \"Topic5\", \"Topic5\", \"Topic5\", \"Topic5\", \"Topic5\", \"Topic5\", \"Topic5\", \"Topic5\", \"Topic5\", \"Topic5\", \"Topic5\", \"Topic5\", \"Topic5\", \"Topic5\", \"Topic5\", \"Topic5\", \"Topic5\", \"Topic5\", \"Topic5\", \"Topic5\", \"Topic5\", \"Topic5\", \"Topic5\", \"Topic5\", \"Topic5\", \"Topic5\", \"Topic5\", \"Topic5\", \"Topic5\", \"Topic5\", \"Topic5\", \"Topic5\", \"Topic5\", \"Topic5\", \"Topic5\", \"Topic5\", \"Topic5\", \"Topic5\", \"Topic5\", \"Topic5\", \"Topic5\", \"Topic5\", \"Topic5\", \"Topic5\", \"Topic5\", \"Topic5\", \"Topic5\", \"Topic5\", \"Topic5\", \"Topic5\", \"Topic5\", \"Topic5\", \"Topic5\", \"Topic5\"], \"logprob\": [30.0, 29.0, 28.0, 27.0, 26.0, 25.0, 24.0, 23.0, 22.0, 21.0, 20.0, 19.0, 18.0, 17.0, 16.0, 15.0, 14.0, 13.0, 12.0, 11.0, 10.0, 9.0, 8.0, 7.0, 6.0, 5.0, 4.0, 3.0, 2.0, 1.0, -6.3854, -6.6522, -6.6801, -5.5304, -6.4359, -7.0635, -7.1085, -7.2534, -7.2662, -6.4701, -7.311, -7.3284, -7.2121, -7.3461, -7.3608, -7.3579, -7.3936, -7.2655, -7.4202, -7.4456, -7.4927, -6.3206, -7.5104, -7.2174, -7.5421, -7.5536, -7.5568, -7.5621, -7.6185, -7.6145, -5.3277, -6.2089, -6.4246, -6.5888, -6.5098, -5.7254, -4.5516, -6.8909, -5.4901, -5.6411, -5.7443, -5.1481, -6.5816, -6.832, -4.9222, -6.5336, -5.9766, -6.0723, -6.0136, -5.6448, -6.0302, -4.6434, -6.2825, -5.8834, -5.9404, -5.327, -5.3307, -5.2908, -5.6839, -5.6066, -5.814, -5.642, -5.9807, -5.5282, -6.0033, -5.8754, -5.9304, -5.781, -5.6888, -5.8044, -5.9042, -5.9298, -5.9806, -6.0815, -6.1321, -6.0055, -6.1914, -6.3335, -6.5127, -6.5778, -6.6593, -6.6606, -6.8765, -6.8013, -6.9184, -7.0033, -7.1082, -7.1744, -7.1859, -7.2615, -7.2966, -7.3156, -7.307, -7.2963, -7.3771, -7.4037, -7.3616, -7.4235, -7.4605, -7.3792, -7.4676, -7.4857, -7.431, -6.8364, -6.7767, -5.462, -6.566, -7.0896, -5.5914, -5.9862, -5.0512, -6.8387, -5.2598, -5.7898, -6.4282, -5.494, -6.1452, -4.8149, -6.3371, -6.3363, -5.2351, -5.9097, -5.9288, -5.6554, -5.4792, -5.6519, -6.0215, -6.1013, -5.4549, -5.806, -5.4912, -6.2334, -5.8634, -5.3929, -5.8582, -5.3534, -5.8368, -5.6188, -5.7024, -5.6656, -5.6305, -5.7308, -5.7812, -5.9961, -4.1309, -4.8971, -4.9747, -5.8124, -5.8382, -5.8382, -5.8331, -6.2623, -6.2803, -6.3571, -6.4559, -6.7284, -6.7284, -6.7588, -6.7865, -6.8395, -6.8597, -6.8815, -6.9349, -6.9369, -6.9827, -6.9873, -7.0683, -7.1083, -7.1518, -7.1704, -7.2228, -7.2299, -7.2423, -7.3012, -5.9656, -6.3331, -5.9546, -5.6862, -6.4518, -5.0425, -5.7018, -5.5205, -4.8683, -5.1724, -6.1349, -5.0799, -4.9959, -6.0354, -6.0313, -5.3521, -6.1051, -5.7437, -5.979, -5.9421, -5.6985, -5.5467, -5.793, -5.6602, -5.7689, -5.7401, -5.715, -5.8382, -5.8189, -5.9608, -6.1927, -6.3641, -6.5374, -6.628, -6.7131, -6.516, -6.968, -6.993, -7.0929, -7.1477, -7.1478, -7.1713, -7.1939, -7.2461, -7.2633, -7.3117, -7.286, -7.3303, -7.3719, -6.8457, -7.4288, -7.4396, -7.5326, -7.5619, -7.5746, -7.5986, -7.6078, -7.6047, -7.6503, -7.6232, -6.6759, -5.7117, -4.6124, -5.8133, -6.9171, -5.1652, -6.4445, -5.7696, -5.2805, -4.6401, -6.0049, -6.7815, -6.0902, -5.6664, -5.7288, -5.7112, -5.8814, -6.1332, -5.5098, -5.7705, -5.6496, -6.0745, -5.5408, -5.3416, -5.8608, -5.46, -5.4895, -6.2042, -5.9553, -6.1041, -6.0345, -6.1907, -5.5794, -6.0251, -5.779, -5.8624, -5.8046, -5.9031, -5.95, -5.9288, -5.9713, -5.995, -5.9962, -4.2112, -3.6921, -4.4572, -3.2709, -5.7466, -3.8889, -4.7081, -6.2041, -6.3651, -6.7312, -5.6326, -6.0431, -6.4665, -7.1214, -6.1973, -7.0587, -7.419, -5.507, -5.8052, -6.0163, -5.8963, -4.1486, -7.3664, -7.0009, -6.7688, -7.5591, -4.1211, -7.6692, -6.2153, -7.5568, -3.74, -7.1355, -6.6436, -6.4026, -6.082, -4.4778, -6.4621, -5.4948, -6.156, -5.4683, -5.7191, -5.4764, -5.9386, -5.3381, -5.2334, -5.4841, -5.5254, -5.1457, -5.3576, -5.1737, -5.6094, -5.2203, -5.6617, -5.5988, -5.6781, -5.6506, -5.6272, -5.6265, -5.6499], \"loglift\": [30.0, 29.0, 28.0, 27.0, 26.0, 25.0, 24.0, 23.0, 22.0, 21.0, 20.0, 19.0, 18.0, 17.0, 16.0, 15.0, 14.0, 13.0, 12.0, 11.0, 10.0, 9.0, 8.0, 7.0, 6.0, 5.0, 4.0, 3.0, 2.0, 1.0, 1.0611, 1.0594, 1.0592, 1.0591, 1.0564, 1.0556, 1.0552, 1.0532, 1.0531, 1.0527, 1.0525, 1.0524, 1.0523, 1.0519, 1.0519, 1.0519, 1.0514, 1.0514, 1.051, 1.0501, 1.0497, 1.0497, 1.0495, 1.0494, 1.049, 1.0486, 1.0486, 1.0485, 1.0475, 1.0475, 1.0464, 1.0451, 1.0464, 1.0457, 1.0443, 1.0325, 1.0092, 1.042, 0.999, 1.001, 1.0033, 0.969, 1.0249, 1.0346, 0.9358, 1.0132, 0.9764, 0.9697, 0.965, 0.9345, 0.9612, 0.822, 0.9822, 0.9322, 0.9194, 0.8018, 0.7964, 0.7481, 0.8299, 0.783, 0.8317, 0.6914, 0.8278, 0.5791, 0.8324, 0.6904, 0.7016, 0.5322, 0.2945, 0.2073, 0.4007, 0.4111, 0.208, 1.4353, 1.4351, 1.4347, 1.4347, 1.4337, 1.4323, 1.4318, 1.431, 1.4307, 1.4285, 1.428, 1.4278, 1.4268, 1.425, 1.4239, 1.4239, 1.4226, 1.4217, 1.4215, 1.4215, 1.4214, 1.42, 1.4199, 1.4196, 1.4191, 1.4183, 1.4181, 1.4177, 1.4174, 1.4169, 1.4136, 1.4128, 1.3648, 1.3944, 1.4097, 1.3591, 1.3663, 1.2952, 1.381, 1.2595, 1.2993, 1.3373, 1.2359, 1.3055, 1.122, 1.3164, 1.2878, 1.0944, 1.2127, 1.2003, 1.1398, 1.0626, 1.1048, 1.1985, 1.2164, 0.99, 1.0862, 0.9421, 1.2441, 1.0624, 0.7793, 1.0386, 0.6583, 0.9588, 0.776, 0.7251, 0.5702, 0.3527, 0.4578, -0.3158, 0.9434, 1.4922, 1.4911, 1.491, 1.488, 1.4878, 1.4878, 1.4878, 1.485, 1.4846, 1.4841, 1.4832, 1.48, 1.48, 1.4797, 1.4794, 1.4784, 1.4784, 1.478, 1.4771, 1.4771, 1.4763, 1.4763, 1.4748, 1.474, 1.4732, 1.473, 1.472, 1.4717, 1.4715, 1.4702, 1.4637, 1.4647, 1.4596, 1.4464, 1.4603, 1.4284, 1.4348, 1.4078, 1.3688, 1.3836, 1.4338, 1.3553, 1.2752, 1.3839, 1.3799, 1.2642, 1.3356, 1.2507, 1.2531, 1.2264, 1.0866, 0.9169, 1.0602, 0.9028, 0.9944, 0.824, 0.739, 0.816, 0.7032, 0.617, 1.7134, 1.7115, 1.7096, 1.7081, 1.7071, 1.7044, 1.7017, 1.7017, 1.6998, 1.6988, 1.6988, 1.6975, 1.6973, 1.6956, 1.6953, 1.6944, 1.6942, 1.6936, 1.6927, 1.6902, 1.6899, 1.6897, 1.6878, 1.6867, 1.6857, 1.6853, 1.6849, 1.6841, 1.6832, 1.683, 1.6694, 1.637, 1.5767, 1.6064, 1.6462, 1.5292, 1.6099, 1.5519, 1.4898, 1.4071, 1.5487, 1.6139, 1.5104, 1.4335, 1.4174, 1.4001, 1.4074, 1.4391, 1.2532, 1.3239, 1.2693, 1.3513, 1.1551, 1.064, 1.2643, 0.9509, 0.8568, 1.3355, 1.1465, 1.2567, 1.1302, 1.3092, 0.528, 1.0932, 0.675, 0.7947, 0.5362, 0.7175, 0.8357, 0.6458, 0.7162, 0.8127, 0.7692, 4.1193, 4.1036, 4.0868, 4.0644, 4.0585, 3.8862, 3.8676, 3.8426, 3.762, 3.7096, 3.6965, 3.6488, 3.5895, 3.5058, 3.3786, 3.3673, 3.3542, 3.3511, 3.339, 3.322, 3.3102, 3.2856, 3.2666, 3.2203, 3.2142, 3.2061, 3.2061, 3.2042, 3.2031, 3.1963, 3.1647, 3.1661, 3.0907, 3.0194, 2.9527, 2.4031, 3.0111, 2.5633, 2.8706, 2.4929, 2.5828, 2.4218, 2.7145, 2.1647, 2.0076, 2.178, 2.1975, 1.655, 1.7909, 1.1597, 2.0647, 0.7167, 1.9253, 1.6048, 1.8179, 1.2683, 0.8062, 0.6784, 0.3333]}, \"token.table\": {\"Topic\": [1, 3, 4, 1, 2, 4, 1, 1, 2, 5, 3, 3, 1, 3, 5, 1, 2, 3, 3, 4, 3, 4, 1, 2, 3, 5, 2, 3, 5, 1, 2, 3, 4, 2, 2, 3, 4, 2, 2, 2, 3, 3, 2, 3, 5, 4, 1, 2, 3, 5, 1, 4, 5, 4, 5, 4, 5, 1, 2, 3, 5, 4, 1, 2, 3, 5, 3, 5, 4, 3, 5, 1, 2, 4, 5, 1, 2, 3, 4, 5, 2, 3, 3, 1, 2, 5, 1, 3, 4, 2, 1, 2, 3, 4, 4, 2, 3, 4, 4, 1, 3, 1, 2, 3, 1, 1, 4, 4, 2, 3, 4, 2, 1, 2, 3, 4, 5, 1, 3, 4, 1, 4, 1, 1, 3, 1, 1, 4, 1, 2, 3, 4, 5, 2, 3, 1, 1, 2, 4, 5, 1, 3, 1, 1, 4, 2, 3, 1, 2, 4, 1, 2, 1, 2, 3, 4, 5, 1, 2, 4, 1, 2, 3, 5, 4, 1, 2, 5, 3, 5, 1, 2, 3, 4, 5, 1, 2, 3, 4, 1, 3, 4, 5, 1, 5, 2, 1, 2, 3, 4, 5, 1, 3, 4, 4, 1, 3, 5, 1, 1, 3, 3, 3, 1, 2, 1, 2, 3, 4, 2, 2, 1, 3, 4, 5, 1, 2, 5, 1, 2, 3, 4, 5, 1, 2, 3, 5, 1, 1, 2, 1, 3, 4, 5, 1, 2, 5, 1, 2, 3, 4, 5, 4, 2, 1, 2, 3, 5, 1, 2, 3, 4, 5, 3, 1, 2, 4, 5, 1, 2, 2, 4, 2, 2, 2, 1, 2, 4, 5, 1, 3, 4, 5, 1, 4, 3, 3, 5, 4, 1, 2, 3, 5, 2, 1, 2, 4, 5, 4, 4, 1, 2, 2, 1, 4, 1, 2, 4, 1, 4, 1, 2, 1, 2, 2, 3, 4, 5, 2, 3, 3, 1, 5, 3, 4, 5, 1, 2, 3, 4, 5, 2, 5, 1, 3, 4, 5, 1, 4, 5, 1, 1, 2, 3, 4, 2, 3, 4, 1, 3, 1, 2, 3, 4, 5, 1, 2, 4, 1, 2, 2, 3, 3, 5, 1, 2, 3, 5, 1, 4, 5, 1, 3, 4, 5, 1, 3, 3, 4, 1, 3, 5, 3, 4, 3, 1, 2, 3, 4, 1, 2, 3, 4, 1, 3, 4, 3, 4, 4, 5, 3, 1, 3, 4, 5, 1, 5, 1, 2, 3, 4, 1, 2, 3, 4, 5, 1, 3, 5, 4, 1, 2, 3, 4, 5, 1, 2, 3, 4, 4, 1, 2, 3, 4, 5, 1, 2, 4, 5, 1, 2, 1, 2, 1, 2, 3, 2, 4, 1, 2, 1, 3, 4, 1, 2, 3, 4, 5, 1, 3, 4, 3, 2, 3, 1, 3, 5, 3, 3, 5, 2, 2, 4, 1, 2, 1, 2, 3, 4, 1, 2, 3, 3, 3, 3, 4, 3, 3, 1, 2, 3, 4, 5, 1, 2, 3, 5, 1, 2, 3, 4, 4, 1, 2, 3, 4, 5, 1, 1, 4, 5, 1, 3, 5, 1, 3, 4, 4, 5, 4, 4, 5, 1, 3, 4, 5, 4, 1, 1, 5, 1, 5, 1, 2, 2, 3, 2, 1, 2, 3, 5, 2, 2, 3, 4, 1, 3, 2, 1, 3, 5, 2, 5, 3, 3, 4, 1, 2, 3, 5, 1, 3, 5, 1, 2, 5, 1, 2, 1, 2, 4, 3, 2, 3, 1, 2, 3, 4, 5, 1, 3, 4, 5, 1, 2, 3, 4, 5, 1, 1, 5, 1, 2, 3, 4, 5, 3, 5, 1, 3, 4, 2, 3, 4, 5, 1, 3, 5, 3, 5, 4, 3, 5, 4, 1, 1, 2, 3, 4, 5, 2, 3, 4, 1, 3, 4, 1, 2, 3, 4, 5, 1, 2, 3, 4, 1, 2, 1, 2, 3, 1, 3, 4, 3, 2, 3, 1, 2, 1, 3, 4, 5, 1, 2, 3, 4, 5, 2, 4, 1, 2, 4, 3, 4, 5, 1, 2, 3, 4, 1, 2, 3, 5, 2, 3, 4, 5, 3, 3, 5, 1, 2, 5, 1, 1, 1, 2, 3, 5, 1, 3, 1, 2, 3, 4, 5, 2, 3, 2, 3, 4, 2, 3, 4, 5, 4, 5, 1, 2, 3, 5, 1, 4, 2, 2, 3, 4, 1, 2, 3, 5, 3, 4, 1, 2, 3, 4, 5, 1, 3, 5, 5, 2, 3, 2, 1, 2, 3, 4, 2, 1, 3, 4, 1, 2, 5, 1, 4, 5, 4, 1, 5, 3, 5, 1, 4, 1, 1, 2, 3, 4, 1, 2, 3, 4, 5, 1, 2, 3, 4, 5, 1, 2, 3, 4, 5], \"Freq\": [0.19158727530326797, 0.17626029327900652, 0.6284062629947189, 0.07440642710436675, 0.684539129360174, 0.2381005667339736, 0.9843273274674692, 0.9188461152295999, 0.0696095541840606, 0.01392191083681212, 0.9967307111737276, 0.9990193992898712, 0.26418356925718606, 0.5834053821096192, 0.14309943334764247, 0.2824780570727473, 0.10961835050584225, 0.6071170181862032, 0.9515005167014254, 0.042695536005833194, 0.9917580166933092, 0.9846848286556472, 0.1623650301830113, 0.005154445402635279, 0.8040934828111036, 0.028349449714494036, 0.4352146507219044, 0.14507155024063478, 0.4352146507219044, 0.25664422633474737, 0.5132884526694947, 0.20706522806553482, 0.020414881640263994, 0.9927481093385432, 0.8575932733912466, 0.0997201480687496, 0.03988805922749984, 0.9827600706116585, 0.9853676059874622, 0.8719303251060283, 0.12575918150567716, 0.9766221144837659, 0.9254846617597609, 0.06289701584775073, 0.004492643989125053, 0.9484828315783335, 0.2675268336500333, 0.05073784776121322, 0.6503669576664604, 0.03228772130259023, 0.21639499093162154, 0.7357429691675132, 0.04327899818632431, 0.32911453171955624, 0.6582290634391125, 0.6891083676633648, 0.28375050433197374, 0.13778782676708057, 0.8181152214295409, 0.01722347834588507, 0.025835217518827606, 0.9867443008948417, 0.5965724977045893, 0.2456474990548309, 0.06141187476370773, 0.09650437462868357, 0.40412758065076565, 0.40412758065076565, 0.9729832942824113, 0.4018092738440945, 0.6027139107661418, 0.766752007285977, 0.1877760017843209, 0.02235428592670487, 0.02235428592670487, 0.461893637411987, 0.336274028910819, 0.13528265530895017, 0.04445001531579791, 0.023191312338677172, 0.9669125210529802, 0.9924707184836935, 0.9736354530525951, 0.9003602052960187, 0.04236989201393029, 0.05296236501741286, 0.09445774109435032, 0.07871478424529194, 0.8225694953633007, 0.983139693975374, 0.28111646361565706, 0.4179430609507114, 0.2214103120512697, 0.07960820208584979, 0.9681663126679486, 0.04042411350882773, 0.7882702134221407, 0.16843380628678217, 0.9531817267627609, 0.9644669217996592, 0.029353341098250496, 0.9123003840621149, 0.08154640304465832, 0.005096650190291145, 0.9872794065786622, 0.0757095333567141, 0.9160853536162407, 0.9616487176232218, 0.8324094900899918, 0.06936745750749931, 0.09579315560559429, 0.9823268939516601, 0.21522549539907573, 0.606269001124157, 0.10609707519672748, 0.03637614006744942, 0.03637614006744942, 0.32794811185569717, 0.4538271850932375, 0.2153194673800032, 0.09199667436373567, 0.8893011855161115, 0.9767896343002288, 0.09749624394855765, 0.8937155695284451, 0.977368177480809, 0.9374386137022204, 0.06349185829855676, 0.5949713153781361, 0.09916188589635601, 0.17353330031862302, 0.030988089342611255, 0.09296426802783377, 0.023727100923023277, 0.9728111378439543, 0.9914184468733691, 0.7273869215312715, 0.23497049431487704, 0.018388995207251246, 0.02043221689694583, 0.21248834839490263, 0.7862068890611398, 0.9743583458529059, 0.10566826490812829, 0.8941160876841624, 0.9969509517233818, 0.9784734810014208, 0.3848186143620009, 0.07816628104228143, 0.5351383855971575, 0.9839533892212576, 0.017112232856021873, 0.2637181585341692, 0.6378299648268279, 0.021465431508595166, 0.05213033366373112, 0.024531921724108764, 0.9046469877272629, 0.09412512011035105, 0.9929231851864811, 0.6951424921745532, 0.09243916119342462, 0.1700880565959013, 0.04067323092510683, 0.994697414179343, 0.8764454526360845, 0.10912939488075761, 0.011936027565082864, 0.6019484324149682, 0.3009742162074841, 0.05191410141462733, 0.7076711719151831, 0.1393483774813681, 0.09289891832091207, 0.008196963381256948, 0.0999795023683271, 0.30618722600300174, 0.56238470082184, 0.03436795393911244, 0.14544209078103257, 0.47036591061099897, 0.34967992038844004, 0.03403963826790124, 0.9922133700268734, 0.007087238357334809, 0.9785100270788567, 0.41287210145720027, 0.488213725810704, 0.018081989844840888, 0.05123230456038252, 0.02712298476726133, 0.16354764154907334, 0.147192877394166, 0.686900094506108, 0.9818779594817149, 0.3164567348093047, 0.21097115653953646, 0.42194231307907293, 0.9920842734343178, 0.141105449268661, 0.8549330161571813, 0.9672032928900648, 0.9665342193023959, 0.9811462243615864, 0.9864387166149778, 0.22627280686830104, 0.6084224362458761, 0.12067883032976055, 0.045254561373660206, 0.9779915604740785, 0.989076283266166, 0.07250385646498612, 0.38323466988635524, 0.3935923636670675, 0.14500771292997225, 0.7632356043148123, 0.2320950375694166, 0.004463366107104166, 0.033284046248621954, 0.7855034914674782, 0.0732249017469683, 0.08653852024641709, 0.026627236998897567, 0.13276748924118242, 0.08851165949412163, 0.7649936284849083, 0.012644522784874518, 0.9892712627879772, 0.9359072923684406, 0.06410323920331785, 0.09260259681889116, 0.04273966007025746, 0.8642909036429841, 0.0023744255594587474, 0.7463279582672417, 0.01964020942808531, 0.2160423037089384, 0.6857150099848238, 0.13988586203690406, 0.10422868151769323, 0.01645716023963577, 0.05211434075884661, 0.9883117308330356, 0.9831812161189071, 0.14700170988572742, 0.25132550399817916, 0.422037167091282, 0.17545365373457789, 0.07695214738082623, 0.2000755831901482, 0.38476073690413115, 0.1385138652854872, 0.2000755831901482, 0.9890409019298344, 0.05708513107480716, 0.815501872497245, 0.11009275278712809, 0.0163100374499449, 0.960145523421309, 0.03918961320086975, 0.965374948525764, 0.017552271791377527, 0.9850611734157704, 0.9853372165452534, 0.9821742471656395, 0.3545172126834729, 0.31074965556205647, 0.2538518313042152, 0.08315835853069117, 0.1194243290804949, 0.10748189617244541, 0.7225171909369942, 0.04776973163219796, 0.04102017950451692, 0.9434641286038892, 0.9926196510893338, 0.2324693987512096, 0.4649387975024192, 0.9437865324072436, 0.40421236938302796, 0.065641324942543, 0.5113113732366508, 0.01727403287961658, 0.9885760269318927, 0.02222995077902243, 0.864189336534497, 0.08891980311608973, 0.025008694626400235, 0.9852476559980314, 0.9778936644036612, 0.9843861627986111, 0.9674100272332061, 0.9862884351412327, 0.612649840833184, 0.3844905897642741, 0.09242483548740758, 0.8831706502130059, 0.03080827849580253, 0.18505955960009968, 0.8084180761478039, 0.9798672722085169, 0.019997291269561568, 0.9821792802886635, 0.009010819085217097, 0.870174584870925, 0.04672078308031812, 0.04672078308031812, 0.040880685195278356, 0.026598899176639986, 0.9708598199473595, 0.9871414462672704, 0.6335829587759567, 0.31679147938797836, 0.025505878636164835, 0.918211630901934, 0.025505878636164835, 0.5195470182976623, 0.1022512748777314, 0.07185224721137883, 0.3039902766635258, 0.0027635479696684166, 0.461278008509772, 0.461278008509772, 0.1362740694240818, 0.5555788984212565, 0.17820455232379925, 0.12579144869915243, 0.29990049904097416, 0.29990049904097416, 0.4198606986573638, 0.9852848737309513, 0.42480097690624763, 0.3749639907887549, 0.16612328705830914, 0.03559784722678053, 0.6183579362887422, 0.09580193379121359, 0.2830511680194947, 0.9506401448531913, 0.0461475798472423, 0.6866379952288112, 0.08837914790073807, 0.006798395992364467, 0.101975939885467, 0.11557273187019594, 0.876913181018013, 0.035076527240720516, 0.0876913181018013, 0.9860510495141963, 0.99001766598145, 0.07956404963886024, 0.9199593239493216, 0.5338137407498655, 0.43675669697716274, 0.04086641045763054, 0.3677976941186749, 0.28606487320341384, 0.28606487320341384, 0.875141172713833, 0.10217384249958456, 0.022211704891214032, 0.7883997881946909, 0.09854997352433637, 0.08212497793694697, 0.02956499205730091, 0.1275470391223788, 0.8715714340029219, 0.9955620679436439, 0.9841065483929677, 0.09119202946317129, 0.45596014731585643, 0.45596014731585643, 0.9433400773312772, 0.05660040463987663, 0.9748853190614963, 0.10077292120741936, 0.2456339954430847, 0.10077292120741936, 0.5542510666408065, 0.11914231413969195, 0.15580148772113564, 0.045823966976804596, 0.678194711256708, 0.4534466300796612, 0.08298369700804258, 0.46233774047338005, 0.9851989124983527, 0.9774912325580515, 0.5354458072551502, 0.4015843554413627, 0.9912214552322245, 0.7543683027784595, 0.18569065914546695, 0.037718415138922975, 0.020309915844035447, 0.4557125795589601, 0.4557125795589601, 0.12712936670424252, 0.07869913176929298, 0.16345204290545465, 0.6295930541543439, 0.14194643568763723, 0.11828869640636436, 0.13011756604700078, 0.5618713079302307, 0.04731547856254574, 0.4935542221755165, 0.08225903702925275, 0.329036148117011, 0.9912366490889549, 0.5145084522055556, 0.1519532734493092, 0.14662157964407027, 0.15461912035192865, 0.031990162831433515, 0.23254047856467625, 0.07488591682591268, 0.12218228534754176, 0.5675564222595488, 0.9684765810055844, 0.066417925905838, 0.797015110870056, 0.066417925905838, 0.06037993264167091, 0.012075986528334182, 0.13968291983350198, 0.628573139250759, 0.041904875950050595, 0.19555608776690278, 0.9379571045981806, 0.05810353745298464, 0.9776992173328466, 0.013579155796289535, 0.032238030295714364, 0.07253556816535732, 0.8946053407060736, 0.9490440504061891, 0.04186959045909658, 0.9703584673030716, 0.9942208239852345, 0.05979316763089183, 0.9378086291581982, 0.9915604252855589, 0.38522161546828976, 0.5159634970817699, 0.03968949977552076, 0.046693529147671484, 0.011673382286917871, 0.20663357928139836, 0.04132671585627967, 0.7497847019639312, 0.9778740426135806, 0.9929222342685723, 0.9777408770151678, 0.05186819844123911, 0.548320954950242, 0.39271635962652474, 0.9953261318400386, 0.24368803277394002, 0.7310640983218201, 0.9667279767645883, 0.9696247342295982, 0.01864662950441535, 0.21273407088369056, 0.7840770041141738, 0.2230016823213241, 0.24128050874110477, 0.16816520306198213, 0.3655765283956133, 0.19822997905526962, 0.13358976849376866, 0.6679488424688433, 0.9866993318512777, 0.9837661200837252, 0.9837661200837252, 0.9702730456582167, 0.9878190575656727, 0.9838435377774429, 0.5860408187702639, 0.23925519665391506, 0.0430121701849735, 0.11290694673555543, 0.018817824455925905, 0.11283821313213158, 0.07279884718202037, 0.793507434284022, 0.014559769436404075, 0.4084678909281909, 0.1326647850877885, 0.1187000708680213, 0.3421354983842967, 0.9889636651764947, 0.4235280318057031, 0.45733073856953854, 0.031814312248315726, 0.07158220255871038, 0.015907156124157863, 0.9775192663208802, 0.11242359540499415, 0.11242359540499415, 0.7869651678349591, 0.9945041632157107, 0.20658498123310776, 0.774693679624154, 0.5518914435376627, 0.03449321522110392, 0.413918582653247, 0.49145324168421206, 0.49145324168421206, 0.9754723734070682, 0.5139715996802499, 0.5139715996802499, 0.3348398990476377, 0.027903324920636477, 0.4185498738095471, 0.2511299242857283, 0.9367196848280871, 0.983713959009364, 0.976240466681267, 0.018595056508214608, 0.9657505188860351, 0.025414487339106187, 0.9865615772342718, 0.9711171623218259, 0.8959429365138999, 0.09189158323219486, 0.9894165473603551, 0.793271314626894, 0.11332447351812772, 0.0543957472887013, 0.04079681046652598, 0.9955388911078834, 0.7002219690268935, 0.22541392153605477, 0.0719406132561877, 0.908056150580683, 0.0891343460692695, 0.9854775557923415, 0.11348633734345234, 0.34045901203035706, 0.5674316867172617, 0.02367645702583712, 0.9707347380593219, 0.9917580168112105, 0.02481771605191405, 0.967890926024648, 0.7909385894246445, 0.15743801306082972, 0.0412337653254554, 0.0074970482409918915, 0.38752416247208293, 0.11072118927773798, 0.44288475711095193, 0.6852119319470702, 0.3079993027438851, 0.006921332645930002, 0.9791643634646485, 0.9773243262589957, 0.9058719015269783, 0.09058719015269782, 0.002209443662260923, 0.9940708803979503, 0.055117135342410584, 0.9431154269701366, 0.6147944995261333, 0.04594549640586761, 0.013127284687390746, 0.30192754780998715, 0.0240666885935497, 0.16370674265323532, 0.5369581159026119, 0.21609290030227063, 0.07857923647355296, 0.15544011832420426, 0.23126456628723072, 0.20472600950017145, 0.39428712940773764, 0.015164889592605294, 0.9814973132165846, 0.9773224380546729, 0.01007548905211003, 0.12475875319880683, 0.26085921123386885, 0.5065961493527308, 0.09829477524754478, 0.007561136557503445, 0.16673536701919475, 0.666941468076779, 0.07574946733672362, 0.17043630150762817, 0.7574946733672363, 0.20883005063955778, 0.3836645116401178, 0.029139076833426668, 0.3788079988345467, 0.15076079399023692, 0.06958190491857089, 0.776997938257375, 0.025019118591286714, 0.9507265064688951, 0.9650394989658918, 0.5689899712709793, 0.42880403632015834, 0.967451606065629, 0.9903933913551676, 0.15270624651365766, 0.09852015904106946, 0.05911209542464168, 0.635455025814898, 0.05911209542464168, 0.7161747729114929, 0.24710123743729873, 0.03769340910060489, 0.9741765915585751, 0.9773822139585071, 0.9521904949096575, 0.09798289770434802, 0.6858802839304362, 0.020272323662968557, 0.18582963357721177, 0.010136161831484278, 0.14103810295652916, 0.23800179873914296, 0.21596459515218527, 0.4010771052826298, 0.8635759191873166, 0.13464355729264613, 0.9824961169560992, 0.01547237979458424, 0.9881284168193625, 0.22817957436769762, 0.0427836701939433, 0.7273223932970361, 0.9886343957312754, 0.03233538048585567, 0.9700614145756702, 0.9877143984684056, 0.008740835384676156, 0.2407240905572778, 0.07045583138261789, 0.6693303981348699, 0.017613957845654473, 0.34321588351120785, 0.19262115911343297, 0.4167621442636095, 0.035022028929715086, 0.010506608678914526, 0.9406414225784037, 0.054267774379523286, 0.49241883967845584, 0.14069109705098737, 0.3673600867442448, 0.16429239262252213, 0.32858478524504425, 0.49287717786756635, 0.7896327197309476, 0.048524915737656, 0.08381576354686036, 0.07940440757070981, 0.21197476974950386, 0.5299369243737596, 0.11481966694764792, 0.1413165131663359, 0.16733258869587977, 0.15852561034346505, 0.6605233764311044, 0.008806978352414724, 0.9987300449108493, 0.513760426567248, 0.44525903635828157, 0.9437467803190064, 0.04813741966727818, 0.0076006452106228695, 0.9957870838769961, 0.9769605819603177, 0.989469467000498, 0.8001137864661384, 0.1835123363454446, 0.014680986907635567, 0.10280070203272125, 0.8977927977524323, 0.18267485791876062, 0.7270090305049666, 0.014761604680303889, 0.04428481404091167, 0.03321361053068375, 0.9809459868726457, 0.023925511874942577, 0.6697521199655164, 0.1975527835869509, 0.1300957355328701, 0.3278951171242687, 0.10492643747976599, 0.3934741405491225, 0.1836212655895905, 0.9056624393822038, 0.08625356565544798, 0.7830171813527508, 0.1727243782395774, 0.032241883938054446, 0.01151495854930516, 0.981655215368861, 0.9693390559162994, 0.9791379171950403, 0.927166494455666, 0.04559835218634423, 0.03039890145756282, 0.07224877843241172, 0.03737005780986813, 0.8819333643128878, 0.007474011561973626, 0.1547320881992841, 0.839974193081828, 0.02971904976633385, 0.08491157076095386, 0.0594380995326677, 0.7939231866149186, 0.033964628304381544, 0.014939924817641167, 0.05228973686174408, 0.9337453011025729, 0.9902396777268883, 0.024620199599172495, 0.9683945175674515, 0.9985405513070429, 0.21329812400858242, 0.7400138996216125, 0.04353022938950662, 0.981849388309771, 0.9896007050655204, 0.36673360325288884, 0.21114965035772387, 0.41952101584231977, 0.07625857134665381, 0.9201867609162894, 0.8829218193664234, 0.2575238673030842, 0.7293075922023344, 0.012361145630548041, 0.9623973057027497, 0.9779198037617934, 0.013773518362842161, 0.31537857877189374, 0.6307571575437875, 0.15797154362444205, 0.8363199368352814, 0.9934985892622513, 0.30711679861812563, 0.010352251638813223, 0.555570837949643, 0.12767777021202975, 0.08647273835206151, 0.07686465631294356, 0.36510711748648195, 0.36510711748648195, 0.10568890243029741, 0.11380237076904169, 0.19388552056947844, 0.05479373407398304, 0.6238055879191915, 0.012644707863226854, 0.16805287896345683, 0.20638072855161363, 0.097293772031475, 0.5189001175012, 0.008844888366497727], \"Term\": [\"accept\", \"accept\", \"accept\", \"actually\", \"actually\", \"actually\", \"addiction\", \"affordable\", \"affordable\", \"affordable\", \"afghan\", \"afghanistan\", \"aggression\", \"aggression\", \"aggression\", \"agreement\", \"agreement\", \"agreement\", \"al\", \"al\", \"al_qaeda\", \"alien\", \"ally\", \"ally\", \"ally\", \"ally\", \"ammunition\", \"ammunition\", \"ammunition\", \"announce\", \"announce\", \"announce\", \"announce\", \"antibody\", \"appreciate\", \"appreciate\", \"appreciate\", \"appropriate\", \"approval\", \"approve\", \"approve\", \"arab\", \"area\", \"area\", \"area\", \"arizona\", \"around_world\", \"around_world\", \"around_world\", \"around_world\", \"assault\", \"assault\", \"assault\", \"autocracy\", \"autocracy\", \"autocrat\", \"autocrat\", \"available\", \"available\", \"available\", \"available\", \"ballot\", \"bank\", \"bank\", \"bank\", \"bank\", \"banking\", \"banking\", \"beach\", \"belarus\", \"belarus\", \"bill\", \"bill\", \"bill\", \"bill\", \"billion\", \"billion\", \"billion\", \"billion\", \"billion\", \"billion_billion\", \"bin\", \"bin_laden\", \"bipartisan\", \"bipartisan\", \"bipartisan\", \"black\", \"black\", \"black\", \"bob\", \"border\", \"border\", \"border\", \"border\", \"border_patrol\", \"brave\", \"brave\", \"brave\", \"breach\", \"budget\", \"budget\", \"cancer\", \"cancer\", \"cancer\", \"cap\", \"capitol\", \"capitol\", \"carnage\", \"case\", \"case\", \"case\", \"cdc\", \"china\", \"china\", \"china\", \"china\", \"china\", \"choose\", \"choose\", \"choose\", \"church\", \"church\", \"citizenship\", \"civilian\", \"civilian\", \"code\", \"college\", \"college\", \"come_together\", \"come_together\", \"come_together\", \"come_together\", \"come_together\", \"commander\", \"commander\", \"community_college\", \"company\", \"company\", \"company\", \"company\", \"conflict\", \"conflict\", \"congress_pass\", \"constitution\", \"constitution\", \"coronavirus\", \"counterterrorism\", \"court\", \"court\", \"court\", \"coverage\", \"coverage\", \"covid\", \"covid\", \"covid\", \"covid\", \"covid\", \"credit\", \"credit\", \"creed\", \"crisis\", \"crisis\", \"crisis\", \"crisis\", \"cuban\", \"cut\", \"cut\", \"cut\", \"cyberattacks\", \"cyberattacks\", \"deal\", \"deal\", \"deal\", \"deal\", \"deal\", \"decision\", \"decision\", \"decision\", \"decision\", \"defend\", \"defend\", \"defend\", \"defend\", \"deficit\", \"deficit\", \"delta\", \"democrat\", \"democrat\", \"democrat\", \"democrat\", \"democrat\", \"deny\", \"deny\", \"deny\", \"descendant\", \"devastating\", \"devastating\", \"devastating\", \"diabetes\", \"diplomacy\", \"diplomacy\", \"diplomat\", \"diplomatic\", \"disability\", \"discussion\", \"doctor\", \"doctor\", \"doctor\", \"doctor\", \"doctor_nurse\", \"dole\", \"doubt\", \"doubt\", \"doubt\", \"doubt\", \"drug\", \"drug\", \"drug\", \"early\", \"early\", \"early\", \"early\", \"early\", \"east\", \"east\", \"east\", \"east\", \"economy_grow\", \"education\", \"education\", \"election\", \"election\", \"election\", \"election\", \"electric\", \"electric\", \"electric\", \"energy\", \"energy\", \"energy\", \"energy\", \"energy\", \"entitle\", \"entry\", \"europe\", \"europe\", \"europe\", \"europe\", \"european\", \"european\", \"european\", \"european\", \"european\", \"evacuate\", \"everybody\", \"everybody\", \"everybody\", \"everybody\", \"factory\", \"factory\", \"fake\", \"fake\", \"fauci\", \"fda\", \"february\", \"folk\", \"folk\", \"folk\", \"folk\", \"former\", \"former\", \"former\", \"former\", \"found\", \"found\", \"g\", \"gdp\", \"gdp\", \"generational\", \"global\", \"global\", \"global\", \"global\", \"gorbachev\", \"governor\", \"governor\", \"governor\", \"governor\", \"grace\", \"grocery\", \"grow_economy\", \"guidance\", \"guideline\", \"gun\", \"gun\", \"happy\", \"happy\", \"happy\", \"hate\", \"hate\", \"health_care\", \"health_care\", \"health_insurance\", \"health_insurance\", \"hospital\", \"hospital\", \"hospital\", \"hospital\", \"human_right\", \"human_right\", \"humanitarian\", \"hurricane\", \"hurricane\", \"ice\", \"ice\", \"ice\", \"idea\", \"idea\", \"idea\", \"idea\", \"idea\", \"implementation\", \"implementation\", \"impose\", \"impose\", \"impose\", \"impose\", \"inch\", \"inch\", \"inch\", \"income_tax\", \"increase\", \"increase\", \"increase\", \"increase\", \"incredible\", \"incredible\", \"incredible\", \"inflation\", \"inflation\", \"infrastructure\", \"infrastructure\", \"infrastructure\", \"infrastructure\", \"infrastructure\", \"insurance\", \"insurance\", \"insurance\", \"insurance_company\", \"interesting\", \"international\", \"international\", \"invade\", \"invade\", \"invasion\", \"invasion\", \"invasion\", \"invasion\", \"invest\", \"invest\", \"invest\", \"investment\", \"investment\", \"investment\", \"investment\", \"iraq\", \"iraq\", \"iraqi\", \"irish\", \"iron\", \"iron\", \"iron\", \"israel\", \"israel\", \"israeli\", \"january\", \"january\", \"january\", \"january\", \"january_th\", \"january_th\", \"january_th\", \"january_th\", \"justice\", \"justice\", \"justice\", \"kabul\", \"king\", \"kitchen\", \"kitchen\", \"laden\", \"last_year\", \"last_year\", \"last_year\", \"last_year\", \"levee\", \"levee\", \"lie\", \"lie\", \"lie\", \"lie\", \"light\", \"light\", \"light\", \"light\", \"light\", \"limitation\", \"limitation\", \"limitation\", \"loyalty\", \"make_sure\", \"make_sure\", \"make_sure\", \"make_sure\", \"make_sure\", \"man\", \"man\", \"man\", \"man\", \"massacre\", \"maybe\", \"maybe\", \"maybe\", \"maybe\", \"maybe\", \"mayor\", \"mayor\", \"mayor\", \"mayor\", \"medicare\", \"medicare\", \"mental_health\", \"mental_health\", \"middle_east\", \"middle_east\", \"middle_east\", \"mike\", \"mike\", \"minimum_wage\", \"minute\", \"mission\", \"mission\", \"mob\", \"money\", \"money\", \"money\", \"money\", \"money\", \"mother\", \"mother\", \"mother\", \"muslim\", \"nafta\", \"national_interest\", \"nato\", \"nato\", \"nato\", \"nato_ally\", \"natos\", \"natos\", \"negative\", \"nice\", \"nice\", \"nobody\", \"nobody\", \"nothing\", \"nothing\", \"nothing\", \"nothing\", \"nuclear\", \"nuclear\", \"nuclear\", \"objective\", \"osama\", \"osama_bin\", \"overturn\", \"pakistan\", \"palestinian\", \"parent\", \"parent\", \"parent\", \"parent\", \"parent\", \"partner\", \"partner\", \"partner\", \"partner\", \"party\", \"party\", \"party\", \"party\", \"patriotism\", \"percent\", \"percent\", \"percent\", \"percent\", \"percent\", \"pill\", \"pipe\", \"pipe\", \"pipe\", \"pit\", \"poland\", \"poland\", \"police\", \"police\", \"police\", \"polish\", \"polish\", \"poll\", \"porch\", \"porch\", \"port\", \"port\", \"port\", \"port\", \"prejudice\", \"premium\", \"prescription\", \"prescription\", \"prescription_drug\", \"prescription_drug\", \"president_clinton\", \"president_gorbachev\", \"president_trump\", \"president_trump\", \"pretty\", \"price\", \"price\", \"price\", \"price\", \"probably\", \"process\", \"process\", \"process\", \"propose\", \"propose\", \"provision\", \"pump\", \"pump\", \"pump\", \"putin\", \"putin\", \"qaeda\", \"radical\", \"radical\", \"raise\", \"raise\", \"raise\", \"raise\", \"rank\", \"rank\", \"rank\", \"rate\", \"rate\", \"rate\", \"recession\", \"recommend\", \"reform\", \"reform\", \"reform\", \"regime\", \"region\", \"region\", \"republican\", \"republican\", \"republican\", \"republican\", \"republican\", \"resolve\", \"resolve\", \"resolve\", \"resolve\", \"result\", \"result\", \"result\", \"result\", \"result\", \"retirement\", \"reward\", \"reward\", \"risk\", \"risk\", \"risk\", \"risk\", \"risk\", \"romania\", \"romania\", \"rule_law\", \"rule_law\", \"rule_law\", \"russia\", \"russia\", \"russia\", \"russia\", \"russian\", \"russian\", \"russian\", \"russias\", \"russias\", \"sad\", \"sanction\", \"sanction\", \"sanctuary\", \"saving\", \"saw\", \"saw\", \"saw\", \"saw\", \"saw\", \"secretary\", \"secretary\", \"secretary\", \"secure_border\", \"security_council\", \"selma\", \"senator\", \"senator\", \"senator\", \"senator\", \"senator\", \"side\", \"side\", \"side\", \"side\", \"social\", \"social\", \"social_security\", \"social_security\", \"solidarity\", \"soul\", \"soul\", \"soul\", \"sovereign\", \"soviet\", \"soviet\", \"spending\", \"spending\", \"spirit\", \"spirit\", \"spirit\", \"spirit\", \"stay\", \"stay\", \"stay\", \"stay\", \"stay\", \"steve\", \"steve\", \"story\", \"story\", \"story\", \"stronger\", \"stronger\", \"stronger\", \"student\", \"student\", \"student\", \"student\", \"supply\", \"supply\", \"supply\", \"supply\", \"take_place\", \"take_place\", \"take_place\", \"take_place\", \"taliban\", \"tank\", \"tank\", \"tax\", \"tax\", \"tax\", \"tax_credit\", \"tax_rate\", \"tax_relief\", \"team\", \"team\", \"team\", \"terrorist\", \"terrorist\", \"test\", \"test\", \"test\", \"test\", \"test\", \"testing\", \"testing\", \"thank_much\", \"thank_much\", \"thank_much\", \"thank_thank\", \"thank_thank\", \"thank_thank\", \"thank_thank\", \"thought\", \"thought\", \"tonight\", \"tonight\", \"tonight\", \"tonight\", \"toxic\", \"trade_deal\", \"treasury\", \"tremendous\", \"tremendous\", \"tremendous\", \"troop\", \"troop\", \"troop\", \"troop\", \"trump\", \"trump\", \"truth\", \"truth\", \"truth\", \"truth\", \"truth\", \"ukraine\", \"ukraine\", \"ukraine\", \"ukrainian\", \"united_nation\", \"united_nation\", \"vaccination\", \"vaccine\", \"vaccine\", \"vaccine\", \"van\", \"ventilator\", \"violence\", \"violence\", \"violence\", \"virus\", \"virus\", \"vladimir\", \"vote\", \"vote\", \"vote\", \"voting\", \"wage\", \"wage\", \"warsaw\", \"warsaw\", \"wealth\", \"wealth\", \"wealthy\", \"weapon\", \"weapon\", \"weapon\", \"weapon\", \"west\", \"west\", \"west\", \"west\", \"west\", \"white\", \"white\", \"white\", \"white\", \"white\", \"win\", \"win\", \"win\", \"win\", \"win\"]}, \"R\": 30, \"lambda.step\": 0.01, \"plot.opts\": {\"xlab\": \"PC1\", \"ylab\": \"PC2\"}, \"topic.order\": [2, 5, 4, 1, 3]};\n\nfunction LDAvis_load_lib(url, callback){\n  var s = document.createElement('script');\n  s.src = url;\n  s.async = true;\n  s.onreadystatechange = s.onload = callback;\n  s.onerror = function(){console.warn(\"failed to load library \" + url);};\n  document.getElementsByTagName(\"head\")[0].appendChild(s);\n}\n\nif(typeof(LDAvis) !== \"undefined\"){\n   // already loaded: just create the visualization\n   !function(LDAvis){\n       new LDAvis(\"#\" + \"ldavis_el1083222064479992323743949031\", ldavis_el1083222064479992323743949031_data);\n   }(LDAvis);\n}else if(typeof define === \"function\" && define.amd){\n   // require.js is available: use it to load d3/LDAvis\n   require.config({paths: {d3: \"https://d3js.org/d3.v5\"}});\n   require([\"d3\"], function(d3){\n      window.d3 = d3;\n      LDAvis_load_lib(\"https://cdn.jsdelivr.net/gh/bmabey/pyLDAvis@3.4.0/pyLDAvis/js/ldavis.v3.0.0.js\", function(){\n        new LDAvis(\"#\" + \"ldavis_el1083222064479992323743949031\", ldavis_el1083222064479992323743949031_data);\n      });\n    });\n}else{\n    // require.js not available: dynamically load d3 & LDAvis\n    LDAvis_load_lib(\"https://d3js.org/d3.v5.js\", function(){\n         LDAvis_load_lib(\"https://cdn.jsdelivr.net/gh/bmabey/pyLDAvis@3.4.0/pyLDAvis/js/ldavis.v3.0.0.js\", function(){\n                 new LDAvis(\"#\" + \"ldavis_el1083222064479992323743949031\", ldavis_el1083222064479992323743949031_data);\n            })\n         });\n}\n</script>"
     },
     "execution_count": 889,
     "metadata": {},
     "output_type": "execute_result"
    }
   ],
   "source": [
    "# Intertopic Distance Map\n",
    "import pyLDAvis.gensim as gensimvis\n",
    "import pyLDAvis\n",
    "\n",
    "vis_data_lda = gensimvis.prepare(mod, corpus, dictionary)\n",
    "#pyLDAvis.save_html(vis_data_lda,'lda_all.html')\n",
    "pyLDAvis.display(vis_data_lda)"
   ],
   "metadata": {
    "collapsed": false,
    "ExecuteTime": {
     "end_time": "2023-10-09T15:11:53.905922200Z",
     "start_time": "2023-10-09T15:11:53.512922700Z"
    }
   },
   "id": "91abfc116fb877b7"
  },
  {
   "cell_type": "code",
   "execution_count": 890,
   "outputs": [],
   "source": [
    "# initialize topic class split by republican and democratic\n",
    "topics_list_republican = []\n",
    "topics_list_democratic = []\n",
    "for topic_id, topic in top:\n",
    "    topics_list_democratic.append(Topic([word for word, _ in topic]))\n",
    "    topics_list_republican.append(Topic([word for word, _ in topic]))"
   ],
   "metadata": {
    "collapsed": false,
    "ExecuteTime": {
     "end_time": "2023-10-09T15:11:55.455750100Z",
     "start_time": "2023-10-09T15:11:55.435752300Z"
    }
   },
   "id": "78b06c13e8bc7f3f"
  },
  {
   "cell_type": "markdown",
   "source": [
    "## Sentiment Analysis"
   ],
   "metadata": {
    "collapsed": false
   },
   "id": "6d3653e00aa8d195"
  },
  {
   "cell_type": "code",
   "execution_count": 891,
   "outputs": [],
   "source": [
    "# split by sentence to get sentiment of each sentence\n",
    "for i in range(len(SA_processed)):\n",
    "    SA_processed[i] = nltk.sent_tokenize(SA_processed[i])"
   ],
   "metadata": {
    "collapsed": false,
    "ExecuteTime": {
     "end_time": "2023-10-09T15:11:59.148869400Z",
     "start_time": "2023-10-09T15:11:56.688866800Z"
    }
   },
   "id": "1d09b3c9eed33bb9"
  },
  {
   "cell_type": "code",
   "execution_count": null,
   "outputs": [],
   "source": [],
   "metadata": {
    "collapsed": false
   },
   "id": "1599597e15efb781"
  },
  {
   "cell_type": "code",
   "execution_count": 892,
   "outputs": [
    {
     "name": "stderr",
     "output_type": "stream",
     "text": [
      "[nltk_data] Downloading package vader_lexicon to\n",
      "[nltk_data]     C:\\Users\\Enno\\AppData\\Roaming\\nltk_data...\n",
      "[nltk_data]   Package vader_lexicon is already up-to-date!\n",
      "C:\\Users\\Enno\\AppData\\Local\\Temp/ipykernel_10832/758829595.py:4: SettingWithCopyWarning: \n",
      "A value is trying to be set on a copy of a slice from a DataFrame.\n",
      "Try using .loc[row_indexer,col_indexer] = value instead\n",
      "\n",
      "See the caveats in the documentation: https://pandas.pydata.org/pandas-docs/stable/user_guide/indexing.html#returning-a-view-versus-a-copy\n",
      "  globalization_data['vader'] =pd.Series(dtype='object')\n"
     ]
    }
   ],
   "source": [
    "# get vader sentiment analysis\n",
    "from nltk.sentiment.vader import SentimentIntensityAnalyzer\n",
    "nltk.download('vader_lexicon')\n",
    "globalization_data['vader'] =pd.Series(dtype='object')"
   ],
   "metadata": {
    "collapsed": false,
    "ExecuteTime": {
     "end_time": "2023-10-09T15:11:59.197867600Z",
     "start_time": "2023-10-09T15:11:59.149870Z"
    }
   },
   "id": "d15f3b254f5c7150"
  },
  {
   "cell_type": "code",
   "execution_count": 893,
   "outputs": [
    {
     "name": "stderr",
     "output_type": "stream",
     "text": [
      "C:\\Users\\Enno\\AppData\\Local\\Temp/ipykernel_10832/1757868817.py:7: SettingWithCopyWarning: \n",
      "A value is trying to be set on a copy of a slice from a DataFrame\n",
      "\n",
      "See the caveats in the documentation: https://pandas.pydata.org/pandas-docs/stable/user_guide/indexing.html#returning-a-view-versus-a-copy\n",
      "  globalization_data['vader'][i] = score_list\n"
     ]
    }
   ],
   "source": [
    "# sentiment analysis of each sentence, polarity score is saved\n",
    "vader_model = SentimentIntensityAnalyzer()\n",
    "for i in range(len(SA_processed)):\n",
    "    score_list = []\n",
    "    for j in range(len(SA_processed[i])):\n",
    "        score_list.append(vader_model.polarity_scores(SA_processed[i][j])['compound'])\n",
    "    globalization_data['vader'][i] = score_list"
   ],
   "metadata": {
    "collapsed": false,
    "ExecuteTime": {
     "end_time": "2023-10-09T15:12:12.309879Z",
     "start_time": "2023-10-09T15:11:59.293865900Z"
    }
   },
   "id": "9f53993977f2ddbe"
  },
  {
   "cell_type": "code",
   "execution_count": 894,
   "outputs": [
    {
     "name": "stderr",
     "output_type": "stream",
     "text": [
      "C:\\Users\\Enno\\AppData\\Local\\Temp/ipykernel_10832/3630842766.py:2: SettingWithCopyWarning: \n",
      "A value is trying to be set on a copy of a slice from a DataFrame.\n",
      "Try using .loc[row_indexer,col_indexer] = value instead\n",
      "\n",
      "See the caveats in the documentation: https://pandas.pydata.org/pandas-docs/stable/user_guide/indexing.html#returning-a-view-versus-a-copy\n",
      "  globalization_data['sentiment'] =pd.Series(dtype='object')\n"
     ]
    }
   ],
   "source": [
    "# new column to save sentiment\n",
    "globalization_data['sentiment'] =pd.Series(dtype='object')"
   ],
   "metadata": {
    "collapsed": false,
    "ExecuteTime": {
     "end_time": "2023-10-09T15:12:12.325878200Z",
     "start_time": "2023-10-09T15:12:12.312878700Z"
    }
   },
   "id": "fc759b9695696d69"
  },
  {
   "cell_type": "code",
   "execution_count": 895,
   "outputs": [
    {
     "name": "stderr",
     "output_type": "stream",
     "text": [
      "C:\\Users\\Enno\\AppData\\Local\\Temp/ipykernel_10832/1991532719.py:11: SettingWithCopyWarning: \n",
      "A value is trying to be set on a copy of a slice from a DataFrame\n",
      "\n",
      "See the caveats in the documentation: https://pandas.pydata.org/pandas-docs/stable/user_guide/indexing.html#returning-a-view-versus-a-copy\n",
      "  globalization_data['sentiment'][i] = sentiment_list\n"
     ]
    }
   ],
   "source": [
    "# assign sentiment based on polarity score, if > 0.001 == positive, if < -0.001 == negative, else neutral \n",
    "for i in range(len(globalization_data)):\n",
    "    sentiment_list = []\n",
    "    for j in range(len(globalization_data['vader'][i])):\n",
    "        if globalization_data['vader'][i][j] > 0.001:\n",
    "            sentiment_list.append('pos')\n",
    "        elif -0.001 <= globalization_data['vader'][i][j] <= 0.001:\n",
    "            sentiment_list.append('neu')\n",
    "        elif globalization_data['vader'][i][j] < -0.001:\n",
    "            sentiment_list.append('neg')\n",
    "    globalization_data['sentiment'][i] = sentiment_list"
   ],
   "metadata": {
    "collapsed": false,
    "ExecuteTime": {
     "end_time": "2023-10-09T15:12:13.078879700Z",
     "start_time": "2023-10-09T15:12:12.356878600Z"
    }
   },
   "id": "95ec92e53602d965"
  },
  {
   "cell_type": "code",
   "execution_count": 896,
   "outputs": [],
   "source": [
    "# look for common elements in two lists \n",
    "def common_member(list1, list2):\n",
    "    temp1 = set(list1)\n",
    "    temp2 = set(list2)\n",
    "    if len(temp1.intersection(temp2)) > 0:\n",
    "        return True \n",
    "    return False"
   ],
   "metadata": {
    "collapsed": false,
    "ExecuteTime": {
     "end_time": "2023-10-09T15:12:13.095879900Z",
     "start_time": "2023-10-09T15:12:13.081880500Z"
    }
   },
   "id": "6d786051ca39890c"
  },
  {
   "cell_type": "markdown",
   "source": [
    "## Combining SA and TM"
   ],
   "metadata": {
    "collapsed": false
   },
   "id": "c7d121d5b824b790"
  },
  {
   "cell_type": "code",
   "execution_count": 897,
   "outputs": [],
   "source": [
    "for i in range(len(SA_processed)):\n",
    "    # lemmatize, remove stopwords and punctuation of each individual sentence in speeches\n",
    "    txt_preproc = NltkPreprocessingSteps(pd.Series(SA_processed[i]))\n",
    "    post_lemmatize = \\\n",
    "        txt_preproc \\\n",
    "        .remove_numbers()\\\n",
    "        .remove_punctuations_except_periods()\\\n",
    "        .lemmatize()\\\n",
    "        .remove_all_punctuations()\\\n",
    "        .remove_stopwords()\\\n",
    "        .get_processed_text()\n",
    "    for l in range(len(post_lemmatize)):\n",
    "        post_lemmatize[l] = post_lemmatize[l].split(' ')\n",
    "    # find bigrams\n",
    "    bigram = Phrases(post_lemmatize, min_count=20)\n",
    "    for j in range(len(post_lemmatize)):\n",
    "        for token in bigram[post_lemmatize[j]]:\n",
    "            if '_' in token:\n",
    "                post_lemmatize[j].append(token)\n",
    "    # if a lemma of a sentence is matched to one of topic keywords, topic sentiment counter goes up by respective identified sentiment of its sentence, polarity score gets added and averaged\n",
    "    if i in globalization_data[globalization_data['party'] == 'Republican'].index: # split for republican\n",
    "        for k in range(len(post_lemmatize)):\n",
    "            for topic in topics_list_republican:\n",
    "                if common_member(topic.topics, post_lemmatize[k]):\n",
    "                    topic.sentiment(globalization_data['sentiment'][i][k], globalization_data['vader'][i][k])\n",
    "    if i in globalization_data[globalization_data['party'] == 'Democratic'].index: # split for democratic\n",
    "        for k in range(len(post_lemmatize)):\n",
    "            for topic in topics_list_democratic:\n",
    "                if common_member(topic.topics, post_lemmatize[k]):\n",
    "                    topic.sentiment(globalization_data['sentiment'][i][k], globalization_data['vader'][i][k])"
   ],
   "metadata": {
    "collapsed": false,
    "ExecuteTime": {
     "end_time": "2023-10-09T15:14:08.813917500Z",
     "start_time": "2023-10-09T15:12:13.104879500Z"
    }
   },
   "id": "5bef4d4d2f71ca64"
  },
  {
   "cell_type": "markdown",
   "source": [
    "## Plot Results"
   ],
   "metadata": {
    "collapsed": false
   },
   "id": "8bbf2ccb7923d39e"
  },
  {
   "cell_type": "markdown",
   "source": [
    "loosely based on https://matplotlib.org/stable/gallery/lines_bars_and_markers/barchart.html#sphx-glr-gallery-lines-bars-and-markers-barchart-py accessed on 03/10/23\n",
    "topics are going to be different for each run "
   ],
   "metadata": {
    "collapsed": false
   },
   "id": "8af86e6b7cc9d695"
  },
  {
   "cell_type": "code",
   "execution_count": 909,
   "outputs": [
    {
     "data": {
      "text/plain": "<function matplotlib.pyplot.show(close=None, block=None)>"
     },
     "execution_count": 909,
     "metadata": {},
     "output_type": "execute_result"
    },
    {
     "data": {
      "text/plain": "<Figure size 1008x576 with 1 Axes>",
      "image/png": "[encoded data removed]"
     },
     "metadata": {
      "needs_background": "light"
     },
     "output_type": "display_data"
    }
   ],
   "source": [
    "# plot count of sentiment for each topic for democratic party\n",
    "topic_names = ('Election', 'Taxes/healthcare', 'Ukraine War', 'Middle Eastern Conflicts', 'Covid-19')\n",
    "\n",
    "sentiment_democratic = {\n",
    "    'Negative': (topics_list_democratic[0].neg, topics_list_democratic[1].neg, topics_list_democratic[2].neg, topics_list_democratic[3].neg, topics_list_democratic[4].neg),\n",
    "    'Neutral': (topics_list_democratic[0].neu, topics_list_democratic[1].neu, topics_list_democratic[2].neu, topics_list_democratic[3].neu, topics_list_democratic[4].neu),\n",
    "    'Positive': (topics_list_democratic[0].pos, topics_list_democratic[1].pos, topics_list_democratic[2].pos, topics_list_democratic[3].pos, topics_list_democratic[4].pos)\n",
    "}\n",
    "\n",
    "x = np.arange(len(topic_names))\n",
    "width = 0.25  \n",
    "multiplier = 0\n",
    "\n",
    "fig, ax = plt.subplots(layout='constrained')\n",
    "colors = ['red', 'grey', 'green']\n",
    "fig.set_size_inches(14, 8)\n",
    "for attribute, sent in sentiment_democratic.items():\n",
    "    offset = width * multiplier\n",
    "    rects = ax.bar(x + offset, sent, width, label=attribute, color=colors[multiplier])\n",
    "    ax.bar_label(rects, padding=3)\n",
    "    multiplier += 1\n",
    "\n",
    "# Add some text for labels, title and custom x-axis tick labels, etc.\n",
    "ax.set_ylabel('Number of matches to each topic', fontsize=18)\n",
    "ax.set_title('Sentiment Count Per Topic for Democratic Presidents since 1989', fontsize=18)\n",
    "ax.set_xticks(x + width, topic_names)\n",
    "ax.legend(loc='upper right', ncols=3, fontsize=12)\n",
    "fig.savefig('SentimentOnTopicsTotalDemocratic.png', dpi=100)\n",
    "plt.show\n"
   ],
   "metadata": {
    "collapsed": false,
    "ExecuteTime": {
     "end_time": "2023-10-09T16:15:32.325015800Z",
     "start_time": "2023-10-09T16:15:31.561017700Z"
    }
   },
   "id": "3a1a4420d8d615e"
  },
  {
   "cell_type": "code",
   "execution_count": 908,
   "outputs": [
    {
     "data": {
      "text/plain": "<function matplotlib.pyplot.show(close=None, block=None)>"
     },
     "execution_count": 908,
     "metadata": {},
     "output_type": "execute_result"
    },
    {
     "data": {
      "text/plain": "<Figure size 1008x576 with 1 Axes>",
      "image/png": "[encoded data removed]"
     },
     "metadata": {
      "needs_background": "light"
     },
     "output_type": "display_data"
    }
   ],
   "source": [
    "# plot count of sentiment for each topic for republican party\n",
    "topic_names = ('Election', 'Taxes/healthcare', 'Ukraine War', 'Middle Eastern Conflicts', 'Covid-19')\n",
    "sentiment_republican = {\n",
    "    'Negative': (topics_list_republican[0].neg, topics_list_republican[1].neg, topics_list_republican[2].neg, topics_list_republican[3].neg, topics_list_republican[4].neg),\n",
    "    'Neutral': (topics_list_republican[0].neu, topics_list_republican[1].neu, topics_list_republican[2].neu, topics_list_republican[3].neu, topics_list_republican[4].neu),\n",
    "    'Positive': (topics_list_republican[0].pos, topics_list_republican[1].pos, topics_list_republican[2].pos, topics_list_republican[3].pos, topics_list_republican[4].pos)\n",
    "}\n",
    "\n",
    "x = np.arange(len(topic_names))\n",
    "width = 0.25  \n",
    "multiplier = 0\n",
    "\n",
    "fig, ax = plt.subplots(layout='constrained')\n",
    "colors = ['red', 'grey', 'green']\n",
    "fig.set_size_inches(14, 8)\n",
    "for attribute, sent in sentiment_republican.items():\n",
    "    offset = width * multiplier\n",
    "    rects = ax.bar(x + offset, sent, width, label=attribute, color=colors[multiplier])\n",
    "    ax.bar_label(rects, padding=3)\n",
    "    multiplier += 1\n",
    "\n",
    "# Add some text for labels, title and custom x-axis tick labels, etc.\n",
    "ax.set_ylabel('Number of matches to each topic', fontsize=18)\n",
    "ax.set_title('Sentiment Count Per Topic for Republican Presidents since 1989', fontsize=18)\n",
    "ax.set_xticks(x + width, topic_names)\n",
    "ax.legend(loc='upper right', ncols=3, fontsize=12)\n",
    "fig.savefig('SentimentOnTopicsRepublican.png', dpi=100)\n",
    "plt.show"
   ],
   "metadata": {
    "collapsed": false,
    "ExecuteTime": {
     "end_time": "2023-10-09T16:15:24.993874600Z",
     "start_time": "2023-10-09T16:15:24.289874Z"
    }
   },
   "id": "e3c58f04f54082f6"
  },
  {
   "cell_type": "code",
   "execution_count": 907,
   "outputs": [
    {
     "data": {
      "text/plain": "<function matplotlib.pyplot.show(close=None, block=None)>"
     },
     "execution_count": 907,
     "metadata": {},
     "output_type": "execute_result"
    },
    {
     "data": {
      "text/plain": "<Figure size 1008x576 with 1 Axes>",
      "image/png": "[encoded data removed]"
     },
     "metadata": {
      "needs_background": "light"
     },
     "output_type": "display_data"
    }
   ],
   "source": [
    "# plot count of sentiment for each topic total\n",
    "topic_names = ('Election', 'Taxes/healthcare', 'Ukraine War', 'Middle Eastern Conflicts', 'Covid-19')\n",
    "\n",
    "sentiment = {\n",
    "    'Negative': (tuple(map(sum, zip(sentiment_republican['Negative'], sentiment_democratic['Negative'])))),\n",
    "    'Neutral': (tuple(map(sum, zip(sentiment_republican['Neutral'], sentiment_democratic['Neutral'])))),\n",
    "    'Positive': (tuple(map(sum, zip(sentiment_republican['Positive'], sentiment_democratic['Positive']))))\n",
    "}\n",
    "\n",
    "x = np.arange(len(topic_names))\n",
    "width = 0.25  \n",
    "multiplier = 0\n",
    "\n",
    "fig, ax = plt.subplots(layout='constrained')\n",
    "colors = ['red', 'grey', 'green']\n",
    "fig.set_size_inches(14, 8)\n",
    "for attribute, sent in sentiment.items():\n",
    "    offset = width * multiplier\n",
    "    rects = ax.bar(x + offset, sent, width, label=attribute, color=colors[multiplier])\n",
    "    ax.bar_label(rects, padding=3)\n",
    "    multiplier += 1\n",
    "\n",
    "# Add some text for labels, title and custom x-axis tick labels, etc.\n",
    "ax.set_ylabel('Number of matches to each topic', fontsize=18)\n",
    "ax.set_title('Sentiment Count Per Topic since 1989', fontsize=18)\n",
    "ax.set_xticks(x + width, topic_names)\n",
    "ax.legend(loc='upper right', ncols=3, fontsize=12)\n",
    "fig.savefig('SentimentOnTopicsTotal.png', dpi=100)\n",
    "plt.show"
   ],
   "metadata": {
    "collapsed": false,
    "ExecuteTime": {
     "end_time": "2023-10-09T16:15:16.440253800Z",
     "start_time": "2023-10-09T16:15:15.781252400Z"
    }
   },
   "id": "5c8f4cf573840e80"
  },
  {
   "cell_type": "code",
   "execution_count": 906,
   "outputs": [
    {
     "name": "stdout",
     "output_type": "stream",
     "text": [
      "Average Polarity score of Democratic presidents for Topic 0: 0.1387303261623872\n",
      "Average Polarity score of Democratic presidents for Topic 1: 0.1843096899224806\n",
      "Average Polarity score of Democratic presidents for Topic 2: 0.09914715025906726\n",
      "Average Polarity score of Democratic presidents for Topic 3: 0.0792172442941673\n",
      "Average Polarity score of Democratic presidents for Topic 4: 0.13942513368983958\n",
      "Average Polarity score of Republican presidents for Topic 0: 0.2444970111016231\n",
      "Average Polarity score of Republican presidents for Topic 1: 0.15304234289200747\n",
      "Average Polarity score of Republican presidents for Topic 2: 0.14920273972602743\n",
      "Average Polarity score of Republican presidents for Topic 3: -0.07097915590008605\n",
      "Average Polarity score of Republican presidents for Topic 4: 0.13344458823529431\n"
     ]
    }
   ],
   "source": [
    "# average polarity score\n",
    "for i in range(5):\n",
    "    print('Average Polarity score of Democratic presidents for Topic ' + str(i) + ':', topics_list_democratic[i].sent_avg)\n",
    "for i in range(5):\n",
    "    print('Average Polarity score of Republican presidents for Topic ' + str(i) + ':', topics_list_republican[i].sent_avg)"
   ],
   "metadata": {
    "collapsed": false,
    "ExecuteTime": {
     "end_time": "2023-10-09T15:15:16.277976800Z",
     "start_time": "2023-10-09T15:15:16.269978100Z"
    }
   },
   "id": "3f238e0fa0287646"
  },
  {
   "cell_type": "code",
   "execution_count": null,
   "outputs": [],
   "source": [],
   "metadata": {
    "collapsed": false
   },
   "id": "862f2004ecd9ed9"
  }
 ],
 "metadata": {
  "kernelspec": {
   "display_name": "Python 3",
   "language": "python",
   "name": "python3"
  },
  "language_info": {
   "codemirror_mode": {
    "name": "ipython",
    "version": 2
   },
   "file_extension": ".py",
   "mimetype": "text/x-python",
   "name": "python",
   "nbconvert_exporter": "python",
   "pygments_lexer": "ipython2",
   "version": "2.7.6"
  }
 },
 "nbformat": 4,
 "nbformat_minor": 5
}
