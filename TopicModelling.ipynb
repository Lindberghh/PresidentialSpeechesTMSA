{
 "cells": [
  {
   "cell_type": "markdown",
   "source": [
    "# Topic Modelling"
   ],
   "metadata": {
    "collapsed": false
   },
   "id": "d75779517a0ca1a8"
  },
  {
   "cell_type": "code",
   "execution_count": 51,
   "id": "initial_id",
   "metadata": {
    "collapsed": true,
    "ExecuteTime": {
     "end_time": "2023-10-09T06:57:27.507928300Z",
     "start_time": "2023-10-09T06:57:27.388928800Z"
    }
   },
   "outputs": [],
   "source": [
    "import string\n",
    "\n",
    "import numpy as np\n",
    "import scipy\n",
    "import pandas as pd\n",
    "import re\n",
    "\n",
    "import gensim\n",
    "from gensim.corpora import Dictionary\n",
    "from gensim.models import LdaModel\n",
    "from gensim.matutils import corpus2csc\n",
    "from sklearn.feature_extraction.text import CountVectorizer\n",
    "\n",
    "import html\n",
    "\n",
    "import nltk\n",
    "from nltk.tokenize import word_tokenize\n",
    "from nltk.stem import WordNetLemmatizer\n",
    "from nltk.corpus import stopwords"
   ]
  },
  {
   "cell_type": "markdown",
   "source": [
    "## Load Data"
   ],
   "metadata": {
    "collapsed": false
   },
   "id": "13f5644bd91a14fb"
  },
  {
   "cell_type": "code",
   "execution_count": 52,
   "outputs": [],
   "source": [
    "data = pd.read_json('venv/data/presidential_speeches.json') # load data\n",
    "data.sort_values(by=['date'], inplace=True) # sort by data\n",
    "data.reset_index(drop=True, inplace=True) # reset index"
   ],
   "metadata": {
    "collapsed": false,
    "ExecuteTime": {
     "end_time": "2023-10-09T06:57:27.565927800Z",
     "start_time": "2023-10-09T06:57:27.406930400Z"
    }
   },
   "id": "81e927ca316e6aa7"
  },
  {
   "cell_type": "markdown",
   "source": [
    "## Add relevant metadata"
   ],
   "metadata": {
    "collapsed": false
   },
   "id": "a13fa00279adaa1e"
  },
  {
   "cell_type": "code",
   "execution_count": 53,
   "outputs": [],
   "source": [
    "# sort presidents to their parties\n",
    "president_list = []\n",
    "for i in range(len(data['president'].unique())):\n",
    "    president_list.append(data['president'].unique()[i])\n",
    "parties_list= ['Federalist', 'Democratic-Republican', 'National Republican', 'Democratic', 'Whig', 'Republican', 'Democratic (Union)']\n",
    "sort_party = [0, 0, 1, 1, 1, 2, 3, 3, 4, 4, 3, 4, 4, 5, 3, 3, 6, 5, 5, 5, 5, 3, 5, 5, 5, 5, 3, 5, 5, 5, 3, 3, 5, 5, 3, 3, 5, 5, 3, 5, 3, 5, 3, 5, 3]\n",
    "party = []\n",
    "for i in range(len(sort_party)):\n",
    "    party.append(parties_list[sort_party[i]])\n",
    "data['party'] = pd.Series(dtype='string')\n",
    "for i in range(len(president_list)):\n",
    "    data['party'][data['president'] == president_list[i]] = party[i]\n",
    "# assign each speech its respective era\n",
    "data['era'] = pd.Series(dtype='string')\n",
    "era_list = ['Early Republic', 'Jacksonian Democracy', 'Sectional Conflict', 'Gilded Age', 'Progressive Era', 'Depression and World Conflict', 'Social Change and Soviet Relations', 'Globalization']\n",
    "for i in range(len(data)):\n",
    "    if data['date'][i] < pd.Timestamp('1829-01-01T12'):\n",
    "        data['era'][i] =  era_list[0]\n",
    "    if pd.Timestamp('1829-01-01T12') <= data['date'][i] < pd.Timestamp('1853-01-01T12'):\n",
    "        data['era'][i] = era_list[1]\n",
    "    elif pd.Timestamp('1853-01-01T12') <= data['date'][i] < pd.Timestamp('1881-01-01T12'):\n",
    "        data['era'][i] = era_list[2]\n",
    "    elif pd.Timestamp('1881-01-01T12') <= data['date'][i] < pd.Timestamp('1897-01-01T12'):\n",
    "        data['era'][i] = era_list[3]\n",
    "    elif pd.Timestamp('1897-01-01T12') <= data['date'][i] < pd.Timestamp('1921-01-01T12'):\n",
    "        data['era'][i] = era_list[4]\n",
    "    elif pd.Timestamp('1921-01-01T12') <= data['date'][i] < pd.Timestamp('1961-01-01T12'):\n",
    "        data['era'][i] = era_list[5]\n",
    "    elif pd.Timestamp('1961-01-01T12') <= data['date'][i] < pd.Timestamp('1989-01-01T12'):\n",
    "        data['era'][i] = era_list[6]\n",
    "    elif pd.Timestamp('1989-01-01T12') <= data['date'][i]:\n",
    "        data['era'][i] = era_list[7]"
   ],
   "metadata": {
    "collapsed": false,
    "ExecuteTime": {
     "end_time": "2023-10-09T06:57:27.731928200Z",
     "start_time": "2023-10-09T06:57:27.543927900Z"
    }
   },
   "id": "5c697359139ae4f2"
  },
  {
   "cell_type": "code",
   "execution_count": 54,
   "outputs": [],
   "source": [
    "data['transcript'].replace(to_replace='(Applause.)', regex=True, value='', inplace=True)\n",
    "data['transcript'].replace(to_replace='(Laughter.)', regex=True, value='', inplace=True)"
   ],
   "metadata": {
    "collapsed": false,
    "ExecuteTime": {
     "end_time": "2023-10-09T06:57:27.796328300Z",
     "start_time": "2023-10-09T06:57:27.779930200Z"
    }
   },
   "id": "b0c3ad2ac1f5781e"
  },
  {
   "cell_type": "code",
   "execution_count": 55,
   "outputs": [
    {
     "name": "stderr",
     "output_type": "stream",
     "text": [
      "C:\\Users\\Enno\\AppData\\Local\\Temp/ipykernel_21136/1438919703.py:2: SettingWithCopyWarning: \n",
      "A value is trying to be set on a copy of a slice from a DataFrame\n",
      "\n",
      "See the caveats in the documentation: https://pandas.pydata.org/pandas-docs/stable/user_guide/indexing.html#returning-a-view-versus-a-copy\n",
      "  data['transcript'][i] = data['transcript'][i].replace('\\'', '')\n"
     ]
    }
   ],
   "source": [
    "for i in range(len(data)):\n",
    "    data['transcript'][i] = data['transcript'][i].replace('\\'', '')"
   ],
   "metadata": {
    "collapsed": false,
    "ExecuteTime": {
     "end_time": "2023-10-09T06:57:27.985326900Z",
     "start_time": "2023-10-09T06:57:27.801331300Z"
    }
   },
   "id": "761c8efae77f35cc"
  },
  {
   "cell_type": "markdown",
   "source": [
    "## Preprocessing"
   ],
   "metadata": {
    "collapsed": false
   },
   "id": "439c1005dabd237d"
  },
  {
   "cell_type": "markdown",
   "source": [
    "The Following section is code adapted from Srikanth Shenoy and can be found under https://towardsdatascience.com/elegant-text-pre-processing-with-nltk-in-sklearn-pipeline-d6fe18b91eb8 (accessed on 02/10/2023)"
   ],
   "metadata": {
    "collapsed": false
   },
   "id": "998f7a90e0e2bed4"
  },
  {
   "cell_type": "code",
   "execution_count": 68,
   "outputs": [],
   "source": [
    "import string\n",
    "import re\n",
    "import contractions\n",
    "\n",
    "import nltk\n",
    "from nltk.corpus import stopwords\n",
    "from nltk.tokenize import word_tokenize\n",
    "from nltk.corpus import wordnet\n",
    "from nltk.stem import WordNetLemmatizer\n",
    "\n",
    "from bs4 import BeautifulSoup\n",
    "from textblob import TextBlob\n",
    "from unidecode import unidecode\n",
    "import matplotlib.pyplot as plt "
   ],
   "metadata": {
    "collapsed": false,
    "ExecuteTime": {
     "end_time": "2023-10-09T07:09:30.701855500Z",
     "start_time": "2023-10-09T07:09:28.793262Z"
    }
   },
   "id": "9507ca52d096d88c"
  },
  {
   "cell_type": "code",
   "execution_count": 57,
   "outputs": [
    {
     "name": "stderr",
     "output_type": "stream",
     "text": [
      "[nltk_data] Downloading package stopwords to\n",
      "[nltk_data]     C:\\Users\\Enno\\AppData\\Roaming\\nltk_data...\n",
      "[nltk_data]   Package stopwords is already up-to-date!\n",
      "[nltk_data] Downloading package punkt to\n",
      "[nltk_data]     C:\\Users\\Enno\\AppData\\Roaming\\nltk_data...\n",
      "[nltk_data]   Package punkt is already up-to-date!\n",
      "[nltk_data] Downloading package averaged_perceptron_tagger to\n",
      "[nltk_data]     C:\\Users\\Enno\\AppData\\Roaming\\nltk_data...\n",
      "[nltk_data]   Package averaged_perceptron_tagger is already up-to-\n",
      "[nltk_data]       date!\n",
      "[nltk_data] Downloading package wordnet to\n",
      "[nltk_data]     C:\\Users\\Enno\\AppData\\Roaming\\nltk_data...\n",
      "[nltk_data]   Package wordnet is already up-to-date!\n",
      "[nltk_data] Downloading package omw-1.4 to\n",
      "[nltk_data]     C:\\Users\\Enno\\AppData\\Roaming\\nltk_data...\n",
      "[nltk_data]   Package omw-1.4 is already up-to-date!\n"
     ]
    },
    {
     "data": {
      "text/plain": "True"
     },
     "execution_count": 57,
     "metadata": {},
     "output_type": "execute_result"
    }
   ],
   "source": [
    "nltk.download('stopwords')\n",
    "nltk.download('punkt')\n",
    "nltk.download('averaged_perceptron_tagger')\n",
    "nltk.download('wordnet')\n",
    "nltk.download('omw-1.4')"
   ],
   "metadata": {
    "collapsed": false,
    "ExecuteTime": {
     "end_time": "2023-10-09T06:57:28.040333400Z",
     "start_time": "2023-10-09T06:57:28.001328400Z"
    }
   },
   "id": "8174ac4bbc2541e4"
  },
  {
   "cell_type": "code",
   "execution_count": 58,
   "outputs": [],
   "source": [
    "def lemmatize_pos_tagged_text(text, lemmatizer, pos_tag_dict):\n",
    "  sentences = nltk.sent_tokenize(text)\n",
    "  new_sentences = []\n",
    "\n",
    "  for sentence in sentences:\n",
    "    sentence = sentence.lower()\n",
    "    new_sentence_words = []\n",
    "    #one pos_tuple for sentence\n",
    "    pos_tuples = nltk.pos_tag(nltk.word_tokenize(sentence)) \n",
    "\n",
    "    for word_idx, word in enumerate(nltk.word_tokenize(sentence)):\n",
    "      nltk_word_pos = pos_tuples[word_idx][1]\n",
    "      wordnet_word_pos = pos_tag_dict.get(\n",
    "                          nltk_word_pos[0].upper(), None)\n",
    "      if wordnet_word_pos is not None:\n",
    "        new_word = lemmatizer.lemmatize(word, wordnet_word_pos)\n",
    "      else:\n",
    "        new_word = lemmatizer.lemmatize(word)\n",
    "\n",
    "      new_sentence_words.append(new_word)\n",
    "\n",
    "    new_sentence = \" \".join(new_sentence_words)\n",
    "    new_sentences.append(new_sentence)\n",
    "\n",
    "  return \" \".join(new_sentences)"
   ],
   "metadata": {
    "collapsed": false,
    "ExecuteTime": {
     "end_time": "2023-10-09T06:57:28.041334600Z",
     "start_time": "2023-10-09T06:57:28.020330800Z"
    }
   },
   "id": "fa478aed46ed3a23"
  },
  {
   "cell_type": "code",
   "execution_count": 59,
   "outputs": [],
   "source": [
    "\n",
    "class NltkPreprocessingSteps:\n",
    "  def __init__(self, X):\n",
    "    self.X = X\n",
    "\n",
    "    self.sw_nltk = stopwords.words('english')\n",
    "    # remove some noise\n",
    "    new_stopwords = ['<*>', 'q', 'yeah', 'guy', 'okay', 'ahead', 'mr', 'st', 'really', 'please', 'yes', 'sir', 'youn', 'u', 'get']\n",
    "    self.sw_nltk.extend(new_stopwords)\n",
    "    self.sw_nltk.remove('not')\n",
    "\n",
    "    self.pos_tag_dict = {\"J\": wordnet.ADJ,\n",
    "                    \"N\": wordnet.NOUN,\n",
    "                    \"V\": wordnet.VERB,\n",
    "                    \"R\": wordnet.ADV}\n",
    "\n",
    "    # '!\"#$%&'()*+,-./:;<=>?@[\\]^_`{|}~' 32 punctuations in python\n",
    "    # we dont want to replace . first time around\n",
    "    self.remove_punctuations = string.punctuation.replace('.','')\n",
    "\n",
    "  def remove_html_tags(self):\n",
    "    self.X = self.X.apply(\n",
    "            lambda x: BeautifulSoup(x, 'html.parser').get_text())\n",
    "    return self\n",
    "\n",
    "  def replace_diacritics(self):\n",
    "    self.X = self.X.apply(\n",
    "            lambda x: unidecode(x, errors=\"preserve\"))\n",
    "    return self\n",
    "\n",
    "  def to_lower(self):\n",
    "    self.X = np.apply_along_axis(lambda x: x.lower(), self.X)\n",
    "    return self\n",
    "\n",
    "  def expand_contractions(self):\n",
    "    self.X = self.X.apply(\n",
    "            lambda x: \" \".join([contractions.fix(expanded_word) \n",
    "                        for expanded_word in x.split()]))\n",
    "    return self\n",
    "\n",
    "  def remove_numbers(self):\n",
    "    self.X = self.X.apply(lambda x: re.sub(r'\\d+', '', x))\n",
    "    return self\n",
    "\n",
    "  def replace_dots_with_spaces(self):\n",
    "    self.X = self.X.apply(lambda x: re.sub(\"[.]\", \" \", x))\n",
    "    return self\n",
    "\n",
    "  def remove_punctuations_except_periods(self):\n",
    "    self.X = self.X.apply(\n",
    "                 lambda x: re.sub('[%s]' %\n",
    "                  re.escape(self.remove_punctuations), '' , x))\n",
    "    return self\n",
    "\n",
    "  def remove_all_punctuations(self):\n",
    "    self.X = self.X.apply(lambda x: re.sub('[%s]' %\n",
    "                          re.escape(string.punctuation), '' , x))\n",
    "    return self\n",
    "\n",
    "  def remove_double_spaces(self):\n",
    "    self.X = self.X.apply(lambda x: re.sub(' +', ' ', x))\n",
    "    return self\n",
    "\n",
    "  def fix_typos(self):\n",
    "    self.X = self.X.apply(lambda x: str(TextBlob(x).correct()))\n",
    "    return self\n",
    "\n",
    "  def remove_stopwords(self):\n",
    "    # remove stop words from token list in each column\n",
    "    self.X = self.X.apply(\n",
    "            lambda x: \" \".join([ word for word in x.split() \n",
    "                     if word not in self.sw_nltk]) )\n",
    "    return self\n",
    "\n",
    "  def lemmatize(self):\n",
    "    lemmatizer = WordNetLemmatizer()\n",
    "    self.X = self.X.apply(lambda x: lemmatize_pos_tagged_text(\n",
    "                           x, lemmatizer, self.pos_tag_dict))\n",
    "    return self\n",
    "\n",
    "  def get_processed_text(self):\n",
    "    return self.X"
   ],
   "metadata": {
    "collapsed": false,
    "ExecuteTime": {
     "end_time": "2023-10-09T06:57:28.107442300Z",
     "start_time": "2023-10-09T06:57:28.044337300Z"
    }
   },
   "id": "bca249665ff2dd0f"
  },
  {
   "cell_type": "code",
   "execution_count": 60,
   "outputs": [],
   "source": [
    "# apply preprocessing\n",
    "txt_preproc = NltkPreprocessingSteps(data['transcript'])\n",
    "processed_text = \\\n",
    "    txt_preproc \\\n",
    "    .remove_html_tags()\\\n",
    "    .replace_diacritics()\\\n",
    "    .expand_contractions()\\\n",
    "    .remove_numbers()\\\n",
    "    .remove_punctuations_except_periods()\\\n",
    "    .lemmatize()\\\n",
    "    .remove_double_spaces()\\\n",
    "    .remove_all_punctuations()\\\n",
    "    .remove_stopwords()\\\n",
    "    .get_processed_text()"
   ],
   "metadata": {
    "collapsed": false,
    "ExecuteTime": {
     "end_time": "2023-10-09T07:03:53.999882800Z",
     "start_time": "2023-10-09T06:57:28.065341200Z"
    }
   },
   "id": "ce0caceec18dff47"
  },
  {
   "cell_type": "markdown",
   "source": [
    "## Topic Modelling"
   ],
   "metadata": {
    "collapsed": false
   },
   "id": "4fa431b414ceb2e5"
  },
  {
   "cell_type": "code",
   "execution_count": 61,
   "outputs": [],
   "source": [
    "for i in range(len(processed_text)):\n",
    "    processed_text[i] = list(processed_text[i].split(' '))"
   ],
   "metadata": {
    "collapsed": false,
    "ExecuteTime": {
     "end_time": "2023-10-09T07:03:54.124883100Z",
     "start_time": "2023-10-09T07:03:54.077888600Z"
    }
   },
   "id": "79e4da661fd5eba0"
  },
  {
   "cell_type": "code",
   "execution_count": 62,
   "outputs": [],
   "source": [
    "# get bigrams\n",
    "from gensim.models import Phrases\n",
    "bigram = Phrases(processed_text, min_count=20)\n",
    "for i in range(len(processed_text)):\n",
    "    for token in bigram[processed_text[i]]:\n",
    "        if '_' in token:\n",
    "            processed_text[i].append(token)"
   ],
   "metadata": {
    "collapsed": false,
    "ExecuteTime": {
     "end_time": "2023-10-09T07:04:04.012657300Z",
     "start_time": "2023-10-09T07:03:54.170882700Z"
    }
   },
   "id": "6ce98f3ead4a37d8"
  },
  {
   "cell_type": "code",
   "execution_count": 63,
   "outputs": [],
   "source": [
    "dictionary_list = []\n",
    "bow_corpus_list = []\n",
    "for i in range(len(era_list)):\n",
    "    dictionary_list.append(Dictionary(processed_text[data[data['era'] == era_list[i]].index]))\n",
    "    dictionary_list[i].filter_extremes(no_below=20, no_above=0.5)\n",
    "    bow_corpus_list.append([dictionary_list[i].doc2bow(text) for text in processed_text[data[data['era'] == era_list[i]].index]])"
   ],
   "metadata": {
    "collapsed": false,
    "ExecuteTime": {
     "end_time": "2023-10-09T07:04:06.480670700Z",
     "start_time": "2023-10-09T07:04:04.026658600Z"
    }
   },
   "id": "cb49c2d399e49ee2"
  },
  {
   "cell_type": "code",
   "execution_count": 64,
   "outputs": [],
   "source": [
    "from gensim.models.coherencemodel import CoherenceModel"
   ],
   "metadata": {
    "collapsed": false,
    "ExecuteTime": {
     "end_time": "2023-10-09T07:04:06.495671600Z",
     "start_time": "2023-10-09T07:04:06.483674300Z"
    }
   },
   "id": "97e18d487c8b1716"
  },
  {
   "cell_type": "code",
   "execution_count": 65,
   "outputs": [],
   "source": [
    "# LDA\n",
    "chunksize = 100\n",
    "passes = 30\n",
    "iterations = 200\n",
    "eval_every = None\n",
    "num_topics = 5\n",
    "model_list = []\n",
    "coherence_list = []\n",
    "for i in range(len(era_list)):\n",
    "    model = gensim.models.LdaModel(\n",
    "    corpus=bow_corpus_list[i],\n",
    "    id2word=dictionary_list[i],\n",
    "    chunksize=chunksize,\n",
    "    alpha='auto',\n",
    "    eta='auto',\n",
    "    iterations=iterations,\n",
    "    num_topics=num_topics,\n",
    "    passes=passes,\n",
    "    eval_every=eval_every\n",
    "    )\n",
    "    topics = model.show_topics(\n",
    "    num_topics=num_topics,\n",
    "    num_words=10,\n",
    "    log=False,\n",
    "    formatted=False)\n",
    "    cm = CoherenceModel(model=model, corpus=bow_corpus_list[i], coherence='u_mass')\n",
    "    coherence = cm.get_coherence()\n",
    "    coherence_list.append(coherence)\n",
    "    model_list.append(topics)"
   ],
   "metadata": {
    "collapsed": false,
    "ExecuteTime": {
     "end_time": "2023-10-09T07:04:47.955079200Z",
     "start_time": "2023-10-09T07:04:06.500670900Z"
    }
   },
   "id": "a341567af2f4632c"
  },
  {
   "cell_type": "code",
   "execution_count": 76,
   "outputs": [
    {
     "data": {
      "text/plain": "<Figure size 576x432 with 1 Axes>",
      "image/png": "[encoded data removed]"
     },
     "metadata": {
      "needs_background": "light"
     },
     "output_type": "display_data"
    }
   ],
   "source": [
    "# print coherences\n",
    "plt.figure(figsize=(8, 6))\n",
    "plt.plot(['ERep', 'JackDemo', 'SectConf', 'GildAge', 'ProgEra', 'Depr&WC', 'SC&SR', 'Glob'], coherence_list)\n",
    "plt.xlabel('Era', fontsize=18)\n",
    "plt.ylabel(\"Coherence Score\", fontsize=18)\n",
    "plt.title('Coherence Score', fontsize=18)\n",
    "plt.savefig('coherence_era.png', dpi = 100)"
   ],
   "metadata": {
    "collapsed": false,
    "ExecuteTime": {
     "end_time": "2023-10-09T07:13:11.048708500Z",
     "start_time": "2023-10-09T07:13:10.819709300Z"
    }
   },
   "id": "69d7705edad6cb7c"
  },
  {
   "cell_type": "code",
   "execution_count": 67,
   "outputs": [
    {
     "name": "stdout",
     "output_type": "stream",
     "text": [
      "Early Republic :\n",
      "['men', 'see', 'happiness', 'opinion', 'liberty', 'wish', 'ought', 'let', 'man', 'desire']\n",
      "['upon', 'treaty', 'improvement', 'say', 'party', 'condition', 'common', 'execution', 'president', 'secure']\n",
      "['british', 'enemy', 'american', 'britain', 'great_britain', 'command', 'militia', 'success', 'arm', 'naval']\n",
      "['spain', 'treaty', 'party', 'territory', 'high', 'article', 'revenue', 'exist', 'tribe', 'extent']\n",
      "['vessel', 'session', 'treasury', 'amount', 'debt', 'minister', 'france', 'british', 'last_session', 'sum']\n",
      "Jacksonian Democracy :\n",
      "['resolution', 'legislature', 'south', 'proceeding', 'liberty', 'execute', 'institution', 'federal', 'member', 'court']\n",
      "['island', 'british', 'men', 'vessel', 'life', 'never', 'man', 'liberty', 'north', 'political']\n",
      "['indian', 'bank', 'institution', 'debt', 'trade', 'appropriation', 'payment', 'minister', 'intercourse', 'improvement']\n",
      "['bank', 'bill', 'deposit', 'improvement', 'currency', 'institution', 'appropriation', 'federal', 'million', 'tax']\n",
      "['mexico', 'texas', 'mexican', 'line', 'boundary', 'commissioner', 'minister', 'river', 'british', 'navy']\n",
      "Sectional Conflict :\n",
      "['value', 'pay', 'dollar', 'appropriation', 'currency', 'debt', 'gold', 'recommend', 'money', 'appointment']\n",
      "['proclamation', 'rebellion', 'seat', 'sign', 'capital', 'absence', 'commission', 'letter', 'whereas', 'official']\n",
      "['election', 'bill', 'appropriation', 'vote', 'statute', 'court', 'house_representative', 'special', 'congressional', 'army']\n",
      "['slavery', 'slave', 'federal', 'vote', 'men', 'north', 'man', 'ever', 'think', 'south']\n",
      "['treaty', 'report', 'indian', 'amount', 'increase', 'american', 'expenditure', 'fiscal', 'recommend', 'june']\n",
      "Gilded Age :\n",
      "['treaty', 'international', 'pacific', 'america', 'republic', 'world', 'water', 'invitation', 'south', 'dispute']\n",
      "['treaty', 'report', 'territory', 'indian', 'minister', 'men', 'international', 'vessel', 'appropriation', 'recommend']\n",
      "['per', 'cent', 'report', 'product', 'trade', 'amount', 'revenue', 'fiscal', 'line', 'indian']\n",
      "['gold', 'silver', 'amount', 'bond', 'issue', 'pay', 'purchase', 'currency', 'coin', 'financial']\n",
      "['examination', 'commission', 'pension', 'rule', 'war', 'name', 'civil', 'custom', 'board', 'appoint']\n",
      "Progressive Era :\n",
      "['rate', 'tariff', 'increase', 'corporation', 'court', 'interstate', 'commission', 'bill', 'combination', 'railroad']\n",
      "['cuba', 'republic', 'article', 'vessel', 'german', 'convention', 'ship', 'territory', 'term', 'canal']\n",
      "['november', 'washington', 'department', 'receive', 'product', 'secretary', 'agreement', 'relation', 'send', 'navy']\n",
      "['department', 'island', 'officer', 'foreign', 'report', 'increase', 'system', 'secretary', 'commission', 'treaty']\n",
      "['labor', 'whole', 'individual', 'industrial', 'party', 'republic', 'ship', 'problem', 'development', 'army']\n",
      "Depression and World Conflict :\n",
      "['fight', 'military', 'germany', 'attack', 'enemy', 'army', 'victory', 'german', 'conference', 'sea']\n",
      "['federal', 'military', 'legislation', 'economy', 'development', 'administration', 'tax', 'recommend', 'budget', 'recommendation']\n",
      "['federal', 'bank', 'tariff', 'relief', 'credit', 'employment', 'court', 'farm', 'price', 'wage']\n",
      "['senator', 'republican', 'party', 'bill', 'vote', 'administration', 'move', 'vice', 'democratic', 'candidate']\n",
      "['faith', 'soviet', 'fear', 'independence', 'democracy', 'liberty', 'washington', 'heart', 'task', 'alone']\n",
      "Social Change and Soviet Relations :\n",
      "['soviet', 'nuclear', 'soviet_union', 'weapon', 'missile', 'agreement', 'treaty', 'strategic', 'negotiation', 'human_right']\n",
      "['god', 'tonight', 'dream', 'heart', 'spirit', 'century', 'honor', 'generation', 'common', 'learn']\n",
      "['governor', 'vice', 'vice_president', 'drug', 'leadership', 'something', 'happen', 'cut', 'term', 'campaign']\n",
      "['vietnam', 'south', 'south_vietnam', 'north', 'general', 'secretary', 'communist', 'report', 'vietnamese', 'asia']\n",
      "['tax', 'budget', 'federal', 'billion', 'rate', 'percent', 'deficit', 'economy', 'inflation', 'energy']\n"
     ]
    }
   ],
   "source": [
    "for i in range(len(era_list)-1):\n",
    "    print(era_list[i], ':')\n",
    "    for topic_id, topic in model_list[i]:\n",
    "        print([word for word, _ in topic])"
   ],
   "metadata": {
    "collapsed": false,
    "ExecuteTime": {
     "end_time": "2023-10-09T07:04:47.999083200Z",
     "start_time": "2023-10-09T07:04:47.974080900Z"
    }
   },
   "id": "26858a63b705461d"
  },
  {
   "cell_type": "markdown",
   "source": [],
   "metadata": {
    "collapsed": false
   },
   "id": "bce151156d14b5fb"
  },
  {
   "cell_type": "code",
   "execution_count": 67,
   "outputs": [],
   "source": [],
   "metadata": {
    "collapsed": false,
    "ExecuteTime": {
     "end_time": "2023-10-09T07:04:48.019080700Z",
     "start_time": "2023-10-09T07:04:48.005080800Z"
    }
   },
   "id": "db57f78a103ff661"
  }
 ],
 "metadata": {
  "kernelspec": {
   "display_name": "Python 3",
   "language": "python",
   "name": "python3"
  },
  "language_info": {
   "codemirror_mode": {
    "name": "ipython",
    "version": 2
   },
   "file_extension": ".py",
   "mimetype": "text/x-python",
   "name": "python",
   "nbconvert_exporter": "python",
   "pygments_lexer": "ipython2",
   "version": "2.7.6"
  }
 },
 "nbformat": 4,
 "nbformat_minor": 5
}
