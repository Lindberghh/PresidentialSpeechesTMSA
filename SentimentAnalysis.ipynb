{
 "cells": [
  {
   "cell_type": "markdown",
   "source": [
    "# Sentiment Analysis"
   ],
   "metadata": {
    "collapsed": false
   },
   "id": "a7033a9aad190718"
  },
  {
   "cell_type": "code",
   "execution_count": 191,
   "id": "initial_id",
   "metadata": {
    "collapsed": true,
    "ExecuteTime": {
     "end_time": "2023-10-09T14:58:28.836315Z",
     "start_time": "2023-10-09T14:58:28.679317200Z"
    }
   },
   "outputs": [],
   "source": [
    "import string\n",
    "\n",
    "import numpy as np\n",
    "import scipy\n",
    "import pandas as pd\n",
    "import re\n",
    "import matplotlib.pyplot as plt\n",
    "\n",
    "import html\n",
    "\n",
    "import nltk\n",
    "from nltk.tokenize import word_tokenize\n",
    "from nltk.stem import WordNetLemmatizer\n",
    "from nltk.corpus import stopwords"
   ]
  },
  {
   "cell_type": "markdown",
   "source": [
    "## Load Data"
   ],
   "metadata": {
    "collapsed": false
   },
   "id": "684ce7201eb475ee"
  },
  {
   "cell_type": "code",
   "execution_count": 192,
   "outputs": [],
   "source": [
    "data = pd.read_json('venv/data/presidential_speeches.json') # load data\n",
    "data.sort_values(by=['date'], inplace=True) # sort by data\n",
    "data.reset_index(drop=True, inplace=True) # reset index"
   ],
   "metadata": {
    "collapsed": false,
    "ExecuteTime": {
     "end_time": "2023-10-09T14:58:28.884319300Z",
     "start_time": "2023-10-09T14:58:28.708317100Z"
    }
   },
   "id": "2873e50ca953d121"
  },
  {
   "cell_type": "markdown",
   "source": [
    "## Preprocessing the Data"
   ],
   "metadata": {
    "collapsed": false
   },
   "id": "24e2ca2e08397f01"
  },
  {
   "cell_type": "code",
   "execution_count": 193,
   "outputs": [],
   "source": [
    "# sort presidents to their parties\n",
    "president_list = []\n",
    "for i in range(len(data['president'].unique())):\n",
    "    president_list.append(data['president'].unique()[i])\n",
    "parties_list= ['Federalist', 'Democratic-Republican', 'National Republican', 'Democratic', 'Whig', 'Republican', 'Democratic (Union)']\n",
    "sort_party = [0, 0, 1, 1, 1, 2, 3, 3, 4, 4, 3, 4, 4, 5, 3, 3, 6, 5, 5, 5, 5, 3, 5, 5, 5, 5, 3, 5, 5, 5, 3, 3, 5, 5, 3, 3, 5, 5, 3, 5, 3, 5, 3, 5, 3]\n",
    "party = []\n",
    "for i in range(len(sort_party)):\n",
    "    party.append(parties_list[sort_party[i]])\n",
    "data['party'] = pd.Series(dtype='string')\n",
    "for i in range(len(president_list)):\n",
    "    data['party'][data['president'] == president_list[i]] = party[i]\n",
    "# assign each speech its respective era\n",
    "data['era'] = pd.Series(dtype='string')\n",
    "era_list = ['Early Republic', 'Jacksonian Democracy', 'Sectional Conflict', 'Gilded Age', 'Progressive Era', 'Depression and World Conflict', 'Social Change and Soviet Relations', 'Globalization']\n",
    "for i in range(len(data)):\n",
    "    if data['date'][i] < pd.Timestamp('1829-01-01T12'):\n",
    "        data['era'][i] =  era_list[0]\n",
    "    if pd.Timestamp('1829-01-01T12') <= data['date'][i] < pd.Timestamp('1853-01-01T12'):\n",
    "        data['era'][i] = era_list[1]\n",
    "    elif pd.Timestamp('1853-01-01T12') <= data['date'][i] < pd.Timestamp('1881-01-01T12'):\n",
    "        data['era'][i] = era_list[2]\n",
    "    elif pd.Timestamp('1881-01-01T12') <= data['date'][i] < pd.Timestamp('1897-01-01T12'):\n",
    "        data['era'][i] = era_list[3]\n",
    "    elif pd.Timestamp('1897-01-01T12') <= data['date'][i] < pd.Timestamp('1921-01-01T12'):\n",
    "        data['era'][i] = era_list[4]\n",
    "    elif pd.Timestamp('1921-01-01T12') <= data['date'][i] < pd.Timestamp('1961-01-01T12'):\n",
    "        data['era'][i] = era_list[5]\n",
    "    elif pd.Timestamp('1961-01-01T12') <= data['date'][i] < pd.Timestamp('1989-01-01T12'):\n",
    "        data['era'][i] = era_list[6]\n",
    "    elif pd.Timestamp('1989-01-01T12') <= data['date'][i]:\n",
    "        data['era'][i] = era_list[7]"
   ],
   "metadata": {
    "collapsed": false,
    "ExecuteTime": {
     "end_time": "2023-10-09T14:58:29.076327200Z",
     "start_time": "2023-10-09T14:58:28.882319700Z"
    }
   },
   "id": "13352c4c7ecf9694"
  },
  {
   "cell_type": "code",
   "execution_count": 195,
   "outputs": [
    {
     "name": "stderr",
     "output_type": "stream",
     "text": [
      "C:\\Users\\Enno\\AppData\\Local\\Temp/ipykernel_25980/192661657.py:4: SettingWithCopyWarning: \n",
      "A value is trying to be set on a copy of a slice from a DataFrame\n",
      "\n",
      "See the caveats in the documentation: https://pandas.pydata.org/pandas-docs/stable/user_guide/indexing.html#returning-a-view-versus-a-copy\n",
      "  data['transcript'][i] = data['transcript'][i].replace('\\'', '')\n"
     ]
    }
   ],
   "source": [
    "data['transcript'].replace(to_replace='(Applause.)', regex=True, value='', inplace=True)\n",
    "data['transcript'].replace(to_replace='(Laughter.)', regex=True, value='', inplace=True)\n",
    "for i in range(len(data)):\n",
    "    data['transcript'][i] = data['transcript'][i].replace('\\'', '')"
   ],
   "metadata": {
    "collapsed": false,
    "ExecuteTime": {
     "end_time": "2023-10-09T14:58:29.397327500Z",
     "start_time": "2023-10-09T14:58:29.094327500Z"
    }
   },
   "id": "6876427c46d93147"
  },
  {
   "cell_type": "markdown",
   "source": [
    "The Following section is code adapted from Srikanth Shenoy and can be found under https://towardsdatascience.com/elegant-text-pre-processing-with-nltk-in-sklearn-pipeline-d6fe18b91eb8 (accessed on 02/10/2023)"
   ],
   "metadata": {
    "collapsed": false
   },
   "id": "239c4af7c06ca41"
  },
  {
   "cell_type": "code",
   "execution_count": 196,
   "outputs": [],
   "source": [
    "import string\n",
    "import re\n",
    "import contractions\n",
    "\n",
    "import nltk\n",
    "from nltk.corpus import stopwords\n",
    "from nltk.tokenize import word_tokenize\n",
    "from nltk.corpus import wordnet\n",
    "from nltk.stem import WordNetLemmatizer\n",
    "\n",
    "from bs4 import BeautifulSoup\n",
    "from textblob import TextBlob\n",
    "from unidecode import unidecode"
   ],
   "metadata": {
    "collapsed": false,
    "ExecuteTime": {
     "end_time": "2023-10-09T14:58:29.412327800Z",
     "start_time": "2023-10-09T14:58:29.391329300Z"
    }
   },
   "id": "5be2781321071fe4"
  },
  {
   "cell_type": "code",
   "execution_count": 197,
   "outputs": [
    {
     "name": "stderr",
     "output_type": "stream",
     "text": [
      "[nltk_data] Downloading package stopwords to\n",
      "[nltk_data]     C:\\Users\\Enno\\AppData\\Roaming\\nltk_data...\n",
      "[nltk_data]   Package stopwords is already up-to-date!\n",
      "[nltk_data] Downloading package punkt to\n",
      "[nltk_data]     C:\\Users\\Enno\\AppData\\Roaming\\nltk_data...\n",
      "[nltk_data]   Package punkt is already up-to-date!\n",
      "[nltk_data] Downloading package averaged_perceptron_tagger to\n",
      "[nltk_data]     C:\\Users\\Enno\\AppData\\Roaming\\nltk_data...\n",
      "[nltk_data]   Package averaged_perceptron_tagger is already up-to-\n",
      "[nltk_data]       date!\n",
      "[nltk_data] Downloading package wordnet to\n",
      "[nltk_data]     C:\\Users\\Enno\\AppData\\Roaming\\nltk_data...\n",
      "[nltk_data]   Package wordnet is already up-to-date!\n",
      "[nltk_data] Downloading package omw-1.4 to\n",
      "[nltk_data]     C:\\Users\\Enno\\AppData\\Roaming\\nltk_data...\n",
      "[nltk_data]   Package omw-1.4 is already up-to-date!\n"
     ]
    },
    {
     "data": {
      "text/plain": "True"
     },
     "execution_count": 197,
     "metadata": {},
     "output_type": "execute_result"
    }
   ],
   "source": [
    "nltk.download('stopwords')\n",
    "nltk.download('punkt')\n",
    "nltk.download('averaged_perceptron_tagger')\n",
    "nltk.download('wordnet')\n",
    "nltk.download('omw-1.4')"
   ],
   "metadata": {
    "collapsed": false,
    "ExecuteTime": {
     "end_time": "2023-10-09T14:58:29.674396100Z",
     "start_time": "2023-10-09T14:58:29.403329500Z"
    }
   },
   "id": "3f5869cc2716d70e"
  },
  {
   "cell_type": "code",
   "execution_count": 198,
   "outputs": [],
   "source": [
    "\n",
    "class NltkPreprocessingSteps:\n",
    "  def __init__(self, X):\n",
    "    self.X = X\n",
    "\n",
    "    self.sw_nltk = stopwords.words('english')\n",
    "    # remove some noise\n",
    "    new_stopwords = ['<*>', 'q', 'yeah', 'guy', 'okay', 'ahead', 'mr', 'st', 'really', 'please', 'yes', 'sir', 'youn']\n",
    "    self.sw_nltk.extend(new_stopwords)\n",
    "    self.sw_nltk.remove('not')\n",
    "\n",
    "    self.pos_tag_dict = {\"J\": wordnet.ADJ,\n",
    "                    \"N\": wordnet.NOUN,\n",
    "                    \"V\": wordnet.VERB,\n",
    "                    \"R\": wordnet.ADV}\n",
    "\n",
    "    # '!\"#$%&'()*+,-./:;<=>?@[\\]^_`{|}~' 32 punctuations in python\n",
    "    # we dont want to replace . first time around\n",
    "    self.remove_punctuations = string.punctuation.replace('.','')\n",
    "\n",
    "  def remove_html_tags(self):\n",
    "    self.X = self.X.apply(\n",
    "            lambda x: BeautifulSoup(x, 'html.parser').get_text())\n",
    "    return self\n",
    "\n",
    "  def replace_diacritics(self):\n",
    "    self.X = self.X.apply(\n",
    "            lambda x: unidecode(x, errors=\"preserve\"))\n",
    "    return self\n",
    "\n",
    "  def to_lower(self):\n",
    "    self.X = np.apply_along_axis(lambda x: x.lower(), self.X)\n",
    "    return self\n",
    "\n",
    "  def expand_contractions(self):\n",
    "    self.X = self.X.apply(\n",
    "            lambda x: \" \".join([contractions.fix(expanded_word) \n",
    "                        for expanded_word in x.split()]))\n",
    "    return self\n",
    "\n",
    "  def remove_numbers(self):\n",
    "    self.X = self.X.apply(lambda x: re.sub(r'\\d+', '', x))\n",
    "    return self\n",
    "\n",
    "  def replace_dots_with_spaces(self):\n",
    "    self.X = self.X.apply(lambda x: re.sub(\"[.]\", \" \", x))\n",
    "    return self\n",
    "\n",
    "  def remove_punctuations_except_periods(self):\n",
    "    self.X = self.X.apply(\n",
    "                 lambda x: re.sub('[%s]' %\n",
    "                  re.escape(self.remove_punctuations), '' , x))\n",
    "    return self\n",
    "\n",
    "  def remove_all_punctuations(self):\n",
    "    self.X = self.X.apply(lambda x: re.sub('[%s]' %\n",
    "                          re.escape(string.punctuation), '' , x))\n",
    "    return self\n",
    "\n",
    "  def remove_double_spaces(self):\n",
    "    self.X = self.X.apply(lambda x: re.sub(' +', ' ', x))\n",
    "    return self\n",
    "\n",
    "  def fix_typos(self):\n",
    "    self.X = self.X.apply(lambda x: str(TextBlob(x).correct()))\n",
    "    return self\n",
    "\n",
    "  def remove_stopwords(self):\n",
    "    # remove stop words from token list in each column\n",
    "    self.X = self.X.apply(\n",
    "            lambda x: \" \".join([ word for word in x.split() \n",
    "                     if word not in self.sw_nltk]) )\n",
    "    return self\n",
    "\n",
    "  def get_processed_text(self):\n",
    "    return self.X"
   ],
   "metadata": {
    "collapsed": false,
    "ExecuteTime": {
     "end_time": "2023-10-09T14:58:29.729395300Z",
     "start_time": "2023-10-09T14:58:29.699398900Z"
    }
   },
   "id": "1752a7494125cfae"
  },
  {
   "cell_type": "code",
   "execution_count": 199,
   "outputs": [],
   "source": [
    "txt_preproc = NltkPreprocessingSteps(data['transcript'])\n",
    "processed_text = \\\n",
    "    txt_preproc \\\n",
    "    .remove_html_tags()\\\n",
    "    .replace_diacritics()\\\n",
    "    .expand_contractions()\\\n",
    "    .remove_double_spaces()\\\n",
    "    .get_processed_text()"
   ],
   "metadata": {
    "collapsed": false,
    "ExecuteTime": {
     "end_time": "2023-10-09T14:58:48.546397700Z",
     "start_time": "2023-10-09T14:58:29.718399300Z"
    }
   },
   "id": "a5979166bdb144dd"
  },
  {
   "cell_type": "code",
   "execution_count": 200,
   "outputs": [
    {
     "name": "stderr",
     "output_type": "stream",
     "text": [
      "[nltk_data] Downloading package vader_lexicon to\n",
      "[nltk_data]     C:\\Users\\Enno\\AppData\\Roaming\\nltk_data...\n",
      "[nltk_data]   Package vader_lexicon is already up-to-date!\n"
     ]
    }
   ],
   "source": [
    "from nltk.sentiment.vader import SentimentIntensityAnalyzer\n",
    "nltk.download('vader_lexicon')\n",
    "data['vader'] =pd.Series(dtype='object')"
   ],
   "metadata": {
    "collapsed": false,
    "ExecuteTime": {
     "end_time": "2023-10-09T14:58:48.596398400Z",
     "start_time": "2023-10-09T14:58:48.547397600Z"
    }
   },
   "id": "34235620d7a99fea"
  },
  {
   "cell_type": "code",
   "execution_count": 201,
   "outputs": [],
   "source": [
    "for i in range(len(processed_text)):\n",
    "    processed_text[i] = nltk.sent_tokenize(processed_text[i])"
   ],
   "metadata": {
    "collapsed": false,
    "ExecuteTime": {
     "end_time": "2023-10-09T14:58:54.255397900Z",
     "start_time": "2023-10-09T14:58:48.637395200Z"
    }
   },
   "id": "7d4e735c1aeeadf6"
  },
  {
   "cell_type": "code",
   "execution_count": 202,
   "outputs": [
    {
     "name": "stderr",
     "output_type": "stream",
     "text": [
      "C:\\Users\\Enno\\AppData\\Local\\Temp/ipykernel_25980/2386764690.py:6: SettingWithCopyWarning: \n",
      "A value is trying to be set on a copy of a slice from a DataFrame\n",
      "\n",
      "See the caveats in the documentation: https://pandas.pydata.org/pandas-docs/stable/user_guide/indexing.html#returning-a-view-versus-a-copy\n",
      "  data['vader'][i] = score_list\n"
     ]
    }
   ],
   "source": [
    "vader_model = SentimentIntensityAnalyzer()\n",
    "for i in range(len(processed_text)):\n",
    "    score_list = []\n",
    "    for j in range(len(processed_text[i])):\n",
    "        score_list.append(vader_model.polarity_scores(processed_text[i][j])['compound'])\n",
    "    data['vader'][i] = score_list"
   ],
   "metadata": {
    "collapsed": false,
    "ExecuteTime": {
     "end_time": "2023-10-09T14:59:39.684649300Z",
     "start_time": "2023-10-09T14:58:54.255397900Z"
    }
   },
   "id": "8d8ab9ac69831b92"
  },
  {
   "cell_type": "markdown",
   "source": [
    "## Sentiment Analysis"
   ],
   "metadata": {
    "collapsed": false
   },
   "id": "54be7139d4c6242f"
  },
  {
   "cell_type": "code",
   "execution_count": 203,
   "outputs": [],
   "source": [
    "data['sentiment'] =pd.Series(dtype='object')\n",
    "data['total_sentiment'] = pd.Series(dtype='object')"
   ],
   "metadata": {
    "collapsed": false,
    "ExecuteTime": {
     "end_time": "2023-10-09T14:59:39.700648600Z",
     "start_time": "2023-10-09T14:59:39.688650700Z"
    }
   },
   "id": "53d0725ebd35281a"
  },
  {
   "cell_type": "code",
   "execution_count": 204,
   "outputs": [
    {
     "name": "stderr",
     "output_type": "stream",
     "text": [
      "C:\\Users\\Enno\\AppData\\Local\\Temp/ipykernel_25980/3952271288.py:17: SettingWithCopyWarning: \n",
      "A value is trying to be set on a copy of a slice from a DataFrame\n",
      "\n",
      "See the caveats in the documentation: https://pandas.pydata.org/pandas-docs/stable/user_guide/indexing.html#returning-a-view-versus-a-copy\n",
      "  data['sentiment'][i] = sentiment_list\n",
      "C:\\Users\\Enno\\AppData\\Local\\Temp/ipykernel_25980/3952271288.py:18: SettingWithCopyWarning: \n",
      "A value is trying to be set on a copy of a slice from a DataFrame\n",
      "\n",
      "See the caveats in the documentation: https://pandas.pydata.org/pandas-docs/stable/user_guide/indexing.html#returning-a-view-versus-a-copy\n",
      "  data['total_sentiment'][i] = [pos, neu, neg]\n"
     ]
    }
   ],
   "source": [
    "# assign sentiment based on polarity score, if > 0.001 == positive, if < -0.001 == negative, else neutral \n",
    "for i in range(len(data)):\n",
    "    sentiment_list = []\n",
    "    pos = 0\n",
    "    neu = 0\n",
    "    neg = 0\n",
    "    for j in range(len(data['vader'][i])):\n",
    "        if data['vader'][i][j] > 0.001:\n",
    "            sentiment_list.append('pos')\n",
    "            pos += 1\n",
    "        elif -0.001 <= data['vader'][i][j] <= 0.001:\n",
    "            sentiment_list.append('neu')\n",
    "            neu += 1\n",
    "        elif data['vader'][i][j] < -0.001:\n",
    "            sentiment_list.append('neg')\n",
    "            neg += 1\n",
    "    data['sentiment'][i] = sentiment_list\n",
    "    data['total_sentiment'][i] = [pos, neu, neg]"
   ],
   "metadata": {
    "collapsed": false,
    "ExecuteTime": {
     "end_time": "2023-10-09T14:59:41.851647900Z",
     "start_time": "2023-10-09T14:59:39.745647900Z"
    }
   },
   "id": "591176ffeff5bfea"
  },
  {
   "cell_type": "markdown",
   "source": [
    "## Make Graphs"
   ],
   "metadata": {
    "collapsed": false
   },
   "id": "99b651bc8b52cf02"
  },
  {
   "cell_type": "code",
   "execution_count": 218,
   "outputs": [
    {
     "data": {
      "text/plain": "<Figure size 1296x720 with 1 Axes>",
      "image/png": "[encoded data removed]"
     },
     "metadata": {
      "needs_background": "light"
     },
     "output_type": "display_data"
    }
   ],
   "source": [
    "sort_by_era = []\n",
    "sort_by_party = []\n",
    "for i in range(len(parties_list)):\n",
    "    f = data.loc[data['party'] == parties_list[i]]['total_sentiment']\n",
    "    f.reset_index(drop=True, inplace=True)\n",
    "    sort_by_party.append(f)\n",
    "total_sentiment = []\n",
    "for i in range(len(sort_by_party)):\n",
    "    pos = 0\n",
    "    neu = 0\n",
    "    neg = 0\n",
    "    for j in range(len(sort_by_party[i])):\n",
    "        pos += sort_by_party[i][j][0]\n",
    "        neu += sort_by_party[i][j][1]\n",
    "        neg += sort_by_party[i][j][2]\n",
    "    total_sentiment.append([parties_list[i], pos, neg, neu])\n",
    "df = pd.DataFrame(total_sentiment, columns=['party','pos', 'neu', 'neg'])\n",
    "df_total = df[\"pos\"] + df[\"neu\"] + df[\"neg\"] \n",
    "df_rel = df[df.columns[1:]].div(df_total, 0)*100\n",
    "\n",
    "r = [0,1,2,3,4,5,6]\n",
    "\n",
    "barWidth = 0.85\n",
    "plt.figure(figsize=(18, 10))\n",
    "plt.bar(r, df_rel['pos'], color='green', edgecolor='white', width=barWidth)\n",
    "plt.bar(r, df_rel['neu'], bottom=df_rel['pos'], color='grey', edgecolor='white', width=barWidth)\n",
    "plt.bar(r, df_rel['neg'], bottom=[i+j for i,j in zip(df_rel['pos'], df_rel['neu'])], color='red', edgecolor='white', width=barWidth)\n",
    " \n",
    "# Custom x axis\n",
    "plt.xticks(r, parties_list)\n",
    "plt.xlabel(\"Party\", fontsize='18')\n",
    "plt.ylabel(\"Sentiment recognized in Percent\", fontsize='18')\n",
    "plt.title('Sentiment Recognized in % per Party', fontsize=18)\n",
    "plt.savefig('SentimentParty', dpi=100)"
   ],
   "metadata": {
    "collapsed": false,
    "ExecuteTime": {
     "end_time": "2023-10-09T16:21:51.148287100Z",
     "start_time": "2023-10-09T16:21:50.730286800Z"
    }
   },
   "id": "1a8271613cd8012e"
  },
  {
   "cell_type": "code",
   "execution_count": 219,
   "outputs": [
    {
     "name": "stdout",
     "output_type": "stream",
     "text": [
      "         pos        neu        neg\n",
      "0  67.063922  20.455038  12.481040\n",
      "1  60.538117  25.076937  14.384947\n",
      "2  54.785479  26.567657  18.646865\n",
      "3  60.879036  21.271143  17.849821\n",
      "4  57.469794  23.617626  18.912580\n",
      "5  51.736093  25.085403  23.178504\n",
      "6  49.305728  22.983128  27.711143\n",
      "7  46.376812  21.778863  31.844326\n"
     ]
    },
    {
     "data": {
      "text/plain": "<Figure size 1296x720 with 1 Axes>",
      "image/png": "[encoded data removed]"
     },
     "metadata": {
      "needs_background": "light"
     },
     "output_type": "display_data"
    }
   ],
   "source": [
    "sort_by_era = []\n",
    "for i in range(len(era_list)):\n",
    "    f = data.loc[data['era'] == era_list[i]]['total_sentiment']\n",
    "    f.reset_index(drop=True, inplace=True)\n",
    "    sort_by_era.append(f)\n",
    "total_sentiment = []\n",
    "for i in range(len(sort_by_era)):\n",
    "    pos = 0\n",
    "    neu = 0\n",
    "    neg = 0\n",
    "    for j in range(len(sort_by_era[i])):\n",
    "        pos += sort_by_era[i][j][0]\n",
    "        neu += sort_by_era[i][j][1]\n",
    "        neg += sort_by_era[i][j][2]\n",
    "    total_sentiment.append([era_list[i], pos, neg, neu])\n",
    "df = pd.DataFrame(total_sentiment, columns=['era','pos', 'neu', 'neg'])\n",
    "df_total = df[\"pos\"] + df[\"neu\"] + df[\"neg\"] \n",
    "df_rel = df[df.columns[1:]].div(df_total, 0)*100\n",
    "\n",
    "r = [0,1,2,3,4,5,6,7]\n",
    "\n",
    "barWidth = 0.85\n",
    "plt.figure(figsize=(18, 10))\n",
    "plt.bar(r, df_rel['pos'], color='green', edgecolor='white', width=barWidth)\n",
    "plt.bar(r, df_rel['neu'], bottom=df_rel['pos'], color='grey', edgecolor='white', width=barWidth)\n",
    "plt.bar(r, df_rel['neg'], bottom=[i+j for i,j in zip(df_rel['pos'], df_rel['neu'])], color='red', edgecolor='white', width=barWidth)\n",
    " \n",
    "# Custom x axis\n",
    "plt.xticks(r, ['ERep', 'JackDemo', 'SectConf', 'GildAge', 'ProgEra', 'Depr&WC', 'SC&SR', 'Glob'])\n",
    "plt.xlabel(\"Time Period\", fontsize='18')\n",
    "plt.ylabel(\"Sentiment recognized in Percent\", fontsize='18')\n",
    "plt.title('Sentiment Recognized in % per Time Period', fontsize=18)\n",
    "plt.savefig('SentimentEra', dpi=100)\n",
    "print(df_rel)\n"
   ],
   "metadata": {
    "collapsed": false,
    "ExecuteTime": {
     "end_time": "2023-10-09T16:21:54.493504900Z",
     "start_time": "2023-10-09T16:21:54.082503700Z"
    }
   },
   "id": "98952a777dacfa09"
  },
  {
   "cell_type": "code",
   "execution_count": null,
   "outputs": [],
   "source": [],
   "metadata": {
    "collapsed": false
   },
   "id": "e3fa1a58af5f4ffe"
  }
 ],
 "metadata": {
  "kernelspec": {
   "display_name": "Python 3",
   "language": "python",
   "name": "python3"
  },
  "language_info": {
   "codemirror_mode": {
    "name": "ipython",
    "version": 2
   },
   "file_extension": ".py",
   "mimetype": "text/x-python",
   "name": "python",
   "nbconvert_exporter": "python",
   "pygments_lexer": "ipython2",
   "version": "2.7.6"
  }
 },
 "nbformat": 4,
 "nbformat_minor": 5
}
