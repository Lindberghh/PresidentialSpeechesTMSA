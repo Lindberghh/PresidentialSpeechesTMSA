{
 "cells": [
  {
   "cell_type": "markdown",
   "source": [
    "# Topic Modelling"
   ],
   "metadata": {
    "collapsed": false
   },
   "id": "d75779517a0ca1a8"
  },
  {
   "cell_type": "code",
   "execution_count": 159,
   "id": "initial_id",
   "metadata": {
    "collapsed": true,
    "ExecuteTime": {
     "end_time": "2023-10-05T03:40:01.274230100Z",
     "start_time": "2023-10-05T03:40:00.937231200Z"
    }
   },
   "outputs": [],
   "source": [
    "import string\n",
    "\n",
    "import numpy as np\n",
    "import scipy\n",
    "import pandas as pd\n",
    "import re\n",
    "\n",
    "import gensim\n",
    "from gensim.corpora import Dictionary\n",
    "from gensim.models import LdaModel\n",
    "from gensim.matutils import corpus2csc\n",
    "from sklearn.feature_extraction.text import CountVectorizer\n",
    "\n",
    "import html\n",
    "\n",
    "import nltk\n",
    "from nltk.tokenize import word_tokenize\n",
    "from nltk.stem import WordNetLemmatizer\n",
    "from nltk.corpus import stopwords"
   ]
  },
  {
   "cell_type": "code",
   "execution_count": 160,
   "outputs": [],
   "source": [
    "data = pd.read_json('venv/data/presidential_speeches.json') # load data\n",
    "data.sort_values(by=['date'], inplace=True) # sort by data\n",
    "data.reset_index(drop=True, inplace=True) # reset index"
   ],
   "metadata": {
    "collapsed": false,
    "ExecuteTime": {
     "end_time": "2023-10-05T03:40:01.608231900Z",
     "start_time": "2023-10-05T03:40:00.961231400Z"
    }
   },
   "id": "81e927ca316e6aa7"
  },
  {
   "cell_type": "markdown",
   "source": [
    "## Add relevant metadata"
   ],
   "metadata": {
    "collapsed": false
   },
   "id": "a13fa00279adaa1e"
  },
  {
   "cell_type": "code",
   "execution_count": 161,
   "outputs": [],
   "source": [
    "# sort presidents to their parties\n",
    "president_list = []\n",
    "for i in range(len(data['president'].unique())):\n",
    "    president_list.append(data['president'].unique()[i])\n",
    "parties_list= ['Federalist', 'Democratic-Republican', 'National Republican', 'Democratic', 'Whig', 'Republican', 'Democratic (Union)']\n",
    "sort_party = [0, 0, 1, 1, 1, 2, 3, 3, 4, 4, 3, 4, 4, 5, 3, 3, 6, 5, 5, 5, 5, 3, 5, 5, 5, 5, 3, 5, 5, 5, 3, 3, 5, 5, 3, 3, 5, 5, 3, 5, 3, 5, 3, 5, 3]\n",
    "party = []\n",
    "for i in range(len(sort_party)):\n",
    "    party.append(parties_list[sort_party[i]])\n",
    "data['party'] = pd.Series(dtype='string')\n",
    "for i in range(len(president_list)):\n",
    "    data['party'][data['president'] == president_list[i]] = party[i]\n",
    "# assign each speech its respective era\n",
    "data['era'] = pd.Series(dtype='string')\n",
    "era_list = ['Early Republic', 'Jacksonian Democracy', 'Sectional Conflict', 'Gilded Age', 'Progressive Era', 'Depression and World Conflict', 'Social Change and Soviet Relations', 'Globalization']\n",
    "for i in range(len(data)):\n",
    "    if data['date'][i] < pd.Timestamp('1829-01-01T12'):\n",
    "        data['era'][i] =  era_list[0]\n",
    "    if pd.Timestamp('1829-01-01T12') <= data['date'][i] < pd.Timestamp('1853-01-01T12'):\n",
    "        data['era'][i] = era_list[1]\n",
    "    elif pd.Timestamp('1853-01-01T12') <= data['date'][i] < pd.Timestamp('1881-01-01T12'):\n",
    "        data['era'][i] = era_list[2]\n",
    "    elif pd.Timestamp('1881-01-01T12') <= data['date'][i] < pd.Timestamp('1897-01-01T12'):\n",
    "        data['era'][i] = era_list[3]\n",
    "    elif pd.Timestamp('1897-01-01T12') <= data['date'][i] < pd.Timestamp('1921-01-01T12'):\n",
    "        data['era'][i] = era_list[4]\n",
    "    elif pd.Timestamp('1921-01-01T12') <= data['date'][i] < pd.Timestamp('1961-01-01T12'):\n",
    "        data['era'][i] = era_list[5]\n",
    "    elif pd.Timestamp('1961-01-01T12') <= data['date'][i] < pd.Timestamp('1989-01-01T12'):\n",
    "        data['era'][i] = era_list[6]\n",
    "    elif pd.Timestamp('1989-01-01T12') <= data['date'][i]:\n",
    "        data['era'][i] = era_list[7]"
   ],
   "metadata": {
    "collapsed": false,
    "ExecuteTime": {
     "end_time": "2023-10-05T03:40:01.926233400Z",
     "start_time": "2023-10-05T03:40:01.632229800Z"
    }
   },
   "id": "5c697359139ae4f2"
  },
  {
   "cell_type": "code",
   "execution_count": 162,
   "outputs": [],
   "source": [
    "data['transcript'].replace(to_replace='(Applause.)', regex=True, value='', inplace=True)\n",
    "data['transcript'].replace(to_replace='(Laughter.)', regex=True, value='', inplace=True)"
   ],
   "metadata": {
    "collapsed": false,
    "ExecuteTime": {
     "end_time": "2023-10-05T03:40:02.083230800Z",
     "start_time": "2023-10-05T03:40:01.967229800Z"
    }
   },
   "id": "b0c3ad2ac1f5781e"
  },
  {
   "cell_type": "code",
   "execution_count": 163,
   "outputs": [
    {
     "name": "stderr",
     "output_type": "stream",
     "text": [
      "C:\\Users\\Enno\\AppData\\Local\\Temp/ipykernel_6540/1438919703.py:2: SettingWithCopyWarning: \n",
      "A value is trying to be set on a copy of a slice from a DataFrame\n",
      "\n",
      "See the caveats in the documentation: https://pandas.pydata.org/pandas-docs/stable/user_guide/indexing.html#returning-a-view-versus-a-copy\n",
      "  data['transcript'][i] = data['transcript'][i].replace('\\'', '')\n"
     ]
    }
   ],
   "source": [
    "for i in range(len(data)):\n",
    "    data['transcript'][i] = data['transcript'][i].replace('\\'', '')"
   ],
   "metadata": {
    "collapsed": false,
    "ExecuteTime": {
     "end_time": "2023-10-05T03:40:02.297229500Z",
     "start_time": "2023-10-05T03:40:02.090229400Z"
    }
   },
   "id": "761c8efae77f35cc"
  },
  {
   "cell_type": "markdown",
   "source": [
    "## Preprocessing"
   ],
   "metadata": {
    "collapsed": false
   },
   "id": "439c1005dabd237d"
  },
  {
   "cell_type": "markdown",
   "source": [
    "The Following section is code adapted from Srikanth Shenoy and can be found under https://towardsdatascience.com/elegant-text-pre-processing-with-nltk-in-sklearn-pipeline-d6fe18b91eb8 (accessed on 02/10/2023)"
   ],
   "metadata": {
    "collapsed": false
   },
   "id": "998f7a90e0e2bed4"
  },
  {
   "cell_type": "code",
   "execution_count": 164,
   "outputs": [],
   "source": [
    "import string\n",
    "import re\n",
    "import contractions\n",
    "\n",
    "import nltk\n",
    "from nltk.corpus import stopwords\n",
    "from nltk.tokenize import word_tokenize\n",
    "from nltk.corpus import wordnet\n",
    "from nltk.stem import WordNetLemmatizer\n",
    "\n",
    "from bs4 import BeautifulSoup\n",
    "from textblob import TextBlob\n",
    "from unidecode import unidecode"
   ],
   "metadata": {
    "collapsed": false,
    "ExecuteTime": {
     "end_time": "2023-10-05T03:40:02.327226600Z",
     "start_time": "2023-10-05T03:40:02.292230400Z"
    }
   },
   "id": "9507ca52d096d88c"
  },
  {
   "cell_type": "code",
   "execution_count": 165,
   "outputs": [],
   "source": [
    "def lemmatize_pos_tagged_text(text, lemmatizer, pos_tag_dict):\n",
    "  sentences = nltk.sent_tokenize(text)\n",
    "  new_sentences = []\n",
    "\n",
    "  for sentence in sentences:\n",
    "    sentence = sentence.lower()\n",
    "    new_sentence_words = []\n",
    "    #one pos_tuple for sentence\n",
    "    pos_tuples = nltk.pos_tag(nltk.word_tokenize(sentence)) \n",
    "\n",
    "    for word_idx, word in enumerate(nltk.word_tokenize(sentence)):\n",
    "      nltk_word_pos = pos_tuples[word_idx][1]\n",
    "      wordnet_word_pos = pos_tag_dict.get(\n",
    "                          nltk_word_pos[0].upper(), None)\n",
    "      if wordnet_word_pos is not None:\n",
    "        new_word = lemmatizer.lemmatize(word, wordnet_word_pos)\n",
    "      else:\n",
    "        new_word = lemmatizer.lemmatize(word)\n",
    "\n",
    "      new_sentence_words.append(new_word)\n",
    "\n",
    "    new_sentence = \" \".join(new_sentence_words)\n",
    "    new_sentences.append(new_sentence)\n",
    "\n",
    "  return \" \".join(new_sentences)"
   ],
   "metadata": {
    "collapsed": false,
    "ExecuteTime": {
     "end_time": "2023-10-05T03:40:02.356229800Z",
     "start_time": "2023-10-05T03:40:02.311229800Z"
    }
   },
   "id": "fa478aed46ed3a23"
  },
  {
   "cell_type": "code",
   "execution_count": 166,
   "outputs": [],
   "source": [
    "def download_if_non_existent(res_path, res_name):\n",
    "  try:\n",
    "    nltk.data.find(res_path)\n",
    "  except LookupError:\n",
    "    print(f'resource {res_path} not found. Downloading now...')\n",
    "    nltk.download(res_name)\n",
    "class NltkPreprocessingSteps:\n",
    "  def __init__(self, X):\n",
    "    self.X = X\n",
    "    download_if_non_existent('corpora/stopwords', 'stopwords')\n",
    "    download_if_non_existent('tokenizers/punkt', 'punkt')\n",
    "    download_if_non_existent('taggers/averaged_perceptron_tagger',\n",
    "                             'averaged_perceptron_tagger')\n",
    "    download_if_non_existent('corpora/wordnet', 'wordnet')\n",
    "    download_if_non_existent('corpora/omw-1.4', 'omw-1.4')\n",
    "\n",
    "    self.sw_nltk = stopwords.words('english')\n",
    "    new_stopwords = ['<*>', 'get', 'mr', 'thank', 'th', 'q', 'president']\n",
    "    self.sw_nltk.extend(new_stopwords)\n",
    "    self.sw_nltk.remove('not')\n",
    "\n",
    "    self.pos_tag_dict = {\"J\": wordnet.ADJ,\n",
    "                    \"N\": wordnet.NOUN,\n",
    "                    \"V\": wordnet.VERB,\n",
    "                    \"R\": wordnet.ADV}\n",
    "\n",
    "    # '!\"#$%&'()*+,-./:;<=>?@[\\]^_`{|}~' 32 punctuations in python\n",
    "    # we dont want to replace . first time around\n",
    "    self.remove_punctuations = string.punctuation.replace('.','')\n",
    "\n",
    "  def remove_html_tags(self):\n",
    "    self.X = self.X.apply(\n",
    "            lambda x: BeautifulSoup(x, 'html.parser').get_text())\n",
    "    return self\n",
    "\n",
    "  def replace_diacritics(self):\n",
    "    self.X = self.X.apply(\n",
    "            lambda x: unidecode(x, errors=\"preserve\"))\n",
    "    return self\n",
    "\n",
    "  def to_lower(self):\n",
    "    self.X = np.apply_along_axis(lambda x: x.lower(), self.X)\n",
    "    return self\n",
    "\n",
    "  def expand_contractions(self):\n",
    "    self.X = self.X.apply(\n",
    "            lambda x: \" \".join([contractions.fix(expanded_word) \n",
    "                        for expanded_word in x.split()]))\n",
    "    return self\n",
    "\n",
    "  def remove_numbers(self):\n",
    "    self.X = self.X.apply(lambda x: re.sub(r'\\d+', '', x))\n",
    "    return self\n",
    "\n",
    "  def replace_dots_with_spaces(self):\n",
    "    self.X = self.X.apply(lambda x: re.sub(\"[.]\", \" \", x))\n",
    "    return self\n",
    "\n",
    "  def remove_punctuations_except_periods(self):\n",
    "    self.X = self.X.apply(\n",
    "                 lambda x: re.sub('[%s]' %\n",
    "                  re.escape(self.remove_punctuations), '' , x))\n",
    "    return self\n",
    "\n",
    "  def remove_all_punctuations(self):\n",
    "    self.X = self.X.apply(lambda x: re.sub('[%s]' %\n",
    "                          re.escape(string.punctuation), '' , x))\n",
    "    return self\n",
    "\n",
    "  def remove_double_spaces(self):\n",
    "    self.X = self.X.apply(lambda x: re.sub(' +', ' ', x))\n",
    "    return self\n",
    "\n",
    "  def fix_typos(self):\n",
    "    self.X = self.X.apply(lambda x: str(TextBlob(x).correct()))\n",
    "    return self\n",
    "\n",
    "  def remove_stopwords(self):\n",
    "    # remove stop words from token list in each column\n",
    "    self.X = self.X.apply(\n",
    "            lambda x: \" \".join([ word for word in x.split() \n",
    "                     if word not in self.sw_nltk]) )\n",
    "    return self\n",
    "\n",
    "  def lemmatize(self):\n",
    "    lemmatizer = WordNetLemmatizer()\n",
    "    self.X = self.X.apply(lambda x: lemmatize_pos_tagged_text(\n",
    "                           x, lemmatizer, self.pos_tag_dict))\n",
    "    return self\n",
    "\n",
    "  def get_processed_text(self):\n",
    "    return self.X"
   ],
   "metadata": {
    "collapsed": false,
    "ExecuteTime": {
     "end_time": "2023-10-05T03:40:02.417226200Z",
     "start_time": "2023-10-05T03:40:02.348230500Z"
    }
   },
   "id": "bca249665ff2dd0f"
  },
  {
   "cell_type": "code",
   "execution_count": 167,
   "outputs": [
    {
     "name": "stdout",
     "output_type": "stream",
     "text": [
      "resource corpora/wordnet not found. Downloading now...\n"
     ]
    },
    {
     "name": "stderr",
     "output_type": "stream",
     "text": [
      "[nltk_data] Downloading package wordnet to\n",
      "[nltk_data]     C:\\Users\\Enno\\AppData\\Roaming\\nltk_data...\n",
      "[nltk_data]   Package wordnet is already up-to-date!\n",
      "[nltk_data] Downloading package omw-1.4 to\n",
      "[nltk_data]     C:\\Users\\Enno\\AppData\\Roaming\\nltk_data...\n",
      "[nltk_data]   Package omw-1.4 is already up-to-date!\n"
     ]
    },
    {
     "name": "stdout",
     "output_type": "stream",
     "text": [
      "resource corpora/omw-1.4 not found. Downloading now...\n"
     ]
    }
   ],
   "source": [
    "txt_preproc = NltkPreprocessingSteps(data['transcript'])\n",
    "processed_text = \\\n",
    "    txt_preproc \\\n",
    "    .remove_html_tags()\\\n",
    "    .replace_diacritics()\\\n",
    "    .expand_contractions()\\\n",
    "    .remove_numbers()\\\n",
    "    .remove_punctuations_except_periods()\\\n",
    "    .lemmatize()\\\n",
    "    .remove_double_spaces()\\\n",
    "    .remove_all_punctuations()\\\n",
    "    .remove_stopwords()\\\n",
    "    .get_processed_text()"
   ],
   "metadata": {
    "collapsed": false,
    "ExecuteTime": {
     "end_time": "2023-10-05T03:49:02.838871300Z",
     "start_time": "2023-10-05T03:40:02.372228Z"
    }
   },
   "id": "ce0caceec18dff47"
  },
  {
   "cell_type": "code",
   "execution_count": 168,
   "outputs": [],
   "source": [
    "for i in range(len(processed_text)):\n",
    "    processed_text[i] = list(processed_text[i].split(' '))"
   ],
   "metadata": {
    "collapsed": false,
    "ExecuteTime": {
     "end_time": "2023-10-05T03:49:03.058869200Z",
     "start_time": "2023-10-05T03:49:02.946866600Z"
    }
   },
   "id": "79e4da661fd5eba0"
  },
  {
   "cell_type": "code",
   "execution_count": 169,
   "outputs": [],
   "source": [
    "# get bigrams\n",
    "from gensim.models import Phrases\n",
    "bigram = Phrases(processed_text, min_count=20)\n",
    "for i in range(len(processed_text)):\n",
    "    for token in bigram[processed_text[i]]:\n",
    "        if '_' in token:\n",
    "            processed_text[i].append(token)"
   ],
   "metadata": {
    "collapsed": false,
    "ExecuteTime": {
     "end_time": "2023-10-05T03:49:16.104973600Z",
     "start_time": "2023-10-05T03:49:03.149869100Z"
    }
   },
   "id": "6ce98f3ead4a37d8"
  },
  {
   "cell_type": "code",
   "execution_count": 170,
   "outputs": [],
   "source": [
    "dictionary = Dictionary(processed_text)\n",
    "dictionary.filter_extremes(no_below=20, no_above=0.5)\n",
    "bow_corpus = [dictionary.doc2bow(text) for text in processed_text] "
   ],
   "metadata": {
    "collapsed": false,
    "ExecuteTime": {
     "end_time": "2023-10-05T03:49:20.430511900Z",
     "start_time": "2023-10-05T03:49:16.114975200Z"
    }
   },
   "id": "cb49c2d399e49ee2"
  },
  {
   "cell_type": "code",
   "execution_count": 171,
   "outputs": [],
   "source": [
    "num_topics = 10\n",
    "chunksize = 400\n",
    "passes = 20\n",
    "iterations = 400\n",
    "eval_every = None\n",
    "\n",
    "model = gensim.models.LdaModel(\n",
    "corpus=bow_corpus,\n",
    "id2word=dictionary,\n",
    "chunksize=chunksize,\n",
    "alpha='auto',\n",
    "eta='auto',\n",
    "iterations=iterations,\n",
    "num_topics=num_topics,\n",
    "passes=passes,\n",
    "eval_every=eval_every\n",
    ")\n",
    "topics = model.show_topics(\n",
    "num_topics=num_topics,\n",
    "num_words=10,\n",
    "log=False,\n",
    "formatted=False)"
   ],
   "metadata": {
    "collapsed": false,
    "ExecuteTime": {
     "end_time": "2023-10-05T03:52:53.478102200Z",
     "start_time": "2023-10-05T03:49:20.441513400Z"
    }
   },
   "id": "a341567af2f4632c"
  },
  {
   "cell_type": "code",
   "execution_count": 172,
   "outputs": [
    {
     "name": "stdout",
     "output_type": "stream",
     "text": [
      "topic: 0\n",
      "Words: ['job', 'tax', 'family', 'child', 'health', 'care', 'cut', 'business', 'economy', 'tonight']\n",
      "topic: 1\n",
      "Words: ['constitution', 'territory', 'person', 'bill', 'officer', 'executive', 'slavery', 'case', 'subject', 'senate']\n",
      "topic: 2\n",
      "Words: ['subject', 'treaty', 'amount', 'report', 'department', 'treasury', 'secretary', 'condition', 'relation', 'consideration']\n",
      "topic: 3\n",
      "Words: ['business', 'condition', 'tariff', 'labor', 'court', 'commission', 'man', 'control', 'show', 'legislation']\n",
      "topic: 4\n",
      "Words: ['senator', 'republican', 'party', 'kennedy', 'vote', 'democratic', 'bill', 'program', 'administration', 'candidate']\n",
      "topic: 5\n",
      "Words: ['vietnam', 'talk', 'south', 'tell', 'secretary', 'try', 'happen', 'lot', 'week', 'report']\n",
      "topic: 6\n",
      "Words: ['child', 'woman', 'god', 'democracy', 'fight', 'family', 'iraq', 'human', 'man', 'build']\n",
      "topic: 7\n",
      "Words: ['enemy', 'washington', 'fight', 'german', 'sea', 'ship', 'attack', 'germany', 'republic', 'army']\n",
      "topic: 8\n",
      "Words: ['soviet', 'nuclear', 'defense', 'weapon', 'economic', 'soviet_union', 'arm', 'program', 'strength', 'europe']\n",
      "topic: 9\n",
      "Words: ['federal', 'tax', 'program', 'economic', 'price', 'problem', 'rate', 'cost', 'industry', 'recommend']\n"
     ]
    }
   ],
   "source": [
    "for topic_id, topic in topics:\n",
    "    print('topic: {}'.format(topic_id))\n",
    "    print('Words: {}'.format([word for word, _ in topic]))"
   ],
   "metadata": {
    "collapsed": false,
    "ExecuteTime": {
     "end_time": "2023-10-05T03:52:53.479107800Z",
     "start_time": "2023-10-05T03:52:53.457106Z"
    }
   },
   "id": "69d7705edad6cb7c"
  },
  {
   "cell_type": "code",
   "execution_count": 172,
   "outputs": [],
   "source": [],
   "metadata": {
    "collapsed": false,
    "ExecuteTime": {
     "end_time": "2023-10-05T03:52:53.512106800Z",
     "start_time": "2023-10-05T03:52:53.467106100Z"
    }
   },
   "id": "26858a63b705461d"
  },
  {
   "cell_type": "markdown",
   "source": [],
   "metadata": {
    "collapsed": false
   },
   "id": "bce151156d14b5fb"
  },
  {
   "cell_type": "code",
   "execution_count": 172,
   "outputs": [],
   "source": [],
   "metadata": {
    "collapsed": false,
    "ExecuteTime": {
     "end_time": "2023-10-05T03:52:53.512106800Z",
     "start_time": "2023-10-05T03:52:53.483106900Z"
    }
   },
   "id": "b3cb325ff7e653c2"
  },
  {
   "cell_type": "code",
   "execution_count": 172,
   "outputs": [],
   "source": [],
   "metadata": {
    "collapsed": false,
    "ExecuteTime": {
     "end_time": "2023-10-05T03:52:53.533101800Z",
     "start_time": "2023-10-05T03:52:53.498105600Z"
    }
   },
   "id": "db57f78a103ff661"
  }
 ],
 "metadata": {
  "kernelspec": {
   "display_name": "Python 3",
   "language": "python",
   "name": "python3"
  },
  "language_info": {
   "codemirror_mode": {
    "name": "ipython",
    "version": 2
   },
   "file_extension": ".py",
   "mimetype": "text/x-python",
   "name": "python",
   "nbconvert_exporter": "python",
   "pygments_lexer": "ipython2",
   "version": "2.7.6"
  }
 },
 "nbformat": 4,
 "nbformat_minor": 5
}
